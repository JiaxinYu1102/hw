{
 "cells": [
  {
   "cell_type": "code",
   "execution_count": 1,
   "metadata": {},
   "outputs": [],
   "source": [
    "import numpy as np"
   ]
  },
  {
   "cell_type": "code",
   "execution_count": 2,
   "metadata": {},
   "outputs": [],
   "source": [
    "data = np.random.randn(2, 3)"
   ]
  },
  {
   "cell_type": "code",
   "execution_count": 3,
   "metadata": {},
   "outputs": [
    {
     "data": {
      "text/plain": [
       "array([[-1.02728384, -1.11089997,  0.54581522],\n",
       "       [ 0.27820905,  0.92275668,  1.61203702]])"
      ]
     },
     "execution_count": 3,
     "metadata": {},
     "output_type": "execute_result"
    }
   ],
   "source": [
    "data"
   ]
  },
  {
   "cell_type": "code",
   "execution_count": 4,
   "metadata": {},
   "outputs": [
    {
     "data": {
      "text/plain": [
       "dtype('float64')"
      ]
     },
     "execution_count": 4,
     "metadata": {},
     "output_type": "execute_result"
    }
   ],
   "source": [
    "data.shape\n",
    "data.dtype"
   ]
  },
  {
   "cell_type": "code",
   "execution_count": 5,
   "metadata": {},
   "outputs": [
    {
     "data": {
      "text/plain": [
       "(2, 3)"
      ]
     },
     "execution_count": 5,
     "metadata": {},
     "output_type": "execute_result"
    }
   ],
   "source": [
    "data.shape"
   ]
  },
  {
   "cell_type": "code",
   "execution_count": 6,
   "metadata": {},
   "outputs": [],
   "source": [
    "array = np.array(data)"
   ]
  },
  {
   "cell_type": "code",
   "execution_count": 7,
   "metadata": {},
   "outputs": [
    {
     "data": {
      "text/plain": [
       "array([[-1.02728384, -1.11089997,  0.54581522],\n",
       "       [ 0.27820905,  0.92275668,  1.61203702]])"
      ]
     },
     "execution_count": 7,
     "metadata": {},
     "output_type": "execute_result"
    }
   ],
   "source": [
    "array"
   ]
  },
  {
   "cell_type": "code",
   "execution_count": 8,
   "metadata": {},
   "outputs": [],
   "source": [
    "arr = np.array(data)"
   ]
  },
  {
   "cell_type": "code",
   "execution_count": 9,
   "metadata": {},
   "outputs": [
    {
     "data": {
      "text/plain": [
       "2"
      ]
     },
     "execution_count": 9,
     "metadata": {},
     "output_type": "execute_result"
    }
   ],
   "source": [
    "arr.ndim"
   ]
  },
  {
   "cell_type": "code",
   "execution_count": 10,
   "metadata": {},
   "outputs": [
    {
     "ename": "AttributeError",
     "evalue": "module 'numpy' has no attribute 'zeors'",
     "output_type": "error",
     "traceback": [
      "\u001b[1;31m---------------------------------------------------------------------------\u001b[0m",
      "\u001b[1;31mAttributeError\u001b[0m                            Traceback (most recent call last)",
      "\u001b[1;32m<ipython-input-10-9801d3faab44>\u001b[0m in \u001b[0;36m<module>\u001b[1;34m()\u001b[0m\n\u001b[1;32m----> 1\u001b[1;33m \u001b[0mnp\u001b[0m\u001b[1;33m.\u001b[0m\u001b[0mzeors\u001b[0m\u001b[1;33m(\u001b[0m\u001b[1;33m(\u001b[0m\u001b[1;36m3\u001b[0m\u001b[1;33m,\u001b[0m \u001b[1;36m6\u001b[0m\u001b[1;33m)\u001b[0m\u001b[1;33m)\u001b[0m\u001b[1;33m\u001b[0m\u001b[0m\n\u001b[0m",
      "\u001b[1;31mAttributeError\u001b[0m: module 'numpy' has no attribute 'zeors'"
     ]
    }
   ],
   "source": [
    "np.zeors((3, 6))"
   ]
  },
  {
   "cell_type": "code",
   "execution_count": 11,
   "metadata": {},
   "outputs": [
    {
     "data": {
      "text/plain": [
       "array([[0., 0., 0., 0., 0., 0.],\n",
       "       [0., 0., 0., 0., 0., 0.],\n",
       "       [0., 0., 0., 0., 0., 0.]])"
      ]
     },
     "execution_count": 11,
     "metadata": {},
     "output_type": "execute_result"
    }
   ],
   "source": [
    "np.zeros((3, 6))"
   ]
  },
  {
   "cell_type": "code",
   "execution_count": 12,
   "metadata": {},
   "outputs": [
    {
     "ename": "TypeError",
     "evalue": "data type not understood",
     "output_type": "error",
     "traceback": [
      "\u001b[1;31m---------------------------------------------------------------------------\u001b[0m",
      "\u001b[1;31mTypeError\u001b[0m                                 Traceback (most recent call last)",
      "\u001b[1;32m<ipython-input-12-0ddd2e0e0771>\u001b[0m in \u001b[0;36m<module>\u001b[1;34m()\u001b[0m\n\u001b[1;32m----> 1\u001b[1;33m \u001b[0mnp\u001b[0m\u001b[1;33m.\u001b[0m\u001b[0mempty\u001b[0m\u001b[1;33m(\u001b[0m\u001b[1;36m2\u001b[0m\u001b[1;33m,\u001b[0m \u001b[1;36m3\u001b[0m\u001b[1;33m,\u001b[0m \u001b[1;36m4\u001b[0m\u001b[1;33m)\u001b[0m\u001b[1;33m\u001b[0m\u001b[0m\n\u001b[0m",
      "\u001b[1;31mTypeError\u001b[0m: data type not understood"
     ]
    }
   ],
   "source": [
    "np.empty(2, 3, 4)"
   ]
  },
  {
   "cell_type": "code",
   "execution_count": 13,
   "metadata": {},
   "outputs": [
    {
     "data": {
      "text/plain": [
       "array([[[5.19362736e-316, 7.75683064e-322, 0.00000000e+000,\n",
       "         0.00000000e+000],\n",
       "        [7.56599806e-307, 1.15998412e-028, 2.44171989e+232,\n",
       "         8.00801729e+159],\n",
       "        [3.35733962e-090, 5.88175940e-062, 8.54406004e-072,\n",
       "         1.08725049e-095]],\n",
       "\n",
       "       [[6.23127688e-038, 4.07356335e+223, 8.94213159e+130,\n",
       "         1.57347469e-076],\n",
       "        [3.24245676e-086, 6.52744652e-038, 6.38415296e-067,\n",
       "         1.95360833e-109],\n",
       "        [2.86752281e+161, 2.78225500e+296, 9.80058441e+252,\n",
       "         1.23971686e+224]]])"
      ]
     },
     "execution_count": 13,
     "metadata": {},
     "output_type": "execute_result"
    }
   ],
   "source": [
    "np.empty((2, 3, 4))"
   ]
  },
  {
   "cell_type": "code",
   "execution_count": 14,
   "metadata": {},
   "outputs": [
    {
     "data": {
      "text/plain": [
       "array([0, 1, 2, 3, 4, 5, 6, 7, 8, 9])"
      ]
     },
     "execution_count": 14,
     "metadata": {},
     "output_type": "execute_result"
    }
   ],
   "source": [
    "np.arange(10)"
   ]
  },
  {
   "cell_type": "code",
   "execution_count": 15,
   "metadata": {},
   "outputs": [
    {
     "data": {
      "text/plain": [
       "array([[-1.02728384, -1.11089997,  0.54581522],\n",
       "       [ 0.27820905,  0.92275668,  1.61203702]])"
      ]
     },
     "execution_count": 15,
     "metadata": {},
     "output_type": "execute_result"
    }
   ],
   "source": [
    "array"
   ]
  },
  {
   "cell_type": "code",
   "execution_count": 16,
   "metadata": {},
   "outputs": [],
   "source": [
    "arr2 = np.arange(10)"
   ]
  },
  {
   "cell_type": "code",
   "execution_count": 17,
   "metadata": {},
   "outputs": [
    {
     "data": {
      "text/plain": [
       "array([0, 1, 2, 3, 4, 5, 6, 7, 8, 9])"
      ]
     },
     "execution_count": 17,
     "metadata": {},
     "output_type": "execute_result"
    }
   ],
   "source": [
    "arr2"
   ]
  },
  {
   "cell_type": "code",
   "execution_count": 18,
   "metadata": {},
   "outputs": [
    {
     "data": {
      "text/plain": [
       "dtype('int32')"
      ]
     },
     "execution_count": 18,
     "metadata": {},
     "output_type": "execute_result"
    }
   ],
   "source": [
    "arr2.dtype"
   ]
  },
  {
   "cell_type": "code",
   "execution_count": 19,
   "metadata": {},
   "outputs": [],
   "source": [
    "f_arr = arr2.astype(np.float64)"
   ]
  },
  {
   "cell_type": "code",
   "execution_count": 20,
   "metadata": {},
   "outputs": [
    {
     "data": {
      "text/plain": [
       "dtype('float64')"
      ]
     },
     "execution_count": 20,
     "metadata": {},
     "output_type": "execute_result"
    }
   ],
   "source": [
    "f_arr.dtype"
   ]
  },
  {
   "cell_type": "code",
   "execution_count": 21,
   "metadata": {
    "scrolled": false
   },
   "outputs": [
    {
     "ename": "AttributeError",
     "evalue": "module 'numpy' has no attribute 'string'",
     "output_type": "error",
     "traceback": [
      "\u001b[1;31m---------------------------------------------------------------------------\u001b[0m",
      "\u001b[1;31mAttributeError\u001b[0m                            Traceback (most recent call last)",
      "\u001b[1;32m<ipython-input-21-f371d75f124f>\u001b[0m in \u001b[0;36m<module>\u001b[1;34m()\u001b[0m\n\u001b[1;32m----> 1\u001b[1;33m \u001b[0mnum_str\u001b[0m \u001b[1;33m=\u001b[0m \u001b[0mnp\u001b[0m\u001b[1;33m.\u001b[0m\u001b[0marray\u001b[0m\u001b[1;33m(\u001b[0m\u001b[1;33m[\u001b[0m\u001b[1;34m'1.1'\u001b[0m\u001b[1;33m,\u001b[0m \u001b[1;34m'-0.5'\u001b[0m\u001b[1;33m]\u001b[0m\u001b[1;33m,\u001b[0m\u001b[0mdtype\u001b[0m \u001b[1;33m=\u001b[0m \u001b[0mnp\u001b[0m\u001b[1;33m.\u001b[0m\u001b[0mstring\u001b[0m\u001b[1;33m)\u001b[0m\u001b[1;33m\u001b[0m\u001b[0m\n\u001b[0m",
      "\u001b[1;31mAttributeError\u001b[0m: module 'numpy' has no attribute 'string'"
     ]
    }
   ],
   "source": [
    "num_str = np.array(['1.1', '-0.5'],dtype = np.string)"
   ]
  },
  {
   "cell_type": "code",
   "execution_count": 22,
   "metadata": {},
   "outputs": [],
   "source": [
    "num_str = np.array(['1.1', '-0.5'],dtype = np.string_)"
   ]
  },
  {
   "cell_type": "code",
   "execution_count": 23,
   "metadata": {},
   "outputs": [
    {
     "data": {
      "text/plain": [
       "array([ 1.1, -0.5])"
      ]
     },
     "execution_count": 23,
     "metadata": {},
     "output_type": "execute_result"
    }
   ],
   "source": [
    "num_str.astype(float)"
   ]
  },
  {
   "cell_type": "code",
   "execution_count": 24,
   "metadata": {},
   "outputs": [
    {
     "ename": "NameError",
     "evalue": "name 'version' is not defined",
     "output_type": "error",
     "traceback": [
      "\u001b[1;31m---------------------------------------------------------------------------\u001b[0m",
      "\u001b[1;31mNameError\u001b[0m                                 Traceback (most recent call last)",
      "\u001b[1;32m<ipython-input-24-605b5d1778ad>\u001b[0m in \u001b[0;36m<module>\u001b[1;34m()\u001b[0m\n\u001b[1;32m----> 1\u001b[1;33m \u001b[0mversion\u001b[0m\u001b[1;33m\u001b[0m\u001b[0m\n\u001b[0m",
      "\u001b[1;31mNameError\u001b[0m: name 'version' is not defined"
     ]
    }
   ],
   "source": [
    "version"
   ]
  },
  {
   "cell_type": "code",
   "execution_count": 25,
   "metadata": {},
   "outputs": [],
   "source": [
    "arr = np.array([[1.,2.,3.], [4.,5.,6.]])"
   ]
  },
  {
   "cell_type": "code",
   "execution_count": 26,
   "metadata": {},
   "outputs": [
    {
     "data": {
      "text/plain": [
       "array([[1., 2., 3.],\n",
       "       [4., 5., 6.]])"
      ]
     },
     "execution_count": 26,
     "metadata": {},
     "output_type": "execute_result"
    }
   ],
   "source": [
    "arr"
   ]
  },
  {
   "cell_type": "code",
   "execution_count": 27,
   "metadata": {},
   "outputs": [
    {
     "data": {
      "text/plain": [
       "array([[ 1.,  4.,  9.],\n",
       "       [16., 25., 36.]])"
      ]
     },
     "execution_count": 27,
     "metadata": {},
     "output_type": "execute_result"
    }
   ],
   "source": [
    "arr*arr"
   ]
  },
  {
   "cell_type": "code",
   "execution_count": 28,
   "metadata": {},
   "outputs": [
    {
     "data": {
      "text/plain": [
       "array([[1.        , 0.5       , 0.33333333],\n",
       "       [0.25      , 0.2       , 0.16666667]])"
      ]
     },
     "execution_count": 28,
     "metadata": {},
     "output_type": "execute_result"
    }
   ],
   "source": [
    "1/arr"
   ]
  },
  {
   "cell_type": "code",
   "execution_count": 29,
   "metadata": {},
   "outputs": [
    {
     "data": {
      "text/plain": [
       "array([[1.        , 1.41421356, 1.73205081],\n",
       "       [2.        , 2.23606798, 2.44948974]])"
      ]
     },
     "execution_count": 29,
     "metadata": {},
     "output_type": "execute_result"
    }
   ],
   "source": [
    "arr**0.5"
   ]
  },
  {
   "cell_type": "code",
   "execution_count": 30,
   "metadata": {},
   "outputs": [],
   "source": [
    "arr2 = np.random.randn(2,5,2,3)"
   ]
  },
  {
   "cell_type": "code",
   "execution_count": 31,
   "metadata": {},
   "outputs": [
    {
     "data": {
      "text/plain": [
       "array([[[[ 0.48107866, -0.79314487, -1.47756067],\n",
       "         [ 0.09407114,  0.2615705 , -1.44659285]],\n",
       "\n",
       "        [[-1.60229666,  1.3599674 , -0.07119627],\n",
       "         [ 0.03169446,  0.32066494,  0.26776223]],\n",
       "\n",
       "        [[ 0.08649464,  0.44457653,  1.40189589],\n",
       "         [-1.96431845, -0.77746754, -0.37083829]],\n",
       "\n",
       "        [[-0.40378837,  0.07266952, -0.25222511],\n",
       "         [ 0.77625823,  0.02534925, -1.28526196]],\n",
       "\n",
       "        [[ 0.69611809, -0.06569523,  1.4077907 ],\n",
       "         [-1.58147727, -1.10863526, -1.08760531]]],\n",
       "\n",
       "\n",
       "       [[[ 1.00300101,  0.75029316, -0.93185606],\n",
       "         [-0.22204537,  0.86730925,  1.34007467]],\n",
       "\n",
       "        [[ 0.10894033, -0.21049678, -0.95646067],\n",
       "         [-0.63064565,  1.99895588, -0.24735951]],\n",
       "\n",
       "        [[ 0.90012604,  0.44380358,  0.67409196],\n",
       "         [-0.01041596, -0.63800318,  0.88624467]],\n",
       "\n",
       "        [[ 0.99996255,  0.27570834, -0.740041  ],\n",
       "         [ 0.18361918, -0.2815601 , -1.16333551]],\n",
       "\n",
       "        [[-0.42161651, -0.17182216, -3.0005917 ],\n",
       "         [ 0.36821097, -0.57768061,  0.7246729 ]]]])"
      ]
     },
     "execution_count": 31,
     "metadata": {},
     "output_type": "execute_result"
    }
   ],
   "source": [
    "arr2"
   ]
  },
  {
   "cell_type": "code",
   "execution_count": 32,
   "metadata": {},
   "outputs": [],
   "source": [
    "arr2 = np.random.randn(2,3)"
   ]
  },
  {
   "cell_type": "code",
   "execution_count": 33,
   "metadata": {},
   "outputs": [
    {
     "data": {
      "text/plain": [
       "array([[-1.0247694 , -1.45721434,  1.0075856 ],\n",
       "       [-1.33587981, -0.34213749,  0.86132425]])"
      ]
     },
     "execution_count": 33,
     "metadata": {},
     "output_type": "execute_result"
    }
   ],
   "source": [
    "arr2"
   ]
  },
  {
   "cell_type": "code",
   "execution_count": 34,
   "metadata": {
    "scrolled": true
   },
   "outputs": [
    {
     "data": {
      "text/plain": [
       "array([[False, False, False],\n",
       "       [False, False, False]])"
      ]
     },
     "execution_count": 34,
     "metadata": {},
     "output_type": "execute_result"
    }
   ],
   "source": [
    "arr2>arr"
   ]
  },
  {
   "cell_type": "code",
   "execution_count": 35,
   "metadata": {},
   "outputs": [],
   "source": [
    "arr = np.arange(10)"
   ]
  },
  {
   "cell_type": "code",
   "execution_count": 36,
   "metadata": {},
   "outputs": [
    {
     "data": {
      "text/plain": [
       "array([0, 1, 2, 3, 4, 5, 6, 7, 8, 9])"
      ]
     },
     "execution_count": 36,
     "metadata": {},
     "output_type": "execute_result"
    }
   ],
   "source": [
    "arr"
   ]
  },
  {
   "cell_type": "code",
   "execution_count": 37,
   "metadata": {},
   "outputs": [
    {
     "data": {
      "text/plain": [
       "5"
      ]
     },
     "execution_count": 37,
     "metadata": {},
     "output_type": "execute_result"
    }
   ],
   "source": [
    "arr[5]"
   ]
  },
  {
   "cell_type": "code",
   "execution_count": 38,
   "metadata": {},
   "outputs": [
    {
     "data": {
      "text/plain": [
       "9"
      ]
     },
     "execution_count": 38,
     "metadata": {},
     "output_type": "execute_result"
    }
   ],
   "source": [
    "arr[-1]"
   ]
  },
  {
   "cell_type": "code",
   "execution_count": 39,
   "metadata": {},
   "outputs": [
    {
     "data": {
      "text/plain": [
       "array([5, 6, 7])"
      ]
     },
     "execution_count": 39,
     "metadata": {},
     "output_type": "execute_result"
    }
   ],
   "source": [
    "arr[5:8]"
   ]
  },
  {
   "cell_type": "code",
   "execution_count": 40,
   "metadata": {},
   "outputs": [],
   "source": [
    "arr[5:8] =12"
   ]
  },
  {
   "cell_type": "code",
   "execution_count": 41,
   "metadata": {},
   "outputs": [
    {
     "data": {
      "text/plain": [
       "array([ 0,  1,  2,  3,  4, 12, 12, 12,  8,  9])"
      ]
     },
     "execution_count": 41,
     "metadata": {},
     "output_type": "execute_result"
    }
   ],
   "source": [
    "arr"
   ]
  },
  {
   "cell_type": "code",
   "execution_count": 42,
   "metadata": {},
   "outputs": [],
   "source": [
    "arr_slice = arr[5:8]"
   ]
  },
  {
   "cell_type": "code",
   "execution_count": 43,
   "metadata": {},
   "outputs": [
    {
     "data": {
      "text/plain": [
       "array([12, 12, 12])"
      ]
     },
     "execution_count": 43,
     "metadata": {},
     "output_type": "execute_result"
    }
   ],
   "source": [
    "arr_slice"
   ]
  },
  {
   "cell_type": "code",
   "execution_count": 44,
   "metadata": {},
   "outputs": [],
   "source": [
    "arr_slice[1\n",
    "        ] = 123"
   ]
  },
  {
   "cell_type": "code",
   "execution_count": 45,
   "metadata": {},
   "outputs": [
    {
     "data": {
      "text/plain": [
       "array([  0,   1,   2,   3,   4,  12, 123,  12,   8,   9])"
      ]
     },
     "execution_count": 45,
     "metadata": {},
     "output_type": "execute_result"
    }
   ],
   "source": [
    "arr"
   ]
  },
  {
   "cell_type": "code",
   "execution_count": 46,
   "metadata": {},
   "outputs": [],
   "source": [
    "arr_slice[:] = 64"
   ]
  },
  {
   "cell_type": "code",
   "execution_count": 47,
   "metadata": {},
   "outputs": [
    {
     "data": {
      "text/plain": [
       "array([ 0,  1,  2,  3,  4, 64, 64, 64,  8,  9])"
      ]
     },
     "execution_count": 47,
     "metadata": {},
     "output_type": "execute_result"
    }
   ],
   "source": [
    "arr"
   ]
  },
  {
   "cell_type": "code",
   "execution_count": 48,
   "metadata": {},
   "outputs": [
    {
     "ename": "AttributeError",
     "evalue": "module 'numpy' has no attribute 'arr'",
     "output_type": "error",
     "traceback": [
      "\u001b[1;31m---------------------------------------------------------------------------\u001b[0m",
      "\u001b[1;31mAttributeError\u001b[0m                            Traceback (most recent call last)",
      "\u001b[1;32m<ipython-input-48-baea53bda001>\u001b[0m in \u001b[0;36m<module>\u001b[1;34m()\u001b[0m\n\u001b[1;32m----> 1\u001b[1;33m \u001b[0marr2d\u001b[0m \u001b[1;33m=\u001b[0m \u001b[0mnp\u001b[0m\u001b[1;33m.\u001b[0m\u001b[0marr\u001b[0m\u001b[1;33m(\u001b[0m\u001b[1;33m[\u001b[0m\u001b[1;36m1\u001b[0m\u001b[1;33m,\u001b[0m\u001b[1;36m2\u001b[0m\u001b[1;33m,\u001b[0m\u001b[1;36m3\u001b[0m\u001b[1;33m]\u001b[0m\u001b[1;33m,\u001b[0m\u001b[1;33m[\u001b[0m\u001b[1;36m4\u001b[0m\u001b[1;33m,\u001b[0m\u001b[1;36m5\u001b[0m\u001b[1;33m,\u001b[0m\u001b[1;36m6\u001b[0m\u001b[1;33m]\u001b[0m\u001b[1;33m)\u001b[0m\u001b[1;33m\u001b[0m\u001b[0m\n\u001b[0m",
      "\u001b[1;31mAttributeError\u001b[0m: module 'numpy' has no attribute 'arr'"
     ]
    }
   ],
   "source": [
    "arr2d = np.arr([1,2,3],[4,5,6])"
   ]
  },
  {
   "cell_type": "code",
   "execution_count": 49,
   "metadata": {
    "scrolled": false
   },
   "outputs": [
    {
     "ename": "TypeError",
     "evalue": "data type not understood",
     "output_type": "error",
     "traceback": [
      "\u001b[1;31m---------------------------------------------------------------------------\u001b[0m",
      "\u001b[1;31mTypeError\u001b[0m                                 Traceback (most recent call last)",
      "\u001b[1;32m<ipython-input-49-018f6b1d600c>\u001b[0m in \u001b[0;36m<module>\u001b[1;34m()\u001b[0m\n\u001b[1;32m----> 1\u001b[1;33m \u001b[0marr2d\u001b[0m \u001b[1;33m=\u001b[0m \u001b[0mnp\u001b[0m\u001b[1;33m.\u001b[0m\u001b[0marray\u001b[0m\u001b[1;33m(\u001b[0m\u001b[1;33m[\u001b[0m\u001b[1;36m1\u001b[0m\u001b[1;33m,\u001b[0m\u001b[1;36m2\u001b[0m\u001b[1;33m,\u001b[0m\u001b[1;36m3\u001b[0m\u001b[1;33m]\u001b[0m\u001b[1;33m,\u001b[0m\u001b[1;33m[\u001b[0m\u001b[1;36m4\u001b[0m\u001b[1;33m,\u001b[0m\u001b[1;36m5\u001b[0m\u001b[1;33m,\u001b[0m\u001b[1;36m6\u001b[0m\u001b[1;33m]\u001b[0m\u001b[1;33m)\u001b[0m\u001b[1;33m\u001b[0m\u001b[0m\n\u001b[0m",
      "\u001b[1;31mTypeError\u001b[0m: data type not understood"
     ]
    }
   ],
   "source": [
    "arr2d = np.array([1,2,3],[4,5,6])"
   ]
  },
  {
   "cell_type": "code",
   "execution_count": 50,
   "metadata": {},
   "outputs": [],
   "source": [
    "arr2d = np.array([[1,2,3],[4,5,6]])"
   ]
  },
  {
   "cell_type": "code",
   "execution_count": 51,
   "metadata": {},
   "outputs": [
    {
     "data": {
      "text/plain": [
       "array([4, 5, 6])"
      ]
     },
     "execution_count": 51,
     "metadata": {},
     "output_type": "execute_result"
    }
   ],
   "source": [
    "arr2d[1]"
   ]
  },
  {
   "cell_type": "code",
   "execution_count": 52,
   "metadata": {},
   "outputs": [
    {
     "data": {
      "text/plain": [
       "array([ 0,  1,  2,  3,  4, 64, 64, 64,  8,  9])"
      ]
     },
     "execution_count": 52,
     "metadata": {},
     "output_type": "execute_result"
    }
   ],
   "source": [
    "arr"
   ]
  },
  {
   "cell_type": "code",
   "execution_count": 53,
   "metadata": {},
   "outputs": [
    {
     "data": {
      "text/plain": [
       "array([ 1,  2,  3,  4, 64])"
      ]
     },
     "execution_count": 53,
     "metadata": {},
     "output_type": "execute_result"
    }
   ],
   "source": [
    "arr[1:6]"
   ]
  },
  {
   "cell_type": "code",
   "execution_count": 54,
   "metadata": {
    "scrolled": true
   },
   "outputs": [
    {
     "data": {
      "text/plain": [
       "array([[1, 2, 3],\n",
       "       [4, 5, 6]])"
      ]
     },
     "execution_count": 54,
     "metadata": {},
     "output_type": "execute_result"
    }
   ],
   "source": [
    "arr2d"
   ]
  },
  {
   "cell_type": "code",
   "execution_count": 55,
   "metadata": {},
   "outputs": [
    {
     "data": {
      "text/plain": [
       "array([[1],\n",
       "       [4]])"
      ]
     },
     "execution_count": 55,
     "metadata": {},
     "output_type": "execute_result"
    }
   ],
   "source": [
    "arr2d[:,:1]"
   ]
  },
  {
   "cell_type": "code",
   "execution_count": 56,
   "metadata": {},
   "outputs": [
    {
     "ename": "SyntaxError",
     "evalue": "EOL while scanning string literal (<ipython-input-56-ea6a9660717b>, line 1)",
     "output_type": "error",
     "traceback": [
      "\u001b[1;36m  File \u001b[1;32m\"<ipython-input-56-ea6a9660717b>\"\u001b[1;36m, line \u001b[1;32m1\u001b[0m\n\u001b[1;33m    names = np.array(['Bob', 'Joe', 'Will', 'Bob', 'Will', 'Joe', 'Joe\u001b[0m\n\u001b[1;37m                                                                      ^\u001b[0m\n\u001b[1;31mSyntaxError\u001b[0m\u001b[1;31m:\u001b[0m EOL while scanning string literal\n"
     ]
    }
   ],
   "source": [
    "names = np.array(['Bob', 'Joe', 'Will', 'Bob', 'Will', 'Joe', 'Joe\n",
    "                  '])"
   ]
  },
  {
   "cell_type": "code",
   "execution_count": 57,
   "metadata": {},
   "outputs": [],
   "source": [
    "names = np.array(['Bob', 'Joe', 'Will', 'Bob', 'Will', 'Joe', 'Joe'])"
   ]
  },
  {
   "cell_type": "code",
   "execution_count": 58,
   "metadata": {},
   "outputs": [],
   "source": [
    "data = np.random.randn(7,4)"
   ]
  },
  {
   "cell_type": "code",
   "execution_count": 59,
   "metadata": {},
   "outputs": [
    {
     "data": {
      "text/plain": [
       "array(['Bob', 'Joe', 'Will', 'Bob', 'Will', 'Joe', 'Joe'], dtype='<U4')"
      ]
     },
     "execution_count": 59,
     "metadata": {},
     "output_type": "execute_result"
    }
   ],
   "source": [
    "names"
   ]
  },
  {
   "cell_type": "code",
   "execution_count": 60,
   "metadata": {
    "scrolled": true
   },
   "outputs": [
    {
     "data": {
      "text/plain": [
       "array([[ 0.57887332,  1.1911457 , -0.29896429,  0.0663505 ],\n",
       "       [-1.72039698,  0.01454672,  0.5875587 ,  0.98367156],\n",
       "       [ 0.10924411,  1.21728692, -0.39216469,  1.04377894],\n",
       "       [-2.08494676, -0.78500999,  1.37891446, -0.82951649],\n",
       "       [-0.39929426, -0.075954  ,  1.35878454,  0.38690174],\n",
       "       [ 0.51233418,  0.72394054, -1.32106426,  0.27495943],\n",
       "       [ 0.33440652,  0.36587923,  1.46230302, -0.63690515]])"
      ]
     },
     "execution_count": 60,
     "metadata": {},
     "output_type": "execute_result"
    }
   ],
   "source": [
    "data"
   ]
  },
  {
   "cell_type": "code",
   "execution_count": 63,
   "metadata": {},
   "outputs": [
    {
     "data": {
      "text/plain": [
       "array([False,  True,  True, False,  True,  True,  True])"
      ]
     },
     "execution_count": 63,
     "metadata": {},
     "output_type": "execute_result"
    }
   ],
   "source": [
    "names !='Bob'"
   ]
  },
  {
   "cell_type": "code",
   "execution_count": 62,
   "metadata": {
    "scrolled": true
   },
   "outputs": [
    {
     "data": {
      "text/plain": [
       "array([[ 0.57887332,  1.1911457 , -0.29896429,  0.0663505 ],\n",
       "       [-2.08494676, -0.78500999,  1.37891446, -0.82951649]])"
      ]
     },
     "execution_count": 62,
     "metadata": {},
     "output_type": "execute_result"
    }
   ],
   "source": [
    "data[ names =='Bob' ]"
   ]
  },
  {
   "cell_type": "code",
   "execution_count": 64,
   "metadata": {},
   "outputs": [
    {
     "data": {
      "text/plain": [
       "array([False,  True,  True, False,  True,  True,  True])"
      ]
     },
     "execution_count": 64,
     "metadata": {},
     "output_type": "execute_result"
    }
   ],
   "source": [
    "names !='Bob'"
   ]
  },
  {
   "cell_type": "code",
   "execution_count": 65,
   "metadata": {},
   "outputs": [
    {
     "data": {
      "text/plain": [
       "array([[-1.72039698,  0.01454672,  0.5875587 ,  0.98367156],\n",
       "       [ 0.10924411,  1.21728692, -0.39216469,  1.04377894],\n",
       "       [-0.39929426, -0.075954  ,  1.35878454,  0.38690174],\n",
       "       [ 0.51233418,  0.72394054, -1.32106426,  0.27495943],\n",
       "       [ 0.33440652,  0.36587923,  1.46230302, -0.63690515]])"
      ]
     },
     "execution_count": 65,
     "metadata": {},
     "output_type": "execute_result"
    }
   ],
   "source": [
    "data[~(names =='Bob')]"
   ]
  },
  {
   "cell_type": "code",
   "execution_count": 66,
   "metadata": {},
   "outputs": [],
   "source": [
    "cond = names =='Bob'"
   ]
  },
  {
   "cell_type": "code",
   "execution_count": 67,
   "metadata": {},
   "outputs": [
    {
     "data": {
      "text/plain": [
       "array([ True, False, False,  True, False, False, False])"
      ]
     },
     "execution_count": 67,
     "metadata": {},
     "output_type": "execute_result"
    }
   ],
   "source": [
    "cond"
   ]
  },
  {
   "cell_type": "code",
   "execution_count": 68,
   "metadata": {},
   "outputs": [
    {
     "data": {
      "text/plain": [
       "array([[-1.72039698,  0.01454672,  0.5875587 ,  0.98367156],\n",
       "       [ 0.10924411,  1.21728692, -0.39216469,  1.04377894],\n",
       "       [-0.39929426, -0.075954  ,  1.35878454,  0.38690174],\n",
       "       [ 0.51233418,  0.72394054, -1.32106426,  0.27495943],\n",
       "       [ 0.33440652,  0.36587923,  1.46230302, -0.63690515]])"
      ]
     },
     "execution_count": 68,
     "metadata": {},
     "output_type": "execute_result"
    }
   ],
   "source": [
    "data[~cond]"
   ]
  },
  {
   "cell_type": "code",
   "execution_count": 69,
   "metadata": {},
   "outputs": [],
   "source": [
    "mask = (names =='Bob')|(names =='Will')"
   ]
  },
  {
   "cell_type": "code",
   "execution_count": 70,
   "metadata": {},
   "outputs": [
    {
     "data": {
      "text/plain": [
       "array([ True, False,  True,  True,  True, False, False])"
      ]
     },
     "execution_count": 70,
     "metadata": {},
     "output_type": "execute_result"
    }
   ],
   "source": [
    "mask"
   ]
  },
  {
   "cell_type": "code",
   "execution_count": 71,
   "metadata": {},
   "outputs": [
    {
     "data": {
      "text/plain": [
       "array([[ 0.57887332,  1.1911457 , -0.29896429,  0.0663505 ],\n",
       "       [ 0.10924411,  1.21728692, -0.39216469,  1.04377894],\n",
       "       [-2.08494676, -0.78500999,  1.37891446, -0.82951649],\n",
       "       [-0.39929426, -0.075954  ,  1.35878454,  0.38690174]])"
      ]
     },
     "execution_count": 71,
     "metadata": {},
     "output_type": "execute_result"
    }
   ],
   "source": [
    "data[mask]"
   ]
  },
  {
   "cell_type": "code",
   "execution_count": 72,
   "metadata": {},
   "outputs": [],
   "source": [
    "data[mask,1] = 666"
   ]
  },
  {
   "cell_type": "code",
   "execution_count": 73,
   "metadata": {},
   "outputs": [
    {
     "data": {
      "text/plain": [
       "array([[ 5.78873318e-01,  6.66000000e+02, -2.98964294e-01,\n",
       "         6.63505001e-02],\n",
       "       [ 1.09244107e-01,  6.66000000e+02, -3.92164693e-01,\n",
       "         1.04377894e+00],\n",
       "       [-2.08494676e+00,  6.66000000e+02,  1.37891446e+00,\n",
       "        -8.29516495e-01],\n",
       "       [-3.99294259e-01,  6.66000000e+02,  1.35878454e+00,\n",
       "         3.86901735e-01]])"
      ]
     },
     "execution_count": 73,
     "metadata": {},
     "output_type": "execute_result"
    }
   ],
   "source": [
    "data[mask]"
   ]
  },
  {
   "cell_type": "code",
   "execution_count": 74,
   "metadata": {},
   "outputs": [],
   "source": [
    "data[mask,1] = 6"
   ]
  },
  {
   "cell_type": "code",
   "execution_count": 75,
   "metadata": {},
   "outputs": [
    {
     "data": {
      "text/plain": [
       "array([[ 0.57887332,  6.        , -0.29896429,  0.0663505 ],\n",
       "       [ 0.10924411,  6.        , -0.39216469,  1.04377894],\n",
       "       [-2.08494676,  6.        ,  1.37891446, -0.82951649],\n",
       "       [-0.39929426,  6.        ,  1.35878454,  0.38690174]])"
      ]
     },
     "execution_count": 75,
     "metadata": {},
     "output_type": "execute_result"
    }
   ],
   "source": [
    "data[mask]"
   ]
  },
  {
   "cell_type": "code",
   "execution_count": 76,
   "metadata": {},
   "outputs": [
    {
     "data": {
      "text/plain": [
       "array([[ 0.57887332,  6.        , -0.29896429,  0.0663505 ],\n",
       "       [-1.72039698,  0.01454672,  0.5875587 ,  0.98367156],\n",
       "       [ 0.10924411,  6.        , -0.39216469,  1.04377894],\n",
       "       [-2.08494676,  6.        ,  1.37891446, -0.82951649],\n",
       "       [-0.39929426,  6.        ,  1.35878454,  0.38690174],\n",
       "       [ 0.51233418,  0.72394054, -1.32106426,  0.27495943],\n",
       "       [ 0.33440652,  0.36587923,  1.46230302, -0.63690515]])"
      ]
     },
     "execution_count": 76,
     "metadata": {},
     "output_type": "execute_result"
    }
   ],
   "source": [
    "data"
   ]
  },
  {
   "cell_type": "code",
   "execution_count": 77,
   "metadata": {},
   "outputs": [],
   "source": [
    "data[data<0] =0 "
   ]
  },
  {
   "cell_type": "code",
   "execution_count": 78,
   "metadata": {},
   "outputs": [
    {
     "data": {
      "text/plain": [
       "array([[0.57887332, 6.        , 0.        , 0.0663505 ],\n",
       "       [0.        , 0.01454672, 0.5875587 , 0.98367156],\n",
       "       [0.10924411, 6.        , 0.        , 1.04377894],\n",
       "       [0.        , 6.        , 1.37891446, 0.        ],\n",
       "       [0.        , 6.        , 1.35878454, 0.38690174],\n",
       "       [0.51233418, 0.72394054, 0.        , 0.27495943],\n",
       "       [0.33440652, 0.36587923, 1.46230302, 0.        ]])"
      ]
     },
     "execution_count": 78,
     "metadata": {},
     "output_type": "execute_result"
    }
   ],
   "source": [
    "data"
   ]
  },
  {
   "cell_type": "code",
   "execution_count": 79,
   "metadata": {},
   "outputs": [],
   "source": [
    "data[names !='Joe']=7"
   ]
  },
  {
   "cell_type": "code",
   "execution_count": 80,
   "metadata": {},
   "outputs": [
    {
     "data": {
      "text/plain": [
       "array([[7.        , 7.        , 7.        , 7.        ],\n",
       "       [0.        , 0.01454672, 0.5875587 , 0.98367156],\n",
       "       [7.        , 7.        , 7.        , 7.        ],\n",
       "       [7.        , 7.        , 7.        , 7.        ],\n",
       "       [7.        , 7.        , 7.        , 7.        ],\n",
       "       [0.51233418, 0.72394054, 0.        , 0.27495943],\n",
       "       [0.33440652, 0.36587923, 1.46230302, 0.        ]])"
      ]
     },
     "execution_count": 80,
     "metadata": {},
     "output_type": "execute_result"
    }
   ],
   "source": [
    "data"
   ]
  },
  {
   "cell_type": "code",
   "execution_count": 81,
   "metadata": {},
   "outputs": [],
   "source": [
    "arr = np.empty((8, 4))"
   ]
  },
  {
   "cell_type": "code",
   "execution_count": 82,
   "metadata": {},
   "outputs": [
    {
     "data": {
      "text/plain": [
       "array([[ 9.38724727e-323,  0.00000000e+000,  0.00000000e+000,\n",
       "         0.00000000e+000],\n",
       "       [ 0.00000000e+000,  4.92089383e-321,  0.00000000e+000,\n",
       "         0.00000000e+000],\n",
       "       [ 8.02760759e-315, -3.59162350e-312,  9.88131292e-324,\n",
       "         0.00000000e+000],\n",
       "       [ 2.12199579e-314,  0.00000000e+000,  0.00000000e+000,\n",
       "         4.94065646e-321],\n",
       "       [ 8.48798316e-314, -3.58617289e-312,  3.86282537e-316,\n",
       "        -3.59162350e-312],\n",
       "       [ 8.39911598e-323,  2.27270197e-322,  3.85628197e-316,\n",
       "         3.95252517e-323],\n",
       "       [ 1.97626258e-323,  8.02560168e-315,  8.02559866e-315,\n",
       "         8.02101541e-315],\n",
       "       [ 8.02760759e-315, -3.59162350e-312,  1.08694442e-322,\n",
       "         0.00000000e+000]])"
      ]
     },
     "execution_count": 82,
     "metadata": {},
     "output_type": "execute_result"
    }
   ],
   "source": [
    "arr"
   ]
  },
  {
   "cell_type": "code",
   "execution_count": 83,
   "metadata": {},
   "outputs": [],
   "source": [
    "for i in range(8):\n",
    "    arr[i] = i"
   ]
  },
  {
   "cell_type": "code",
   "execution_count": 84,
   "metadata": {},
   "outputs": [
    {
     "data": {
      "text/plain": [
       "array([[0., 0., 0., 0.],\n",
       "       [1., 1., 1., 1.],\n",
       "       [2., 2., 2., 2.],\n",
       "       [3., 3., 3., 3.],\n",
       "       [4., 4., 4., 4.],\n",
       "       [5., 5., 5., 5.],\n",
       "       [6., 6., 6., 6.],\n",
       "       [7., 7., 7., 7.]])"
      ]
     },
     "execution_count": 84,
     "metadata": {},
     "output_type": "execute_result"
    }
   ],
   "source": [
    "arr"
   ]
  },
  {
   "cell_type": "code",
   "execution_count": 85,
   "metadata": {},
   "outputs": [
    {
     "data": {
      "text/plain": [
       "array([[4., 4., 4., 4.],\n",
       "       [3., 3., 3., 3.],\n",
       "       [0., 0., 0., 0.],\n",
       "       [6., 6., 6., 6.]])"
      ]
     },
     "execution_count": 85,
     "metadata": {},
     "output_type": "execute_result"
    }
   ],
   "source": [
    "arr[[4,3,0,6]]"
   ]
  },
  {
   "cell_type": "code",
   "execution_count": 86,
   "metadata": {},
   "outputs": [
    {
     "data": {
      "text/plain": [
       "array([[5., 5., 5., 5.],\n",
       "       [3., 3., 3., 3.],\n",
       "       [1., 1., 1., 1.]])"
      ]
     },
     "execution_count": 86,
     "metadata": {},
     "output_type": "execute_result"
    }
   ],
   "source": [
    "arr[[-3,-5,-7]]"
   ]
  },
  {
   "cell_type": "code",
   "execution_count": 87,
   "metadata": {},
   "outputs": [],
   "source": [
    "arrr = np.arange(32).reshape((8,4))"
   ]
  },
  {
   "cell_type": "code",
   "execution_count": 88,
   "metadata": {},
   "outputs": [
    {
     "data": {
      "text/plain": [
       "array([[ 0,  1,  2,  3],\n",
       "       [ 4,  5,  6,  7],\n",
       "       [ 8,  9, 10, 11],\n",
       "       [12, 13, 14, 15],\n",
       "       [16, 17, 18, 19],\n",
       "       [20, 21, 22, 23],\n",
       "       [24, 25, 26, 27],\n",
       "       [28, 29, 30, 31]])"
      ]
     },
     "execution_count": 88,
     "metadata": {},
     "output_type": "execute_result"
    }
   ],
   "source": [
    "arrr"
   ]
  },
  {
   "cell_type": "code",
   "execution_count": 89,
   "metadata": {},
   "outputs": [
    {
     "data": {
      "text/plain": [
       "array([[ 4,  7,  5,  6],\n",
       "       [20, 23, 21, 22],\n",
       "       [28, 31, 29, 30],\n",
       "       [ 8, 11,  9, 10]])"
      ]
     },
     "execution_count": 89,
     "metadata": {},
     "output_type": "execute_result"
    }
   ],
   "source": [
    "arrr[[1,5,7,2]][:,[0,3,1,2]]"
   ]
  },
  {
   "cell_type": "code",
   "execution_count": 90,
   "metadata": {},
   "outputs": [
    {
     "data": {
      "text/plain": [
       "array([[ 4,  5,  6,  7],\n",
       "       [20, 21, 22, 23],\n",
       "       [28, 29, 30, 31],\n",
       "       [ 8,  9, 10, 11]])"
      ]
     },
     "execution_count": 90,
     "metadata": {},
     "output_type": "execute_result"
    }
   ],
   "source": [
    "arrr[[1,5,7,2]]"
   ]
  },
  {
   "cell_type": "code",
   "execution_count": 91,
   "metadata": {},
   "outputs": [
    {
     "data": {
      "text/plain": [
       "array([[ 4,  7,  5,  6],\n",
       "       [20, 23, 21, 22],\n",
       "       [28, 31, 29, 30],\n",
       "       [ 8, 11,  9, 10]])"
      ]
     },
     "execution_count": 91,
     "metadata": {},
     "output_type": "execute_result"
    }
   ],
   "source": [
    "arrr[[1,5,7,2]][:,[0,3,1,2]]"
   ]
  },
  {
   "cell_type": "code",
   "execution_count": 92,
   "metadata": {},
   "outputs": [
    {
     "data": {
      "text/plain": [
       "array([[ 0,  4,  8, 12, 16, 20, 24, 28],\n",
       "       [ 1,  5,  9, 13, 17, 21, 25, 29],\n",
       "       [ 2,  6, 10, 14, 18, 22, 26, 30],\n",
       "       [ 3,  7, 11, 15, 19, 23, 27, 31]])"
      ]
     },
     "execution_count": 92,
     "metadata": {},
     "output_type": "execute_result"
    }
   ],
   "source": [
    "arrr.T"
   ]
  },
  {
   "cell_type": "code",
   "execution_count": 93,
   "metadata": {},
   "outputs": [],
   "source": [
    "arrr = np.random.randn(8,4)"
   ]
  },
  {
   "cell_type": "code",
   "execution_count": 94,
   "metadata": {},
   "outputs": [
    {
     "data": {
      "text/plain": [
       "array([[-1.46780326, -1.07778982, -3.44972393,  0.09324837],\n",
       "       [-0.60308364, -0.13431554,  0.14282623,  1.07671988],\n",
       "       [ 0.72423265,  0.40915291, -1.06168961, -1.19052857],\n",
       "       [-1.43577121,  1.26391772,  0.97696954, -0.66335976],\n",
       "       [ 1.10550967,  3.2117071 ,  0.74997946,  0.66605317],\n",
       "       [-0.8395813 ,  1.21897405, -0.24092905,  0.04804228],\n",
       "       [-1.41552574, -0.77395966,  0.62780371, -1.16496058],\n",
       "       [ 0.34996767,  0.31131519, -0.16938937,  0.30037218]])"
      ]
     },
     "execution_count": 94,
     "metadata": {},
     "output_type": "execute_result"
    }
   ],
   "source": [
    "arrr"
   ]
  },
  {
   "cell_type": "code",
   "execution_count": 95,
   "metadata": {},
   "outputs": [
    {
     "data": {
      "text/plain": [
       "array([[-1.46780326, -0.60308364,  0.72423265, -1.43577121,  1.10550967,\n",
       "        -0.8395813 , -1.41552574,  0.34996767],\n",
       "       [-1.07778982, -0.13431554,  0.40915291,  1.26391772,  3.2117071 ,\n",
       "         1.21897405, -0.77395966,  0.31131519],\n",
       "       [-3.44972393,  0.14282623, -1.06168961,  0.97696954,  0.74997946,\n",
       "        -0.24092905,  0.62780371, -0.16938937],\n",
       "       [ 0.09324837,  1.07671988, -1.19052857, -0.66335976,  0.66605317,\n",
       "         0.04804228, -1.16496058,  0.30037218]])"
      ]
     },
     "execution_count": 95,
     "metadata": {},
     "output_type": "execute_result"
    }
   ],
   "source": [
    "arrr.T"
   ]
  },
  {
   "cell_type": "code",
   "execution_count": 96,
   "metadata": {},
   "outputs": [
    {
     "data": {
      "text/plain": [
       "array([[ 9.15734709,  3.87626765,  2.88920078,  1.75413583],\n",
       "       [ 3.87626765, 15.44145657,  6.07570914,  1.62221015],\n",
       "       [ 2.88920078,  6.07570914, 15.04599509,  0.15369721],\n",
       "       [ 1.75413583,  1.62221015,  0.15369721,  4.91871688]])"
      ]
     },
     "execution_count": 96,
     "metadata": {},
     "output_type": "execute_result"
    }
   ],
   "source": [
    "np.dot(arrr.T, arrr)"
   ]
  },
  {
   "cell_type": "code",
   "execution_count": 97,
   "metadata": {},
   "outputs": [],
   "source": [
    "arr = np.arange(16).reshape((2,2,4))"
   ]
  },
  {
   "cell_type": "code",
   "execution_count": 98,
   "metadata": {},
   "outputs": [
    {
     "data": {
      "text/plain": [
       "array([[[ 0,  1,  2,  3],\n",
       "        [ 4,  5,  6,  7]],\n",
       "\n",
       "       [[ 8,  9, 10, 11],\n",
       "        [12, 13, 14, 15]]])"
      ]
     },
     "execution_count": 98,
     "metadata": {},
     "output_type": "execute_result"
    }
   ],
   "source": [
    "arr"
   ]
  },
  {
   "cell_type": "code",
   "execution_count": 99,
   "metadata": {},
   "outputs": [
    {
     "data": {
      "text/plain": [
       "array([[[ 0,  1,  2,  3],\n",
       "        [ 4,  5,  6,  7]],\n",
       "\n",
       "       [[ 8,  9, 10, 11],\n",
       "        [12, 13, 14, 15]]])"
      ]
     },
     "execution_count": 99,
     "metadata": {},
     "output_type": "execute_result"
    }
   ],
   "source": [
    "arr"
   ]
  },
  {
   "cell_type": "code",
   "execution_count": 100,
   "metadata": {},
   "outputs": [],
   "source": [
    "arr = np.arange(16).reshape((2,2,4))"
   ]
  },
  {
   "cell_type": "code",
   "execution_count": 101,
   "metadata": {},
   "outputs": [
    {
     "data": {
      "text/plain": [
       "array([[[ 0,  1,  2,  3],\n",
       "        [ 4,  5,  6,  7]],\n",
       "\n",
       "       [[ 8,  9, 10, 11],\n",
       "        [12, 13, 14, 15]]])"
      ]
     },
     "execution_count": 101,
     "metadata": {},
     "output_type": "execute_result"
    }
   ],
   "source": [
    "arr"
   ]
  },
  {
   "cell_type": "code",
   "execution_count": 102,
   "metadata": {},
   "outputs": [
    {
     "data": {
      "text/plain": [
       "array([[[ 0,  1,  2,  3],\n",
       "        [ 8,  9, 10, 11]],\n",
       "\n",
       "       [[ 4,  5,  6,  7],\n",
       "        [12, 13, 14, 15]]])"
      ]
     },
     "execution_count": 102,
     "metadata": {},
     "output_type": "execute_result"
    }
   ],
   "source": [
    "arr.transpose((1,0,2))"
   ]
  },
  {
   "cell_type": "code",
   "execution_count": 103,
   "metadata": {},
   "outputs": [
    {
     "data": {
      "text/plain": [
       "array([[[ 0,  1,  2,  3],\n",
       "        [ 4,  5,  6,  7]],\n",
       "\n",
       "       [[ 8,  9, 10, 11],\n",
       "        [12, 13, 14, 15]]])"
      ]
     },
     "execution_count": 103,
     "metadata": {},
     "output_type": "execute_result"
    }
   ],
   "source": [
    "arr"
   ]
  },
  {
   "cell_type": "code",
   "execution_count": 104,
   "metadata": {},
   "outputs": [
    {
     "data": {
      "text/plain": [
       "array([[[ 0,  8],\n",
       "        [ 4, 12]],\n",
       "\n",
       "       [[ 1,  9],\n",
       "        [ 5, 13]],\n",
       "\n",
       "       [[ 2, 10],\n",
       "        [ 6, 14]],\n",
       "\n",
       "       [[ 3, 11],\n",
       "        [ 7, 15]]])"
      ]
     },
     "execution_count": 104,
     "metadata": {},
     "output_type": "execute_result"
    }
   ],
   "source": [
    "arr.T\n"
   ]
  },
  {
   "cell_type": "code",
   "execution_count": 105,
   "metadata": {},
   "outputs": [
    {
     "data": {
      "text/plain": [
       "array([[[ 0,  1,  2,  3],\n",
       "        [ 4,  5,  6,  7]],\n",
       "\n",
       "       [[ 8,  9, 10, 11],\n",
       "        [12, 13, 14, 15]]])"
      ]
     },
     "execution_count": 105,
     "metadata": {},
     "output_type": "execute_result"
    }
   ],
   "source": [
    "arr"
   ]
  },
  {
   "cell_type": "code",
   "execution_count": 106,
   "metadata": {},
   "outputs": [
    {
     "data": {
      "text/plain": [
       "array([[[ 0,  8],\n",
       "        [ 4, 12]],\n",
       "\n",
       "       [[ 1,  9],\n",
       "        [ 5, 13]],\n",
       "\n",
       "       [[ 2, 10],\n",
       "        [ 6, 14]],\n",
       "\n",
       "       [[ 3, 11],\n",
       "        [ 7, 15]]])"
      ]
     },
     "execution_count": 106,
     "metadata": {},
     "output_type": "execute_result"
    }
   ],
   "source": [
    "arr.T"
   ]
  },
  {
   "cell_type": "code",
   "execution_count": 107,
   "metadata": {},
   "outputs": [
    {
     "ename": "AttributeError",
     "evalue": "'numpy.ndarray' object has no attribute 'reshpe'",
     "output_type": "error",
     "traceback": [
      "\u001b[1;31m---------------------------------------------------------------------------\u001b[0m",
      "\u001b[1;31mAttributeError\u001b[0m                            Traceback (most recent call last)",
      "\u001b[1;32m<ipython-input-107-ba28884043d7>\u001b[0m in \u001b[0;36m<module>\u001b[1;34m()\u001b[0m\n\u001b[1;32m----> 1\u001b[1;33m \u001b[0marr\u001b[0m \u001b[1;33m=\u001b[0m \u001b[0mnp\u001b[0m\u001b[1;33m.\u001b[0m\u001b[0marange\u001b[0m\u001b[1;33m(\u001b[0m\u001b[1;36m16\u001b[0m\u001b[1;33m)\u001b[0m\u001b[1;33m.\u001b[0m\u001b[0mreshpe\u001b[0m\u001b[1;33m(\u001b[0m\u001b[1;36m4\u001b[0m\u001b[1;33m,\u001b[0m\u001b[1;36m4\u001b[0m\u001b[1;33m)\u001b[0m\u001b[1;33m\u001b[0m\u001b[0m\n\u001b[0m",
      "\u001b[1;31mAttributeError\u001b[0m: 'numpy.ndarray' object has no attribute 'reshpe'"
     ]
    }
   ],
   "source": [
    "arr = np.arange(16).reshpe(4,4)"
   ]
  },
  {
   "cell_type": "code",
   "execution_count": 108,
   "metadata": {},
   "outputs": [],
   "source": [
    "arr = np.arange(16).reshape(4,4)"
   ]
  },
  {
   "cell_type": "code",
   "execution_count": 109,
   "metadata": {},
   "outputs": [
    {
     "data": {
      "text/plain": [
       "array([[ 0,  1,  2,  3],\n",
       "       [ 4,  5,  6,  7],\n",
       "       [ 8,  9, 10, 11],\n",
       "       [12, 13, 14, 15]])"
      ]
     },
     "execution_count": 109,
     "metadata": {},
     "output_type": "execute_result"
    }
   ],
   "source": [
    "arr"
   ]
  },
  {
   "cell_type": "code",
   "execution_count": 110,
   "metadata": {},
   "outputs": [
    {
     "ename": "ValueError",
     "evalue": "bad axis2 argument to swapaxes",
     "output_type": "error",
     "traceback": [
      "\u001b[1;31m---------------------------------------------------------------------------\u001b[0m",
      "\u001b[1;31mValueError\u001b[0m                                Traceback (most recent call last)",
      "\u001b[1;32m<ipython-input-110-05e50ce2a6b0>\u001b[0m in \u001b[0;36m<module>\u001b[1;34m()\u001b[0m\n\u001b[1;32m----> 1\u001b[1;33m \u001b[0marr\u001b[0m\u001b[1;33m.\u001b[0m\u001b[0mswapaxes\u001b[0m\u001b[1;33m(\u001b[0m\u001b[1;36m1\u001b[0m\u001b[1;33m,\u001b[0m\u001b[1;36m2\u001b[0m\u001b[1;33m)\u001b[0m\u001b[1;33m\u001b[0m\u001b[0m\n\u001b[0m",
      "\u001b[1;31mValueError\u001b[0m: bad axis2 argument to swapaxes"
     ]
    }
   ],
   "source": [
    "arr.swapaxes(1,2)"
   ]
  },
  {
   "cell_type": "code",
   "execution_count": 111,
   "metadata": {},
   "outputs": [],
   "source": [
    "arr = np.arange(16).reshape((2,2,4))"
   ]
  },
  {
   "cell_type": "code",
   "execution_count": 112,
   "metadata": {},
   "outputs": [
    {
     "data": {
      "text/plain": [
       "array([[[ 0,  1,  2,  3],\n",
       "        [ 4,  5,  6,  7]],\n",
       "\n",
       "       [[ 8,  9, 10, 11],\n",
       "        [12, 13, 14, 15]]])"
      ]
     },
     "execution_count": 112,
     "metadata": {},
     "output_type": "execute_result"
    }
   ],
   "source": [
    "arr"
   ]
  },
  {
   "cell_type": "code",
   "execution_count": 113,
   "metadata": {},
   "outputs": [
    {
     "data": {
      "text/plain": [
       "array([[[ 0,  4],\n",
       "        [ 1,  5],\n",
       "        [ 2,  6],\n",
       "        [ 3,  7]],\n",
       "\n",
       "       [[ 8, 12],\n",
       "        [ 9, 13],\n",
       "        [10, 14],\n",
       "        [11, 15]]])"
      ]
     },
     "execution_count": 113,
     "metadata": {},
     "output_type": "execute_result"
    }
   ],
   "source": [
    "arr.swapaxes(1,2)"
   ]
  },
  {
   "cell_type": "code",
   "execution_count": 114,
   "metadata": {},
   "outputs": [
    {
     "ename": "SyntaxError",
     "evalue": "invalid syntax (<ipython-input-114-e3e36b188bdc>, line 1)",
     "output_type": "error",
     "traceback": [
      "\u001b[1;36m  File \u001b[1;32m\"<ipython-input-114-e3e36b188bdc>\"\u001b[1;36m, line \u001b[1;32m1\u001b[0m\n\u001b[1;33m    read to page 110\u001b[0m\n\u001b[1;37m          ^\u001b[0m\n\u001b[1;31mSyntaxError\u001b[0m\u001b[1;31m:\u001b[0m invalid syntax\n"
     ]
    }
   ],
   "source": [
    "read to page 110"
   ]
  },
  {
   "cell_type": "code",
   "execution_count": 115,
   "metadata": {},
   "outputs": [
    {
     "name": "stdout",
     "output_type": "stream",
     "text": [
      "read to page 110\n"
     ]
    }
   ],
   "source": [
    "print('read to page 110')"
   ]
  },
  {
   "cell_type": "code",
   "execution_count": 1,
   "metadata": {},
   "outputs": [
    {
     "ename": "NameError",
     "evalue": "name 'arr' is not defined",
     "output_type": "error",
     "traceback": [
      "\u001b[1;31m---------------------------------------------------------------------------\u001b[0m",
      "\u001b[1;31mNameError\u001b[0m                                 Traceback (most recent call last)",
      "\u001b[1;32m<ipython-input-1-24a6d41c5b66>\u001b[0m in \u001b[0;36m<module>\u001b[1;34m()\u001b[0m\n\u001b[1;32m----> 1\u001b[1;33m \u001b[0marr\u001b[0m\u001b[1;33m\u001b[0m\u001b[0m\n\u001b[0m",
      "\u001b[1;31mNameError\u001b[0m: name 'arr' is not defined"
     ]
    }
   ],
   "source": [
    "arr"
   ]
  },
  {
   "cell_type": "code",
   "execution_count": 2,
   "metadata": {},
   "outputs": [
    {
     "ename": "NameError",
     "evalue": "name 'arr2' is not defined",
     "output_type": "error",
     "traceback": [
      "\u001b[1;31m---------------------------------------------------------------------------\u001b[0m",
      "\u001b[1;31mNameError\u001b[0m                                 Traceback (most recent call last)",
      "\u001b[1;32m<ipython-input-2-5c58a0b4a6c8>\u001b[0m in \u001b[0;36m<module>\u001b[1;34m()\u001b[0m\n\u001b[1;32m----> 1\u001b[1;33m \u001b[0marr2\u001b[0m\u001b[1;33m\u001b[0m\u001b[0m\n\u001b[0m",
      "\u001b[1;31mNameError\u001b[0m: name 'arr2' is not defined"
     ]
    }
   ],
   "source": [
    "arr2"
   ]
  },
  {
   "cell_type": "code",
   "execution_count": 3,
   "metadata": {},
   "outputs": [
    {
     "ename": "NameError",
     "evalue": "name 'np' is not defined",
     "output_type": "error",
     "traceback": [
      "\u001b[1;31m---------------------------------------------------------------------------\u001b[0m",
      "\u001b[1;31mNameError\u001b[0m                                 Traceback (most recent call last)",
      "\u001b[1;32m<ipython-input-3-ec44321dcc63>\u001b[0m in \u001b[0;36m<module>\u001b[1;34m()\u001b[0m\n\u001b[1;32m----> 1\u001b[1;33m \u001b[0mx\u001b[0m \u001b[1;33m=\u001b[0m \u001b[0mnp\u001b[0m\u001b[1;33m.\u001b[0m\u001b[0mrandom\u001b[0m\u001b[1;33m.\u001b[0m\u001b[0mrandn\u001b[0m\u001b[1;33m(\u001b[0m\u001b[1;36m8\u001b[0m\u001b[1;33m)\u001b[0m\u001b[1;33m\u001b[0m\u001b[0m\n\u001b[0m",
      "\u001b[1;31mNameError\u001b[0m: name 'np' is not defined"
     ]
    }
   ],
   "source": [
    "x = np.random.randn(8)"
   ]
  },
  {
   "cell_type": "code",
   "execution_count": 4,
   "metadata": {},
   "outputs": [],
   "source": [
    "import numpy as np"
   ]
  },
  {
   "cell_type": "code",
   "execution_count": 5,
   "metadata": {},
   "outputs": [],
   "source": [
    "x = np.random.randn(8)"
   ]
  },
  {
   "cell_type": "code",
   "execution_count": 6,
   "metadata": {},
   "outputs": [],
   "source": [
    "y = np.random.randn(8)"
   ]
  },
  {
   "cell_type": "code",
   "execution_count": 7,
   "metadata": {},
   "outputs": [
    {
     "data": {
      "text/plain": [
       "array([ 1.0968126 ,  1.12503086, -1.55963836, -0.07031676, -1.86792983,\n",
       "        0.68737569,  1.32963314,  0.97735805])"
      ]
     },
     "execution_count": 7,
     "metadata": {},
     "output_type": "execute_result"
    }
   ],
   "source": [
    "x\n",
    "y"
   ]
  },
  {
   "cell_type": "code",
   "execution_count": 8,
   "metadata": {},
   "outputs": [
    {
     "data": {
      "text/plain": [
       "array([-0.84049444,  0.35856374,  0.20110237,  1.0123227 ,  0.38317827,\n",
       "       -0.78335456,  2.78166475, -1.93959184])"
      ]
     },
     "execution_count": 8,
     "metadata": {},
     "output_type": "execute_result"
    }
   ],
   "source": [
    "x"
   ]
  },
  {
   "cell_type": "code",
   "execution_count": 9,
   "metadata": {},
   "outputs": [
    {
     "data": {
      "text/plain": [
       "array([ 1.0968126 ,  1.12503086, -1.55963836, -0.07031676, -1.86792983,\n",
       "        0.68737569,  1.32963314,  0.97735805])"
      ]
     },
     "execution_count": 9,
     "metadata": {},
     "output_type": "execute_result"
    }
   ],
   "source": [
    "y"
   ]
  },
  {
   "cell_type": "code",
   "execution_count": 10,
   "metadata": {},
   "outputs": [
    {
     "ename": "AttributeError",
     "evalue": "module 'numpy' has no attribute 'maximun'",
     "output_type": "error",
     "traceback": [
      "\u001b[1;31m---------------------------------------------------------------------------\u001b[0m",
      "\u001b[1;31mAttributeError\u001b[0m                            Traceback (most recent call last)",
      "\u001b[1;32m<ipython-input-10-2a687b904fb7>\u001b[0m in \u001b[0;36m<module>\u001b[1;34m()\u001b[0m\n\u001b[1;32m----> 1\u001b[1;33m \u001b[0mnp\u001b[0m\u001b[1;33m.\u001b[0m\u001b[0mmaximun\u001b[0m\u001b[1;33m(\u001b[0m\u001b[0mx\u001b[0m\u001b[1;33m,\u001b[0m\u001b[0my\u001b[0m\u001b[1;33m)\u001b[0m\u001b[1;33m\u001b[0m\u001b[0m\n\u001b[0m",
      "\u001b[1;31mAttributeError\u001b[0m: module 'numpy' has no attribute 'maximun'"
     ]
    }
   ],
   "source": [
    "np.maximun(x,y)"
   ]
  },
  {
   "cell_type": "code",
   "execution_count": 11,
   "metadata": {},
   "outputs": [
    {
     "data": {
      "text/plain": [
       "array([1.0968126 , 1.12503086, 0.20110237, 1.0123227 , 0.38317827,\n",
       "       0.68737569, 2.78166475, 0.97735805])"
      ]
     },
     "execution_count": 11,
     "metadata": {},
     "output_type": "execute_result"
    }
   ],
   "source": [
    "np.maximum(x,y)"
   ]
  },
  {
   "cell_type": "code",
   "execution_count": 12,
   "metadata": {},
   "outputs": [],
   "source": [
    "arr = np.random.randn(7)*5"
   ]
  },
  {
   "cell_type": "code",
   "execution_count": 13,
   "metadata": {},
   "outputs": [
    {
     "data": {
      "text/plain": [
       "array([-1.51786242, -0.80380755,  5.74521481, -2.38979713, 11.4040568 ,\n",
       "       -3.53203126, 14.35384655])"
      ]
     },
     "execution_count": 13,
     "metadata": {},
     "output_type": "execute_result"
    }
   ],
   "source": [
    "arr"
   ]
  },
  {
   "cell_type": "code",
   "execution_count": 14,
   "metadata": {},
   "outputs": [],
   "source": [
    "remainder, whole_part = np.modf(arr)"
   ]
  },
  {
   "cell_type": "code",
   "execution_count": 15,
   "metadata": {},
   "outputs": [
    {
     "data": {
      "text/plain": [
       "array([-0.51786242, -0.80380755,  0.74521481, -0.38979713,  0.4040568 ,\n",
       "       -0.53203126,  0.35384655])"
      ]
     },
     "execution_count": 15,
     "metadata": {},
     "output_type": "execute_result"
    }
   ],
   "source": [
    "remainder"
   ]
  },
  {
   "cell_type": "code",
   "execution_count": 16,
   "metadata": {},
   "outputs": [
    {
     "data": {
      "text/plain": [
       "array([-1., -0.,  5., -2., 11., -3., 14.])"
      ]
     },
     "execution_count": 16,
     "metadata": {},
     "output_type": "execute_result"
    }
   ],
   "source": [
    "whole_part"
   ]
  },
  {
   "cell_type": "code",
   "execution_count": 17,
   "metadata": {},
   "outputs": [
    {
     "data": {
      "text/plain": [
       "array([-1.51786242, -0.80380755,  5.74521481, -2.38979713, 11.4040568 ,\n",
       "       -3.53203126, 14.35384655])"
      ]
     },
     "execution_count": 17,
     "metadata": {},
     "output_type": "execute_result"
    }
   ],
   "source": [
    "arr"
   ]
  },
  {
   "cell_type": "code",
   "execution_count": 18,
   "metadata": {},
   "outputs": [
    {
     "name": "stderr",
     "output_type": "stream",
     "text": [
      "C:\\Anaconda3\\lib\\site-packages\\ipykernel_launcher.py:1: RuntimeWarning: invalid value encountered in sqrt\n",
      "  \"\"\"Entry point for launching an IPython kernel.\n"
     ]
    },
    {
     "data": {
      "text/plain": [
       "array([       nan,        nan, 2.39691777,        nan, 3.37698931,\n",
       "              nan, 3.78864706])"
      ]
     },
     "execution_count": 18,
     "metadata": {},
     "output_type": "execute_result"
    }
   ],
   "source": [
    "np.sqrt(arr)"
   ]
  },
  {
   "cell_type": "code",
   "execution_count": 19,
   "metadata": {},
   "outputs": [
    {
     "name": "stderr",
     "output_type": "stream",
     "text": [
      "C:\\Anaconda3\\lib\\site-packages\\ipykernel_launcher.py:1: RuntimeWarning: invalid value encountered in sqrt\n",
      "  \"\"\"Entry point for launching an IPython kernel.\n"
     ]
    },
    {
     "data": {
      "text/plain": [
       "array([       nan,        nan, 2.39691777,        nan, 3.37698931,\n",
       "              nan, 3.78864706])"
      ]
     },
     "execution_count": 19,
     "metadata": {},
     "output_type": "execute_result"
    }
   ],
   "source": [
    "np.sqrt(arr,arr)"
   ]
  },
  {
   "cell_type": "code",
   "execution_count": 20,
   "metadata": {},
   "outputs": [
    {
     "data": {
      "text/plain": [
       "array([       nan,        nan, 2.39691777,        nan, 3.37698931,\n",
       "              nan, 3.78864706])"
      ]
     },
     "execution_count": 20,
     "metadata": {},
     "output_type": "execute_result"
    }
   ],
   "source": [
    "arr"
   ]
  },
  {
   "cell_type": "code",
   "execution_count": 21,
   "metadata": {},
   "outputs": [],
   "source": [
    "pts = np.arange(-5,5,0.01)"
   ]
  },
  {
   "cell_type": "code",
   "execution_count": 22,
   "metadata": {},
   "outputs": [],
   "source": [
    "xs, ys = np.meshgrid(pts, pts)"
   ]
  },
  {
   "cell_type": "code",
   "execution_count": 23,
   "metadata": {},
   "outputs": [
    {
     "data": {
      "text/plain": [
       "array([[-5.  , -5.  , -5.  , ..., -5.  , -5.  , -5.  ],\n",
       "       [-4.99, -4.99, -4.99, ..., -4.99, -4.99, -4.99],\n",
       "       [-4.98, -4.98, -4.98, ..., -4.98, -4.98, -4.98],\n",
       "       ...,\n",
       "       [ 4.97,  4.97,  4.97, ...,  4.97,  4.97,  4.97],\n",
       "       [ 4.98,  4.98,  4.98, ...,  4.98,  4.98,  4.98],\n",
       "       [ 4.99,  4.99,  4.99, ...,  4.99,  4.99,  4.99]])"
      ]
     },
     "execution_count": 23,
     "metadata": {},
     "output_type": "execute_result"
    }
   ],
   "source": [
    "ys"
   ]
  },
  {
   "cell_type": "code",
   "execution_count": 24,
   "metadata": {},
   "outputs": [
    {
     "data": {
      "text/plain": [
       "array([[-5.  , -4.99, -4.98, ...,  4.97,  4.98,  4.99],\n",
       "       [-5.  , -4.99, -4.98, ...,  4.97,  4.98,  4.99],\n",
       "       [-5.  , -4.99, -4.98, ...,  4.97,  4.98,  4.99],\n",
       "       ...,\n",
       "       [-5.  , -4.99, -4.98, ...,  4.97,  4.98,  4.99],\n",
       "       [-5.  , -4.99, -4.98, ...,  4.97,  4.98,  4.99],\n",
       "       [-5.  , -4.99, -4.98, ...,  4.97,  4.98,  4.99]])"
      ]
     },
     "execution_count": 24,
     "metadata": {},
     "output_type": "execute_result"
    }
   ],
   "source": [
    "xs"
   ]
  },
  {
   "cell_type": "code",
   "execution_count": 25,
   "metadata": {},
   "outputs": [],
   "source": [
    "z = np.sqrt(xs**2 + ys**2)"
   ]
  },
  {
   "cell_type": "code",
   "execution_count": 26,
   "metadata": {},
   "outputs": [
    {
     "data": {
      "text/plain": [
       "array([[7.07106781, 7.06400028, 7.05693985, ..., 7.04988652, 7.05693985,\n",
       "        7.06400028],\n",
       "       [7.06400028, 7.05692568, 7.04985815, ..., 7.04279774, 7.04985815,\n",
       "        7.05692568],\n",
       "       [7.05693985, 7.04985815, 7.04278354, ..., 7.03571603, 7.04278354,\n",
       "        7.04985815],\n",
       "       ...,\n",
       "       [7.04988652, 7.04279774, 7.03571603, ..., 7.0286414 , 7.03571603,\n",
       "        7.04279774],\n",
       "       [7.05693985, 7.04985815, 7.04278354, ..., 7.03571603, 7.04278354,\n",
       "        7.04985815],\n",
       "       [7.06400028, 7.05692568, 7.04985815, ..., 7.04279774, 7.04985815,\n",
       "        7.05692568]])"
      ]
     },
     "execution_count": 26,
     "metadata": {},
     "output_type": "execute_result"
    }
   ],
   "source": [
    "z"
   ]
  },
  {
   "cell_type": "code",
   "execution_count": 27,
   "metadata": {},
   "outputs": [],
   "source": [
    "import matplotlib as plt"
   ]
  },
  {
   "cell_type": "code",
   "execution_count": 28,
   "metadata": {},
   "outputs": [
    {
     "ename": "AttributeError",
     "evalue": "module 'matplotlib' has no attribute 'imshow'",
     "output_type": "error",
     "traceback": [
      "\u001b[1;31m---------------------------------------------------------------------------\u001b[0m",
      "\u001b[1;31mAttributeError\u001b[0m                            Traceback (most recent call last)",
      "\u001b[1;32m<ipython-input-28-c1ab1a2a835d>\u001b[0m in \u001b[0;36m<module>\u001b[1;34m()\u001b[0m\n\u001b[1;32m----> 1\u001b[1;33m \u001b[0mplt\u001b[0m\u001b[1;33m.\u001b[0m\u001b[0mimshow\u001b[0m\u001b[1;33m(\u001b[0m\u001b[0mz\u001b[0m\u001b[1;33m,\u001b[0m \u001b[0mcmap\u001b[0m \u001b[1;33m=\u001b[0m \u001b[0mplt\u001b[0m\u001b[1;33m.\u001b[0m\u001b[0mcm\u001b[0m\u001b[1;33m.\u001b[0m\u001b[0mgray\u001b[0m\u001b[1;33m)\u001b[0m\u001b[1;33m;\u001b[0m \u001b[0mplt\u001b[0m\u001b[1;33m.\u001b[0m\u001b[0mcolorbar\u001b[0m\u001b[1;33m(\u001b[0m\u001b[1;33m)\u001b[0m\u001b[1;33m\u001b[0m\u001b[0m\n\u001b[0m",
      "\u001b[1;31mAttributeError\u001b[0m: module 'matplotlib' has no attribute 'imshow'"
     ]
    }
   ],
   "source": [
    "plt.imshow(z, cmap = plt.cm.gray); plt.colorbar()plt.imshow(z, cmap = plt.cm.gray); plt.colorbar()"
   ]
  },
  {
   "cell_type": "code",
   "execution_count": 29,
   "metadata": {},
   "outputs": [
    {
     "ename": "AttributeError",
     "evalue": "module 'matplotlib' has no attribute 'imgshow'",
     "output_type": "error",
     "traceback": [
      "\u001b[1;31m---------------------------------------------------------------------------\u001b[0m",
      "\u001b[1;31mAttributeError\u001b[0m                            Traceback (most recent call last)",
      "\u001b[1;32m<ipython-input-29-0fdb090ea2c9>\u001b[0m in \u001b[0;36m<module>\u001b[1;34m()\u001b[0m\n\u001b[1;32m----> 1\u001b[1;33m \u001b[0mplt\u001b[0m\u001b[1;33m.\u001b[0m\u001b[0mimgshow\u001b[0m\u001b[1;33m(\u001b[0m\u001b[0mz\u001b[0m\u001b[1;33m,\u001b[0m \u001b[0mcmap\u001b[0m \u001b[1;33m=\u001b[0m \u001b[0mplt\u001b[0m\u001b[1;33m.\u001b[0m\u001b[0mcm\u001b[0m\u001b[1;33m.\u001b[0m\u001b[0mgray\u001b[0m\u001b[1;33m)\u001b[0m\u001b[1;33m;\u001b[0m \u001b[0mplt\u001b[0m\u001b[1;33m.\u001b[0m\u001b[0mcolorbar\u001b[0m\u001b[1;33m(\u001b[0m\u001b[1;33m)\u001b[0m\u001b[1;33m\u001b[0m\u001b[0m\n\u001b[0m",
      "\u001b[1;31mAttributeError\u001b[0m: module 'matplotlib' has no attribute 'imgshow'"
     ]
    }
   ],
   "source": [
    "plt.imgshow(z, cmap = plt.cm.gray); plt.colorbar()"
   ]
  },
  {
   "cell_type": "code",
   "execution_count": 30,
   "metadata": {},
   "outputs": [
    {
     "ename": "AttributeError",
     "evalue": "module 'matplotlib' has no attribute 'imshow'",
     "output_type": "error",
     "traceback": [
      "\u001b[1;31m---------------------------------------------------------------------------\u001b[0m",
      "\u001b[1;31mAttributeError\u001b[0m                            Traceback (most recent call last)",
      "\u001b[1;32m<ipython-input-30-c1ab1a2a835d>\u001b[0m in \u001b[0;36m<module>\u001b[1;34m()\u001b[0m\n\u001b[1;32m----> 1\u001b[1;33m \u001b[0mplt\u001b[0m\u001b[1;33m.\u001b[0m\u001b[0mimshow\u001b[0m\u001b[1;33m(\u001b[0m\u001b[0mz\u001b[0m\u001b[1;33m,\u001b[0m \u001b[0mcmap\u001b[0m \u001b[1;33m=\u001b[0m \u001b[0mplt\u001b[0m\u001b[1;33m.\u001b[0m\u001b[0mcm\u001b[0m\u001b[1;33m.\u001b[0m\u001b[0mgray\u001b[0m\u001b[1;33m)\u001b[0m\u001b[1;33m;\u001b[0m \u001b[0mplt\u001b[0m\u001b[1;33m.\u001b[0m\u001b[0mcolorbar\u001b[0m\u001b[1;33m(\u001b[0m\u001b[1;33m)\u001b[0m\u001b[1;33m\u001b[0m\u001b[0m\n\u001b[0m",
      "\u001b[1;31mAttributeError\u001b[0m: module 'matplotlib' has no attribute 'imshow'"
     ]
    }
   ],
   "source": [
    "plt.imshow(z, cmap = plt.cm.gray); plt.colorbar()"
   ]
  },
  {
   "cell_type": "code",
   "execution_count": 31,
   "metadata": {},
   "outputs": [],
   "source": [
    "import matplotlib.pyplot as plt"
   ]
  },
  {
   "cell_type": "code",
   "execution_count": 32,
   "metadata": {},
   "outputs": [
    {
     "data": {
      "text/plain": [
       "<matplotlib.colorbar.Colorbar at 0x9c81828>"
      ]
     },
     "execution_count": 32,
     "metadata": {},
     "output_type": "execute_result"
    },
    {
     "data": {
      "image/png": "[encoded data removed]",
      "text/plain": [
       "<matplotlib.figure.Figure at 0x402de80>"
      ]
     },
     "metadata": {},
     "output_type": "display_data"
    }
   ],
   "source": [
    "plt.imshow(z, cmap = plt.cm.gray); plt.colorbar()"
   ]
  },
  {
   "cell_type": "code",
   "execution_count": 33,
   "metadata": {},
   "outputs": [
    {
     "data": {
      "text/plain": [
       "Text(0.5,1,'Image plot of $\\\\sqrt{x^2 + y^2}$ for a grid of values')"
      ]
     },
     "execution_count": 33,
     "metadata": {},
     "output_type": "execute_result"
    },
    {
     "data": {
      "image/png": "[encoded data removed]",
      "text/plain": [
       "<matplotlib.figure.Figure at 0x9915be0>"
      ]
     },
     "metadata": {},
     "output_type": "display_data"
    }
   ],
   "source": [
    "plt.title(\"Image plot of $\\sqrt{x^2 + y^2}$ for a grid of values\")"
   ]
  },
  {
   "cell_type": "code",
   "execution_count": 34,
   "metadata": {},
   "outputs": [
    {
     "data": {
      "text/plain": [
       "<matplotlib.colorbar.Colorbar at 0x9c026d8>"
      ]
     },
     "execution_count": 34,
     "metadata": {},
     "output_type": "execute_result"
    },
    {
     "data": {
      "image/png": "[encoded data removed]",
      "text/plain": [
       "<matplotlib.figure.Figure at 0x9834898>"
      ]
     },
     "metadata": {},
     "output_type": "display_data"
    }
   ],
   "source": [
    "plt.title(\"Image plot of $\\sqrt{x^2 + y^2}$ for a grid of values\")\n",
    "plt.imshow(z, cmap = plt.cm.gray); plt.colorbar()"
   ]
  },
  {
   "cell_type": "code",
   "execution_count": 35,
   "metadata": {},
   "outputs": [],
   "source": [
    "xarr = np.array([1.1, 1.2, 1.3, 1.4, 1.5])\n",
    "yarr = xarr + 1\n",
    "cond = np.array([True, False, True, True, False])\n"
   ]
  },
  {
   "cell_type": "code",
   "execution_count": 36,
   "metadata": {},
   "outputs": [
    {
     "data": {
      "text/plain": [
       "array([1.1, 1.2, 1.3, 1.4, 1.5])"
      ]
     },
     "execution_count": 36,
     "metadata": {},
     "output_type": "execute_result"
    }
   ],
   "source": [
    "xarr"
   ]
  },
  {
   "cell_type": "code",
   "execution_count": 37,
   "metadata": {},
   "outputs": [
    {
     "data": {
      "text/plain": [
       "array([2.1, 2.2, 2.3, 2.4, 2.5])"
      ]
     },
     "execution_count": 37,
     "metadata": {},
     "output_type": "execute_result"
    }
   ],
   "source": [
    "yarr"
   ]
  },
  {
   "cell_type": "code",
   "execution_count": 38,
   "metadata": {},
   "outputs": [
    {
     "data": {
      "text/plain": [
       "array([ True, False,  True,  True, False])"
      ]
     },
     "execution_count": 38,
     "metadata": {},
     "output_type": "execute_result"
    }
   ],
   "source": [
    "cond"
   ]
  },
  {
   "cell_type": "code",
   "execution_count": 39,
   "metadata": {},
   "outputs": [
    {
     "ename": "NameError",
     "evalue": "name 'con' is not defined",
     "output_type": "error",
     "traceback": [
      "\u001b[1;31m---------------------------------------------------------------------------\u001b[0m",
      "\u001b[1;31mNameError\u001b[0m                                 Traceback (most recent call last)",
      "\u001b[1;32m<ipython-input-39-ef26da24e905>\u001b[0m in \u001b[0;36m<module>\u001b[1;34m()\u001b[0m\n\u001b[0;32m      1\u001b[0m result = [(x if c else y)\n\u001b[1;32m----> 2\u001b[1;33m             for x, y, c in zip(xarr, yarr, con)]\n\u001b[0m",
      "\u001b[1;31mNameError\u001b[0m: name 'con' is not defined"
     ]
    }
   ],
   "source": [
    "result = [(x if c else y)\n",
    "            for x, y, c in zip(xarr, yarr, con)]"
   ]
  },
  {
   "cell_type": "code",
   "execution_count": 40,
   "metadata": {},
   "outputs": [],
   "source": [
    "result = [(x if c else y)\n",
    "            for x, y, c in zip(xarr, yarr, cond)]"
   ]
  },
  {
   "cell_type": "code",
   "execution_count": 41,
   "metadata": {},
   "outputs": [
    {
     "data": {
      "text/plain": [
       "[1.1, 2.2, 1.3, 1.4, 2.5]"
      ]
     },
     "execution_count": 41,
     "metadata": {},
     "output_type": "execute_result"
    }
   ],
   "source": [
    "result"
   ]
  },
  {
   "cell_type": "code",
   "execution_count": 42,
   "metadata": {},
   "outputs": [],
   "source": [
    "result2 = np.where(cond, xarr, yarr)"
   ]
  },
  {
   "cell_type": "code",
   "execution_count": 43,
   "metadata": {},
   "outputs": [
    {
     "data": {
      "text/plain": [
       "array([1.1, 2.2, 1.3, 1.4, 2.5])"
      ]
     },
     "execution_count": 43,
     "metadata": {},
     "output_type": "execute_result"
    }
   ],
   "source": [
    "result2"
   ]
  },
  {
   "cell_type": "code",
   "execution_count": 44,
   "metadata": {},
   "outputs": [],
   "source": [
    "arr = np.random.randn(4, 4)"
   ]
  },
  {
   "cell_type": "code",
   "execution_count": 45,
   "metadata": {},
   "outputs": [
    {
     "data": {
      "text/plain": [
       "array([[-2.08520096,  1.26343756,  0.63794614,  0.70197921],\n",
       "       [ 1.39764476,  1.078587  , -0.21684848, -0.00582095],\n",
       "       [-0.31549072, -0.62251812,  0.0500959 ,  0.18173869],\n",
       "       [-0.21703839,  0.32068893,  0.23875406,  0.97388817]])"
      ]
     },
     "execution_count": 45,
     "metadata": {},
     "output_type": "execute_result"
    }
   ],
   "source": [
    "arr"
   ]
  },
  {
   "cell_type": "code",
   "execution_count": 46,
   "metadata": {},
   "outputs": [],
   "source": [
    "pos = arr>0"
   ]
  },
  {
   "cell_type": "code",
   "execution_count": 47,
   "metadata": {},
   "outputs": [
    {
     "data": {
      "text/plain": [
       "array([[False,  True,  True,  True],\n",
       "       [ True,  True, False, False],\n",
       "       [False, False,  True,  True],\n",
       "       [False,  True,  True,  True]])"
      ]
     },
     "execution_count": 47,
     "metadata": {},
     "output_type": "execute_result"
    }
   ],
   "source": [
    "pos"
   ]
  },
  {
   "cell_type": "code",
   "execution_count": 48,
   "metadata": {},
   "outputs": [],
   "source": [
    "neg = arr<0"
   ]
  },
  {
   "cell_type": "code",
   "execution_count": 49,
   "metadata": {},
   "outputs": [
    {
     "data": {
      "text/plain": [
       "array([[ True, False, False, False],\n",
       "       [False, False,  True,  True],\n",
       "       [ True,  True, False, False],\n",
       "       [ True, False, False, False]])"
      ]
     },
     "execution_count": 49,
     "metadata": {},
     "output_type": "execute_result"
    }
   ],
   "source": [
    "neg"
   ]
  },
  {
   "cell_type": "code",
   "execution_count": 50,
   "metadata": {},
   "outputs": [
    {
     "ename": "ValueError",
     "evalue": "either both or neither of x and y should be given",
     "output_type": "error",
     "traceback": [
      "\u001b[1;31m---------------------------------------------------------------------------\u001b[0m",
      "\u001b[1;31mValueError\u001b[0m                                Traceback (most recent call last)",
      "\u001b[1;32m<ipython-input-50-59e4bc7a5a98>\u001b[0m in \u001b[0;36m<module>\u001b[1;34m()\u001b[0m\n\u001b[1;32m----> 1\u001b[1;33m \u001b[0marr1\u001b[0m \u001b[1;33m=\u001b[0m \u001b[0mnp\u001b[0m\u001b[1;33m.\u001b[0m\u001b[0mwhere\u001b[0m\u001b[1;33m(\u001b[0m\u001b[0mpos\u001b[0m\u001b[1;33m,\u001b[0m \u001b[0marr\u001b[0m\u001b[1;33m)\u001b[0m\u001b[1;33m\u001b[0m\u001b[0m\n\u001b[0m",
      "\u001b[1;31mValueError\u001b[0m: either both or neither of x and y should be given"
     ]
    }
   ],
   "source": [
    "arr1 = np.where(pos, arr)"
   ]
  },
  {
   "cell_type": "code",
   "execution_count": 53,
   "metadata": {},
   "outputs": [
    {
     "data": {
      "text/plain": [
       "array([[-2,  2,  2,  2],\n",
       "       [ 2,  2, -2, -2],\n",
       "       [-2, -2,  2,  2],\n",
       "       [-2,  2,  2,  2]])"
      ]
     },
     "execution_count": 53,
     "metadata": {},
     "output_type": "execute_result"
    }
   ],
   "source": [
    "np.where(pos, 2, -2)"
   ]
  },
  {
   "cell_type": "code",
   "execution_count": 54,
   "metadata": {},
   "outputs": [
    {
     "data": {
      "text/plain": [
       "array([[-2.08520096,  2.        ,  2.        ,  2.        ],\n",
       "       [ 2.        ,  2.        , -0.21684848, -0.00582095],\n",
       "       [-0.31549072, -0.62251812,  2.        ,  2.        ],\n",
       "       [-0.21703839,  2.        ,  2.        ,  2.        ]])"
      ]
     },
     "execution_count": 54,
     "metadata": {},
     "output_type": "execute_result"
    }
   ],
   "source": [
    "np.where(pos, 2, arr)"
   ]
  },
  {
   "cell_type": "code",
   "execution_count": 55,
   "metadata": {},
   "outputs": [],
   "source": [
    "arr = np.random.randn(5, 4)"
   ]
  },
  {
   "cell_type": "code",
   "execution_count": null,
   "metadata": {},
   "outputs": [],
   "source": []
  },
  {
   "cell_type": "raw",
   "metadata": {},
   "source": []
  },
  {
   "cell_type": "code",
   "execution_count": null,
   "metadata": {},
   "outputs": [],
   "source": []
  },
  {
   "cell_type": "code",
   "execution_count": 56,
   "metadata": {},
   "outputs": [
    {
     "data": {
      "text/plain": [
       "array([[-0.94935163,  0.63764993,  0.02419295,  1.81850975],\n",
       "       [-1.05611512,  0.8344682 , -1.26562728, -1.15961603],\n",
       "       [ 0.72866736, -1.44838697, -0.5124944 ,  0.42977256],\n",
       "       [ 0.59612891,  0.27924033, -1.41708289,  0.61537797],\n",
       "       [-0.39816733,  0.56418557, -2.19791884, -0.48755063]])"
      ]
     },
     "execution_count": 56,
     "metadata": {},
     "output_type": "execute_result"
    }
   ],
   "source": [
    "arr"
   ]
  },
  {
   "cell_type": "code",
   "execution_count": 57,
   "metadata": {},
   "outputs": [
    {
     "data": {
      "text/plain": [
       "-0.21820588058737247"
      ]
     },
     "execution_count": 57,
     "metadata": {},
     "output_type": "execute_result"
    }
   ],
   "source": [
    "arr.mean()"
   ]
  },
  {
   "cell_type": "code",
   "execution_count": 58,
   "metadata": {},
   "outputs": [
    {
     "data": {
      "text/plain": [
       "-0.21820588058737247"
      ]
     },
     "execution_count": 58,
     "metadata": {},
     "output_type": "execute_result"
    }
   ],
   "source": [
    "np.mean(arr)"
   ]
  },
  {
   "cell_type": "code",
   "execution_count": 59,
   "metadata": {},
   "outputs": [
    {
     "data": {
      "text/plain": [
       "-4.364117611747449"
      ]
     },
     "execution_count": 59,
     "metadata": {},
     "output_type": "execute_result"
    }
   ],
   "source": [
    "arr.sum()"
   ]
  },
  {
   "cell_type": "code",
   "execution_count": 60,
   "metadata": {},
   "outputs": [
    {
     "data": {
      "text/plain": [
       "array([ 0.38275025, -0.66172256, -0.20061036,  0.01841608, -0.62986281])"
      ]
     },
     "execution_count": 60,
     "metadata": {},
     "output_type": "execute_result"
    }
   ],
   "source": [
    "arr.mean(axis = 1)"
   ]
  },
  {
   "cell_type": "code",
   "execution_count": 61,
   "metadata": {},
   "outputs": [
    {
     "data": {
      "text/plain": [
       "array([-0.21576756,  0.17343141, -1.07378609,  0.24329872])"
      ]
     },
     "execution_count": 61,
     "metadata": {},
     "output_type": "execute_result"
    }
   ],
   "source": [
    "arr.mean(axis = 0)"
   ]
  },
  {
   "cell_type": "code",
   "execution_count": 62,
   "metadata": {},
   "outputs": [
    {
     "data": {
      "text/plain": [
       "array([-1.07883781,  0.86715704, -5.36893046,  1.21649362])"
      ]
     },
     "execution_count": 62,
     "metadata": {},
     "output_type": "execute_result"
    }
   ],
   "source": [
    "arr.sum(axis = 0)arr.sum(axis = 0)"
   ]
  },
  {
   "cell_type": "code",
   "execution_count": 63,
   "metadata": {},
   "outputs": [
    {
     "data": {
      "text/plain": [
       "array([ 1.531001  , -2.64689023, -0.80244146,  0.07366431, -2.51945124])"
      ]
     },
     "execution_count": 63,
     "metadata": {},
     "output_type": "execute_result"
    }
   ],
   "source": [
    "arr.sum(axis = 1)"
   ]
  },
  {
   "cell_type": "code",
   "execution_count": 64,
   "metadata": {},
   "outputs": [
    {
     "data": {
      "text/plain": [
       "array([0, 1, 2, 3, 4, 5, 6])"
      ]
     },
     "execution_count": 64,
     "metadata": {},
     "output_type": "execute_result"
    }
   ],
   "source": [
    "arr = np.arange(7)\n",
    "arr"
   ]
  },
  {
   "cell_type": "code",
   "execution_count": 65,
   "metadata": {},
   "outputs": [
    {
     "data": {
      "text/plain": [
       "array([0, 1, 2, 3, 4, 5, 6, 7])"
      ]
     },
     "execution_count": 65,
     "metadata": {},
     "output_type": "execute_result"
    }
   ],
   "source": [
    "arr = np.arange(8)\n",
    "arr"
   ]
  },
  {
   "cell_type": "code",
   "execution_count": 66,
   "metadata": {},
   "outputs": [
    {
     "data": {
      "text/plain": [
       "array([ 0,  1,  3,  6, 10, 15, 21, 28], dtype=int32)"
      ]
     },
     "execution_count": 66,
     "metadata": {},
     "output_type": "execute_result"
    }
   ],
   "source": [
    "arr.cumsum()"
   ]
  },
  {
   "cell_type": "code",
   "execution_count": 67,
   "metadata": {},
   "outputs": [],
   "source": [
    "arr = np.arange(9).reshape(3,3)"
   ]
  },
  {
   "cell_type": "code",
   "execution_count": 68,
   "metadata": {},
   "outputs": [
    {
     "data": {
      "text/plain": [
       "array([[0, 1, 2],\n",
       "       [3, 4, 5],\n",
       "       [6, 7, 8]])"
      ]
     },
     "execution_count": 68,
     "metadata": {},
     "output_type": "execute_result"
    }
   ],
   "source": [
    "arr"
   ]
  },
  {
   "cell_type": "code",
   "execution_count": 69,
   "metadata": {},
   "outputs": [
    {
     "data": {
      "text/plain": [
       "array([[ 0,  1,  2],\n",
       "       [ 3,  5,  7],\n",
       "       [ 9, 12, 15]], dtype=int32)"
      ]
     },
     "execution_count": 69,
     "metadata": {},
     "output_type": "execute_result"
    }
   ],
   "source": [
    "arr.cumsum(axis = 0)"
   ]
  },
  {
   "cell_type": "code",
   "execution_count": 70,
   "metadata": {},
   "outputs": [
    {
     "data": {
      "text/plain": [
       "array([[  0,   0,   0],\n",
       "       [  3,  12,  60],\n",
       "       [  6,  42, 336]], dtype=int32)"
      ]
     },
     "execution_count": 70,
     "metadata": {},
     "output_type": "execute_result"
    }
   ],
   "source": [
    "arr.cumprod(axis = 1)"
   ]
  },
  {
   "cell_type": "code",
   "execution_count": 71,
   "metadata": {},
   "outputs": [],
   "source": [
    "arr = np.random.randn(100)"
   ]
  },
  {
   "cell_type": "code",
   "execution_count": 72,
   "metadata": {},
   "outputs": [
    {
     "data": {
      "text/plain": [
       "47"
      ]
     },
     "execution_count": 72,
     "metadata": {},
     "output_type": "execute_result"
    }
   ],
   "source": [
    "(arr>0).sum()"
   ]
  },
  {
   "cell_type": "code",
   "execution_count": 73,
   "metadata": {},
   "outputs": [],
   "source": [
    "bools = np.array([False, False, True, False])"
   ]
  },
  {
   "cell_type": "code",
   "execution_count": 74,
   "metadata": {},
   "outputs": [
    {
     "data": {
      "text/plain": [
       "<function ndarray.any>"
      ]
     },
     "execution_count": 74,
     "metadata": {},
     "output_type": "execute_result"
    }
   ],
   "source": [
    "bools.any"
   ]
  },
  {
   "cell_type": "code",
   "execution_count": 75,
   "metadata": {},
   "outputs": [
    {
     "data": {
      "text/plain": [
       "True"
      ]
     },
     "execution_count": 75,
     "metadata": {},
     "output_type": "execute_result"
    }
   ],
   "source": [
    "bools.any()"
   ]
  },
  {
   "cell_type": "code",
   "execution_count": 76,
   "metadata": {},
   "outputs": [
    {
     "data": {
      "text/plain": [
       "False"
      ]
     },
     "execution_count": 76,
     "metadata": {},
     "output_type": "execute_result"
    }
   ],
   "source": [
    "bools.all()"
   ]
  },
  {
   "cell_type": "code",
   "execution_count": 77,
   "metadata": {},
   "outputs": [],
   "source": [
    "arr = np.random.randn(6)"
   ]
  },
  {
   "cell_type": "code",
   "execution_count": 78,
   "metadata": {},
   "outputs": [
    {
     "data": {
      "text/plain": [
       "array([ 0.10914682, -1.62006745, -0.79048964,  1.89368796, -0.88390478,\n",
       "       -2.01778752])"
      ]
     },
     "execution_count": 78,
     "metadata": {},
     "output_type": "execute_result"
    }
   ],
   "source": [
    "arr"
   ]
  },
  {
   "cell_type": "code",
   "execution_count": 79,
   "metadata": {},
   "outputs": [],
   "source": [
    "arr.sort()"
   ]
  },
  {
   "cell_type": "code",
   "execution_count": 80,
   "metadata": {},
   "outputs": [
    {
     "data": {
      "text/plain": [
       "array([-2.01778752, -1.62006745, -0.88390478, -0.79048964,  0.10914682,\n",
       "        1.89368796])"
      ]
     },
     "execution_count": 80,
     "metadata": {},
     "output_type": "execute_result"
    }
   ],
   "source": [
    "arr"
   ]
  },
  {
   "cell_type": "code",
   "execution_count": 81,
   "metadata": {},
   "outputs": [
    {
     "data": {
      "text/plain": [
       "array([[-1.25046767, -0.35361252,  0.64454536],\n",
       "       [-0.29681073,  0.35062819,  1.25333691],\n",
       "       [ 0.25011974,  0.74158215,  0.5569571 ],\n",
       "       [ 1.82575445,  0.88876936, -1.31849871],\n",
       "       [-1.04864625,  0.76064619,  0.2725342 ]])"
      ]
     },
     "execution_count": 81,
     "metadata": {},
     "output_type": "execute_result"
    }
   ],
   "source": [
    "arr = np.random.randn(5, 3)\n",
    "arr"
   ]
  },
  {
   "cell_type": "code",
   "execution_count": 82,
   "metadata": {},
   "outputs": [
    {
     "data": {
      "text/plain": [
       "array([[-1.25046767, -0.35361252,  0.64454536],\n",
       "       [-0.29681073,  0.35062819,  1.25333691],\n",
       "       [ 0.25011974,  0.5569571 ,  0.74158215],\n",
       "       [-1.31849871,  0.88876936,  1.82575445],\n",
       "       [-1.04864625,  0.2725342 ,  0.76064619]])"
      ]
     },
     "execution_count": 82,
     "metadata": {},
     "output_type": "execute_result"
    }
   ],
   "source": [
    "arr.sort()\n",
    "arr"
   ]
  },
  {
   "cell_type": "code",
   "execution_count": 83,
   "metadata": {},
   "outputs": [
    {
     "data": {
      "text/plain": [
       "array([[-1.25046767, -0.35361252,  0.64454536],\n",
       "       [-0.29681073,  0.35062819,  1.25333691],\n",
       "       [ 0.25011974,  0.5569571 ,  0.74158215],\n",
       "       [-1.31849871,  0.88876936,  1.82575445],\n",
       "       [-1.04864625,  0.2725342 ,  0.76064619]])"
      ]
     },
     "execution_count": 83,
     "metadata": {},
     "output_type": "execute_result"
    }
   ],
   "source": [
    "arr.sort(1)\n",
    "arr"
   ]
  },
  {
   "cell_type": "code",
   "execution_count": 84,
   "metadata": {},
   "outputs": [
    {
     "data": {
      "text/plain": [
       "array([[-1.31849871, -0.35361252,  0.64454536],\n",
       "       [-1.25046767,  0.2725342 ,  0.74158215],\n",
       "       [-1.04864625,  0.35062819,  0.76064619],\n",
       "       [-0.29681073,  0.5569571 ,  1.25333691],\n",
       "       [ 0.25011974,  0.88876936,  1.82575445]])"
      ]
     },
     "execution_count": 84,
     "metadata": {},
     "output_type": "execute_result"
    }
   ],
   "source": [
    "arr.sort(0)\n",
    "arr"
   ]
  },
  {
   "cell_type": "code",
   "execution_count": 85,
   "metadata": {},
   "outputs": [
    {
     "ename": "NameError",
     "evalue": "name 'aa' is not defined",
     "output_type": "error",
     "traceback": [
      "\u001b[1;31m---------------------------------------------------------------------------\u001b[0m",
      "\u001b[1;31mNameError\u001b[0m                                 Traceback (most recent call last)",
      "\u001b[1;32m<ipython-input-85-312382290f4f>\u001b[0m in \u001b[0;36m<module>\u001b[1;34m()\u001b[0m\n\u001b[1;32m----> 1\u001b[1;33m \u001b[0maa\u001b[0m\u001b[1;33m\u001b[0m\u001b[0m\n\u001b[0m",
      "\u001b[1;31mNameError\u001b[0m: name 'aa' is not defined"
     ]
    }
   ],
   "source": [
    "aa"
   ]
  },
  {
   "cell_type": "code",
   "execution_count": 86,
   "metadata": {},
   "outputs": [
    {
     "data": {
      "text/plain": [
       "array([[-1.31849871, -0.35361252,  0.64454536],\n",
       "       [-1.25046767,  0.2725342 ,  0.74158215],\n",
       "       [-1.04864625,  0.35062819,  0.76064619],\n",
       "       [-0.29681073,  0.5569571 ,  1.25333691],\n",
       "       [ 0.25011974,  0.88876936,  1.82575445]])"
      ]
     },
     "execution_count": 86,
     "metadata": {},
     "output_type": "execute_result"
    }
   ],
   "source": [
    "arr"
   ]
  },
  {
   "cell_type": "code",
   "execution_count": 87,
   "metadata": {},
   "outputs": [],
   "source": [
    "large_arr = np.random.randn(1000)\n",
    "large_arr.sort()"
   ]
  },
  {
   "cell_type": "code",
   "execution_count": 88,
   "metadata": {},
   "outputs": [
    {
     "data": {
      "text/plain": [
       "array([-3.11489492e+00, -2.64688831e+00, -2.61572116e+00, -2.57897549e+00,\n",
       "       -2.48968044e+00, -2.39046252e+00, -2.38725362e+00, -2.37829245e+00,\n",
       "       -2.36004770e+00, -2.35913928e+00, -2.25752374e+00, -2.20014768e+00,\n",
       "       -2.19015763e+00, -2.15964098e+00, -2.15078714e+00, -2.07406697e+00,\n",
       "       -2.04135343e+00, -2.02712904e+00, -2.01647288e+00, -2.01507119e+00,\n",
       "       -2.01456298e+00, -2.00419816e+00, -1.99017523e+00, -1.97066908e+00,\n",
       "       -1.93603518e+00, -1.93234204e+00, -1.93027049e+00, -1.90575861e+00,\n",
       "       -1.90249442e+00, -1.88393335e+00, -1.87809113e+00, -1.87459206e+00,\n",
       "       -1.86563202e+00, -1.86257558e+00, -1.81085577e+00, -1.80848730e+00,\n",
       "       -1.80584286e+00, -1.80135307e+00, -1.79636173e+00, -1.78445962e+00,\n",
       "       -1.75911601e+00, -1.75250461e+00, -1.73253621e+00, -1.70681588e+00,\n",
       "       -1.68868560e+00, -1.68820859e+00, -1.67133352e+00, -1.66070375e+00,\n",
       "       -1.65718092e+00, -1.65178644e+00, -1.65106258e+00, -1.64606974e+00,\n",
       "       -1.64362892e+00, -1.63264379e+00, -1.63024104e+00, -1.62782066e+00,\n",
       "       -1.62172214e+00, -1.59808476e+00, -1.59204522e+00, -1.57555547e+00,\n",
       "       -1.56826353e+00, -1.56033517e+00, -1.55560714e+00, -1.55126849e+00,\n",
       "       -1.50944647e+00, -1.50408216e+00, -1.49808574e+00, -1.49726383e+00,\n",
       "       -1.49630262e+00, -1.49225046e+00, -1.48711923e+00, -1.48612057e+00,\n",
       "       -1.48548783e+00, -1.47427050e+00, -1.46415355e+00, -1.45484820e+00,\n",
       "       -1.43324204e+00, -1.42949738e+00, -1.41416103e+00, -1.41374929e+00,\n",
       "       -1.40194183e+00, -1.39123275e+00, -1.39113297e+00, -1.38964093e+00,\n",
       "       -1.38143803e+00, -1.37726878e+00, -1.37212703e+00, -1.36338537e+00,\n",
       "       -1.36131899e+00, -1.35897654e+00, -1.35360994e+00, -1.35168244e+00,\n",
       "       -1.34890161e+00, -1.34885605e+00, -1.33536465e+00, -1.33268686e+00,\n",
       "       -1.33223327e+00, -1.33038623e+00, -1.32801801e+00, -1.32063074e+00,\n",
       "       -1.31481608e+00, -1.31134250e+00, -1.28806299e+00, -1.26024935e+00,\n",
       "       -1.25969187e+00, -1.25957830e+00, -1.24296492e+00, -1.22355820e+00,\n",
       "       -1.21787875e+00, -1.21493218e+00, -1.21149173e+00, -1.20451381e+00,\n",
       "       -1.20445655e+00, -1.18676051e+00, -1.18115322e+00, -1.16981859e+00,\n",
       "       -1.16816295e+00, -1.16340748e+00, -1.15935322e+00, -1.15547585e+00,\n",
       "       -1.14849145e+00, -1.14617371e+00, -1.14429609e+00, -1.13188690e+00,\n",
       "       -1.12361992e+00, -1.11949563e+00, -1.11528233e+00, -1.10983606e+00,\n",
       "       -1.10434709e+00, -1.09358024e+00, -1.08579788e+00, -1.07771795e+00,\n",
       "       -1.06818170e+00, -1.06117189e+00, -1.05930311e+00, -1.05668728e+00,\n",
       "       -1.05176774e+00, -1.05147259e+00, -1.04902860e+00, -1.04809487e+00,\n",
       "       -1.04808239e+00, -1.04555824e+00, -1.04078563e+00, -1.03998414e+00,\n",
       "       -1.03295622e+00, -1.03243792e+00, -1.03095243e+00, -1.01261904e+00,\n",
       "       -1.01097985e+00, -1.00551638e+00, -9.96684226e-01, -9.88670233e-01,\n",
       "       -9.88198016e-01, -9.83500562e-01, -9.75989639e-01, -9.70564779e-01,\n",
       "       -9.69611402e-01, -9.55906799e-01, -9.52785537e-01, -9.52099310e-01,\n",
       "       -9.51228679e-01, -9.50973058e-01, -9.50434266e-01, -9.46161086e-01,\n",
       "       -9.45595108e-01, -9.35755016e-01, -9.33665450e-01, -9.33470321e-01,\n",
       "       -9.31919100e-01, -9.26237885e-01, -9.19574858e-01, -9.18739204e-01,\n",
       "       -9.17945822e-01, -9.07773225e-01, -9.06483727e-01, -9.03693492e-01,\n",
       "       -9.01882073e-01, -9.01788969e-01, -8.94052148e-01, -8.90535266e-01,\n",
       "       -8.89941906e-01, -8.80558874e-01, -8.80196495e-01, -8.78446021e-01,\n",
       "       -8.78168259e-01, -8.67663835e-01, -8.64479109e-01, -8.59988509e-01,\n",
       "       -8.59774787e-01, -8.56586520e-01, -8.56437157e-01, -8.49981740e-01,\n",
       "       -8.49700243e-01, -8.47071845e-01, -8.46982702e-01, -8.42573296e-01,\n",
       "       -8.40744359e-01, -8.34923640e-01, -8.33297541e-01, -8.31260612e-01,\n",
       "       -8.25412536e-01, -8.22473240e-01, -8.13260660e-01, -8.09547139e-01,\n",
       "       -8.09449319e-01, -7.93279322e-01, -7.91709108e-01, -7.89489678e-01,\n",
       "       -7.89385745e-01, -7.82916089e-01, -7.74148097e-01, -7.69801602e-01,\n",
       "       -7.69605846e-01, -7.69144016e-01, -7.68336260e-01, -7.67944618e-01,\n",
       "       -7.66225142e-01, -7.65548296e-01, -7.56718636e-01, -7.55921344e-01,\n",
       "       -7.51681456e-01, -7.51443955e-01, -7.44809235e-01, -7.41448836e-01,\n",
       "       -7.36943353e-01, -7.34999803e-01, -7.34734750e-01, -7.31164843e-01,\n",
       "       -7.30568930e-01, -7.27370148e-01, -7.24674809e-01, -7.23555887e-01,\n",
       "       -7.22760263e-01, -7.19737017e-01, -7.15097549e-01, -7.13552753e-01,\n",
       "       -7.08229800e-01, -7.08150960e-01, -7.00635476e-01, -6.96301126e-01,\n",
       "       -6.93106587e-01, -6.92707102e-01, -6.89778421e-01, -6.86443536e-01,\n",
       "       -6.81093637e-01, -6.79752130e-01, -6.77684918e-01, -6.74476383e-01,\n",
       "       -6.69948245e-01, -6.68286275e-01, -6.60934910e-01, -6.60240513e-01,\n",
       "       -6.57050374e-01, -6.52929529e-01, -6.52045041e-01, -6.50782498e-01,\n",
       "       -6.48601765e-01, -6.46764172e-01, -6.42394309e-01, -6.34667046e-01,\n",
       "       -6.34087992e-01, -6.30842579e-01, -6.30384994e-01, -6.23917640e-01,\n",
       "       -6.23829548e-01, -6.23703200e-01, -6.21804104e-01, -6.21267043e-01,\n",
       "       -6.13286530e-01, -6.10709575e-01, -6.10184071e-01, -6.07860851e-01,\n",
       "       -6.03742441e-01, -5.97566408e-01, -5.94047597e-01, -5.91047982e-01,\n",
       "       -5.77471616e-01, -5.76503411e-01, -5.66530629e-01, -5.66095937e-01,\n",
       "       -5.65121121e-01, -5.64268643e-01, -5.63520357e-01, -5.55787061e-01,\n",
       "       -5.54909823e-01, -5.50845475e-01, -5.37503700e-01, -5.37248631e-01,\n",
       "       -5.33760724e-01, -5.31489326e-01, -5.29460477e-01, -5.27451071e-01,\n",
       "       -5.27058827e-01, -5.26299821e-01, -5.24031174e-01, -5.20462856e-01,\n",
       "       -5.19348685e-01, -5.17777393e-01, -5.17765167e-01, -5.17203905e-01,\n",
       "       -5.15736745e-01, -5.15728941e-01, -5.15165554e-01, -5.13563930e-01,\n",
       "       -5.10309696e-01, -5.09626363e-01, -5.08726762e-01, -5.04967657e-01,\n",
       "       -5.00201729e-01, -4.98902646e-01, -4.94425741e-01, -4.93834119e-01,\n",
       "       -4.92587517e-01, -4.90937424e-01, -4.86993666e-01, -4.86206779e-01,\n",
       "       -4.84869012e-01, -4.82339264e-01, -4.81556811e-01, -4.80878983e-01,\n",
       "       -4.77536218e-01, -4.77184393e-01, -4.73457600e-01, -4.69991760e-01,\n",
       "       -4.65701224e-01, -4.65630848e-01, -4.64324492e-01, -4.63479870e-01,\n",
       "       -4.60062281e-01, -4.59057213e-01, -4.55554418e-01, -4.53456327e-01,\n",
       "       -4.49793000e-01, -4.48177094e-01, -4.46909218e-01, -4.43911764e-01,\n",
       "       -4.42764880e-01, -4.40459552e-01, -4.31248657e-01, -4.30420941e-01,\n",
       "       -4.19709394e-01, -4.16924865e-01, -4.15297445e-01, -4.14076724e-01,\n",
       "       -4.08269155e-01, -4.07534228e-01, -4.03150922e-01, -4.00259077e-01,\n",
       "       -3.99275372e-01, -3.98096457e-01, -3.86440689e-01, -3.81694542e-01,\n",
       "       -3.81255662e-01, -3.81096486e-01, -3.81070044e-01, -3.79474929e-01,\n",
       "       -3.78633606e-01, -3.77465113e-01, -3.75650906e-01, -3.73759536e-01,\n",
       "       -3.71266875e-01, -3.70161602e-01, -3.66554935e-01, -3.61471200e-01,\n",
       "       -3.58521282e-01, -3.56650560e-01, -3.54320104e-01, -3.53176208e-01,\n",
       "       -3.52401953e-01, -3.52100944e-01, -3.44238591e-01, -3.38976835e-01,\n",
       "       -3.37578424e-01, -3.33702855e-01, -3.33134741e-01, -3.29297625e-01,\n",
       "       -3.26743549e-01, -3.25997942e-01, -3.24068350e-01, -3.14993150e-01,\n",
       "       -3.14771905e-01, -3.14114490e-01, -3.11770421e-01, -3.09160269e-01,\n",
       "       -3.08513157e-01, -3.06954734e-01, -3.06090333e-01, -3.02894996e-01,\n",
       "       -3.01999243e-01, -3.01738820e-01, -3.01155723e-01, -3.01027904e-01,\n",
       "       -2.97069497e-01, -2.95935462e-01, -2.94412748e-01, -2.92415318e-01,\n",
       "       -2.91383238e-01, -2.88765536e-01, -2.88687741e-01, -2.79036667e-01,\n",
       "       -2.77379809e-01, -2.76643095e-01, -2.76313972e-01, -2.75838686e-01,\n",
       "       -2.73537159e-01, -2.67021773e-01, -2.65792012e-01, -2.57240632e-01,\n",
       "       -2.57015987e-01, -2.51484977e-01, -2.46113194e-01, -2.45332808e-01,\n",
       "       -2.45232996e-01, -2.44759583e-01, -2.41846374e-01, -2.41368937e-01,\n",
       "       -2.41245607e-01, -2.38332272e-01, -2.36611256e-01, -2.35436386e-01,\n",
       "       -2.31389142e-01, -2.29533624e-01, -2.27539304e-01, -2.25025255e-01,\n",
       "       -2.22951804e-01, -2.22889857e-01, -2.20379235e-01, -2.10316754e-01,\n",
       "       -2.10071745e-01, -2.05066766e-01, -2.04775933e-01, -2.03738527e-01,\n",
       "       -2.03241168e-01, -2.02946871e-01, -1.92998917e-01, -1.91025012e-01,\n",
       "       -1.90740108e-01, -1.82788729e-01, -1.80723215e-01, -1.78795602e-01,\n",
       "       -1.72402701e-01, -1.70362862e-01, -1.67870080e-01, -1.65039506e-01,\n",
       "       -1.61130511e-01, -1.58342768e-01, -1.56571656e-01, -1.53633438e-01,\n",
       "       -1.51409597e-01, -1.48987796e-01, -1.41054479e-01, -1.38764527e-01,\n",
       "       -1.34494320e-01, -1.26020039e-01, -1.24400420e-01, -1.24062117e-01,\n",
       "       -1.21597081e-01, -1.19506838e-01, -1.10675181e-01, -1.02844790e-01,\n",
       "       -9.87261119e-02, -9.70039062e-02, -9.46816132e-02, -9.37722673e-02,\n",
       "       -8.84349513e-02, -8.75518227e-02, -8.63048684e-02, -8.39329949e-02,\n",
       "       -7.96008148e-02, -7.89957219e-02, -7.85358150e-02, -7.83621392e-02,\n",
       "       -6.78012176e-02, -6.63721077e-02, -6.36727682e-02, -6.28461890e-02,\n",
       "       -6.28255043e-02, -6.26991013e-02, -6.22061891e-02, -6.17589702e-02,\n",
       "       -6.15930705e-02, -6.13773192e-02, -5.58757155e-02, -4.97221561e-02,\n",
       "       -4.77674516e-02, -3.81827837e-02, -3.79620580e-02, -3.41683226e-02,\n",
       "       -3.36880590e-02, -2.89616506e-02, -2.85119435e-02, -2.46158853e-02,\n",
       "       -2.42078925e-02, -2.14079224e-02, -1.78127752e-02, -1.74978080e-02,\n",
       "       -1.56273886e-02, -1.34436121e-02, -1.04628362e-02, -7.25818937e-03,\n",
       "       -6.88832912e-03, -2.61738564e-03, -1.98993001e-03, -1.91143240e-03,\n",
       "       -7.44865361e-04,  2.29179073e-03,  2.47191457e-03,  6.40538396e-03,\n",
       "        1.25799397e-02,  1.33531092e-02,  1.91123951e-02,  1.94334128e-02,\n",
       "        2.28797646e-02,  2.47703694e-02,  2.68623005e-02,  2.74522499e-02,\n",
       "        2.76973234e-02,  3.05379719e-02,  3.45295667e-02,  3.47770566e-02,\n",
       "        3.81032934e-02,  4.04406078e-02,  4.77937276e-02,  4.99009988e-02,\n",
       "        5.39666009e-02,  5.50005390e-02,  5.73564658e-02,  6.42088082e-02,\n",
       "        6.78729762e-02,  7.12143277e-02,  7.91963783e-02,  8.35586887e-02,\n",
       "        8.82246029e-02,  8.86474813e-02,  9.26866264e-02,  9.45437652e-02,\n",
       "        9.48391780e-02,  9.50392023e-02,  1.01541696e-01,  1.02258845e-01,\n",
       "        1.03688763e-01,  1.07671033e-01,  1.09952262e-01,  1.11541052e-01,\n",
       "        1.12991539e-01,  1.13156187e-01,  1.13444921e-01,  1.14246686e-01,\n",
       "        1.18594985e-01,  1.22139647e-01,  1.23000554e-01,  1.26551044e-01,\n",
       "        1.31940906e-01,  1.32275690e-01,  1.32323205e-01,  1.49440984e-01,\n",
       "        1.50078744e-01,  1.53168554e-01,  1.53500301e-01,  1.56948131e-01,\n",
       "        1.57987656e-01,  1.61043373e-01,  1.62493492e-01,  1.63606178e-01,\n",
       "        1.67312298e-01,  1.69625389e-01,  1.72492567e-01,  1.72584034e-01,\n",
       "        1.77951466e-01,  1.84234823e-01,  1.88736221e-01,  1.92743569e-01,\n",
       "        1.94444012e-01,  1.94646993e-01,  1.99568292e-01,  2.00312270e-01,\n",
       "        2.03033173e-01,  2.03112021e-01,  2.03773772e-01,  2.04910080e-01,\n",
       "        2.06388759e-01,  2.08690953e-01,  2.11389369e-01,  2.12703074e-01,\n",
       "        2.13638008e-01,  2.13696034e-01,  2.14768845e-01,  2.17618945e-01,\n",
       "        2.17865558e-01,  2.20861552e-01,  2.28514692e-01,  2.28618244e-01,\n",
       "        2.29130477e-01,  2.29135670e-01,  2.31058699e-01,  2.31427249e-01,\n",
       "        2.33071177e-01,  2.33576066e-01,  2.34156257e-01,  2.34292464e-01,\n",
       "        2.34369524e-01,  2.35839737e-01,  2.38277275e-01,  2.43012974e-01,\n",
       "        2.46113367e-01,  2.52461304e-01,  2.52836871e-01,  2.54091840e-01,\n",
       "        2.59849201e-01,  2.61194720e-01,  2.66102037e-01,  2.67752337e-01,\n",
       "        2.69376586e-01,  2.69824718e-01,  2.75488016e-01,  2.80828320e-01,\n",
       "        2.81479130e-01,  2.82961416e-01,  2.83100153e-01,  2.83536525e-01,\n",
       "        2.83988175e-01,  2.93279301e-01,  2.94723790e-01,  3.05315486e-01,\n",
       "        3.08486253e-01,  3.08702685e-01,  3.09503510e-01,  3.10633051e-01,\n",
       "        3.12655265e-01,  3.18012209e-01,  3.19332040e-01,  3.20036815e-01,\n",
       "        3.21030783e-01,  3.24651202e-01,  3.25887366e-01,  3.27587290e-01,\n",
       "        3.29173210e-01,  3.37560790e-01,  3.40089290e-01,  3.40430298e-01,\n",
       "        3.40658617e-01,  3.43760419e-01,  3.44430697e-01,  3.56526353e-01,\n",
       "        3.66229824e-01,  3.66774248e-01,  3.68495285e-01,  3.70045024e-01,\n",
       "        3.88711333e-01,  3.92596859e-01,  3.94949241e-01,  3.95559890e-01,\n",
       "        3.98905266e-01,  4.10742629e-01,  4.11144775e-01,  4.12139903e-01,\n",
       "        4.19842306e-01,  4.26238165e-01,  4.30899125e-01,  4.34015623e-01,\n",
       "        4.34701426e-01,  4.39617482e-01,  4.45718466e-01,  4.47920474e-01,\n",
       "        4.51170876e-01,  4.51782404e-01,  4.51912115e-01,  4.52882531e-01,\n",
       "        4.54834187e-01,  4.55899798e-01,  4.58147446e-01,  4.61629774e-01,\n",
       "        4.62295451e-01,  4.68047042e-01,  4.69962607e-01,  4.70989478e-01,\n",
       "        4.74974081e-01,  4.77119790e-01,  4.78269028e-01,  4.80039512e-01,\n",
       "        4.80198700e-01,  4.81492246e-01,  4.84185371e-01,  4.84275957e-01,\n",
       "        4.86506084e-01,  4.87219953e-01,  4.87641152e-01,  4.89204288e-01,\n",
       "        4.89951358e-01,  4.94562504e-01,  4.95536283e-01,  5.01325843e-01,\n",
       "        5.02933569e-01,  5.03420422e-01,  5.05179657e-01,  5.06084911e-01,\n",
       "        5.15036218e-01,  5.15519544e-01,  5.16548622e-01,  5.18802806e-01,\n",
       "        5.28282369e-01,  5.29168756e-01,  5.31623005e-01,  5.37232731e-01,\n",
       "        5.39970710e-01,  5.40222563e-01,  5.47290916e-01,  5.52819449e-01,\n",
       "        5.62641176e-01,  5.67036749e-01,  5.71576663e-01,  5.74726248e-01,\n",
       "        5.78852355e-01,  5.79146960e-01,  5.80963822e-01,  5.81286260e-01,\n",
       "        5.84113803e-01,  5.85156552e-01,  5.85233691e-01,  5.89138209e-01,\n",
       "        5.90948314e-01,  5.91580950e-01,  5.92464120e-01,  5.97218128e-01,\n",
       "        5.99846092e-01,  6.00910981e-01,  6.04953770e-01,  6.09879957e-01,\n",
       "        6.13001207e-01,  6.14821911e-01,  6.16497522e-01,  6.19577051e-01,\n",
       "        6.19657073e-01,  6.22001435e-01,  6.31396401e-01,  6.32887701e-01,\n",
       "        6.36145203e-01,  6.42267076e-01,  6.42951409e-01,  6.43317410e-01,\n",
       "        6.45480024e-01,  6.47381848e-01,  6.54941715e-01,  6.62746718e-01,\n",
       "        6.66042880e-01,  6.74689390e-01,  6.76303215e-01,  6.76425938e-01,\n",
       "        6.79357057e-01,  6.79767109e-01,  6.80224120e-01,  6.80611694e-01,\n",
       "        6.80756209e-01,  6.80935118e-01,  6.81537262e-01,  6.85894172e-01,\n",
       "        6.89050774e-01,  6.90903878e-01,  6.94797896e-01,  6.95907355e-01,\n",
       "        6.97942151e-01,  6.99434809e-01,  7.03016256e-01,  7.03997524e-01,\n",
       "        7.09615320e-01,  7.13369314e-01,  7.13666780e-01,  7.15358505e-01,\n",
       "        7.21998734e-01,  7.23279370e-01,  7.24784335e-01,  7.25244566e-01,\n",
       "        7.26299540e-01,  7.31566569e-01,  7.33846836e-01,  7.34500355e-01,\n",
       "        7.38172872e-01,  7.39573068e-01,  7.40495780e-01,  7.41612740e-01,\n",
       "        7.43599356e-01,  7.48860067e-01,  7.53186684e-01,  7.55033146e-01,\n",
       "        7.59941384e-01,  7.62608700e-01,  7.63662382e-01,  7.64442782e-01,\n",
       "        7.67218783e-01,  7.68190066e-01,  7.70376794e-01,  7.75790398e-01,\n",
       "        7.77879158e-01,  7.84042597e-01,  7.90042076e-01,  7.93385676e-01,\n",
       "        7.95668218e-01,  8.01038769e-01,  8.03485929e-01,  8.03835534e-01,\n",
       "        8.04900848e-01,  8.06459697e-01,  8.06523092e-01,  8.13674576e-01,\n",
       "        8.17177124e-01,  8.21801646e-01,  8.40778309e-01,  8.45254176e-01,\n",
       "        8.54808908e-01,  8.56671950e-01,  8.57055041e-01,  8.57330078e-01,\n",
       "        8.58117802e-01,  8.59729257e-01,  8.63448825e-01,  8.65052833e-01,\n",
       "        8.65397659e-01,  8.66087622e-01,  8.70327593e-01,  8.73217746e-01,\n",
       "        8.80069904e-01,  8.80565398e-01,  8.82157490e-01,  8.82218472e-01,\n",
       "        8.83561028e-01,  8.86598077e-01,  8.87496305e-01,  8.94481618e-01,\n",
       "        8.95497353e-01,  8.97009110e-01,  8.99338901e-01,  9.01035406e-01,\n",
       "        9.07305664e-01,  9.09175855e-01,  9.09926082e-01,  9.13485026e-01,\n",
       "        9.15431811e-01,  9.18167985e-01,  9.26148967e-01,  9.27183310e-01,\n",
       "        9.32827282e-01,  9.36738842e-01,  9.41047919e-01,  9.44276096e-01,\n",
       "        9.48302584e-01,  9.48924100e-01,  9.49235260e-01,  9.50332012e-01,\n",
       "        9.65408671e-01,  9.66330505e-01,  9.66464554e-01,  9.78785270e-01,\n",
       "        9.81530469e-01,  9.82744962e-01,  9.87212117e-01,  9.97556470e-01,\n",
       "        9.99604617e-01,  1.00475248e+00,  1.00482169e+00,  1.00891509e+00,\n",
       "        1.01981742e+00,  1.02032864e+00,  1.02040469e+00,  1.02075516e+00,\n",
       "        1.02076676e+00,  1.02110937e+00,  1.03128596e+00,  1.03438801e+00,\n",
       "        1.03454212e+00,  1.03923630e+00,  1.04420460e+00,  1.04705593e+00,\n",
       "        1.04886860e+00,  1.05085130e+00,  1.05717100e+00,  1.05896743e+00,\n",
       "        1.06183265e+00,  1.06546921e+00,  1.07551061e+00,  1.07593272e+00,\n",
       "        1.08427538e+00,  1.08519932e+00,  1.08997713e+00,  1.09331299e+00,\n",
       "        1.09962294e+00,  1.11257140e+00,  1.11641994e+00,  1.11718341e+00,\n",
       "        1.12453548e+00,  1.13790620e+00,  1.14493909e+00,  1.15576540e+00,\n",
       "        1.15959309e+00,  1.16134739e+00,  1.16367810e+00,  1.16685475e+00,\n",
       "        1.16970786e+00,  1.17035048e+00,  1.17047610e+00,  1.17059126e+00,\n",
       "        1.17846659e+00,  1.18689118e+00,  1.18886063e+00,  1.19214042e+00,\n",
       "        1.21503200e+00,  1.22233505e+00,  1.23802565e+00,  1.24680932e+00,\n",
       "        1.25617169e+00,  1.26407967e+00,  1.26621147e+00,  1.26861472e+00,\n",
       "        1.27158248e+00,  1.28436955e+00,  1.29284027e+00,  1.29701165e+00,\n",
       "        1.30515652e+00,  1.30872432e+00,  1.31797784e+00,  1.31906381e+00,\n",
       "        1.32085072e+00,  1.32746773e+00,  1.33443220e+00,  1.33745687e+00,\n",
       "        1.34455722e+00,  1.34954165e+00,  1.36416148e+00,  1.37953496e+00,\n",
       "        1.38244819e+00,  1.38275204e+00,  1.38571726e+00,  1.40492203e+00,\n",
       "        1.42070579e+00,  1.42277952e+00,  1.42492862e+00,  1.44240567e+00,\n",
       "        1.44790791e+00,  1.44874133e+00,  1.45306154e+00,  1.45396361e+00,\n",
       "        1.49032135e+00,  1.50579306e+00,  1.50804378e+00,  1.50869413e+00,\n",
       "        1.52412535e+00,  1.53591167e+00,  1.54364824e+00,  1.54939696e+00,\n",
       "        1.55199655e+00,  1.57135854e+00,  1.57388057e+00,  1.57425216e+00,\n",
       "        1.57613598e+00,  1.57724630e+00,  1.57972003e+00,  1.58584516e+00,\n",
       "        1.61854585e+00,  1.63254665e+00,  1.63897447e+00,  1.63948291e+00,\n",
       "        1.65294443e+00,  1.69462395e+00,  1.70238459e+00,  1.70786145e+00,\n",
       "        1.71357670e+00,  1.72799955e+00,  1.74804642e+00,  1.75191414e+00,\n",
       "        1.76258996e+00,  1.76304031e+00,  1.77092910e+00,  1.78627292e+00,\n",
       "        1.78699647e+00,  1.83105117e+00,  1.83421580e+00,  1.84906757e+00,\n",
       "        1.86139067e+00,  1.86942533e+00,  1.87604318e+00,  1.87887249e+00,\n",
       "        1.89047226e+00,  1.90661302e+00,  1.91449799e+00,  1.95807548e+00,\n",
       "        1.97856833e+00,  2.05758905e+00,  2.06193016e+00,  2.12357521e+00,\n",
       "        2.15266328e+00,  2.19506328e+00,  2.20140985e+00,  2.21112256e+00,\n",
       "        2.42708484e+00,  2.57077745e+00,  2.57923308e+00,  2.72752922e+00,\n",
       "        2.76039572e+00,  2.81933888e+00,  3.02905423e+00,  3.22111206e+00])"
      ]
     },
     "execution_count": 88,
     "metadata": {},
     "output_type": "execute_result"
    }
   ],
   "source": [
    "large_arr"
   ]
  },
  {
   "cell_type": "code",
   "execution_count": 89,
   "metadata": {},
   "outputs": [
    {
     "data": {
      "text/plain": [
       "-1.6510625757798663"
      ]
     },
     "execution_count": 89,
     "metadata": {},
     "output_type": "execute_result"
    }
   ],
   "source": [
    "large_arr[int(0.05 * len(large_arr))]"
   ]
  },
  {
   "cell_type": "code",
   "execution_count": 90,
   "metadata": {},
   "outputs": [],
   "source": [
    "ints = np.array([1,4,5,6,8,9,7,6,5,4,3,5,7,7])"
   ]
  },
  {
   "cell_type": "code",
   "execution_count": 91,
   "metadata": {},
   "outputs": [
    {
     "data": {
      "text/plain": [
       "array([1, 3, 4, 5, 6, 7, 8, 9])"
      ]
     },
     "execution_count": 91,
     "metadata": {},
     "output_type": "execute_result"
    }
   ],
   "source": [
    "np.unique(ints)"
   ]
  },
  {
   "cell_type": "code",
   "execution_count": 92,
   "metadata": {},
   "outputs": [
    {
     "data": {
      "text/plain": [
       "[1, 3, 4, 5, 6, 7, 8, 9]"
      ]
     },
     "execution_count": 92,
     "metadata": {},
     "output_type": "execute_result"
    }
   ],
   "source": [
    "sorted(set(ints))"
   ]
  },
  {
   "cell_type": "code",
   "execution_count": 93,
   "metadata": {},
   "outputs": [
    {
     "data": {
      "text/plain": [
       "array([False,  True, False, False, False, False, False, False, False,\n",
       "        True,  True, False, False, False])"
      ]
     },
     "execution_count": 93,
     "metadata": {},
     "output_type": "execute_result"
    }
   ],
   "source": [
    "np.in1d(ints, [2, 3,4])"
   ]
  },
  {
   "cell_type": "code",
   "execution_count": 94,
   "metadata": {},
   "outputs": [],
   "source": [
    "arr = np.arange(10)"
   ]
  },
  {
   "cell_type": "code",
   "execution_count": 95,
   "metadata": {},
   "outputs": [],
   "source": [
    "np.save('exp_arr', arr)"
   ]
  },
  {
   "cell_type": "code",
   "execution_count": 96,
   "metadata": {},
   "outputs": [
    {
     "data": {
      "text/plain": [
       "array([0, 1, 2, 3, 4, 5, 6, 7, 8, 9])"
      ]
     },
     "execution_count": 96,
     "metadata": {},
     "output_type": "execute_result"
    }
   ],
   "source": [
    "np.load('exp_arr.npy')"
   ]
  },
  {
   "cell_type": "code",
   "execution_count": 97,
   "metadata": {},
   "outputs": [],
   "source": [
    "np.savez('arr_archive.npz', a=arr, b=arr*arr)"
   ]
  },
  {
   "cell_type": "code",
   "execution_count": 98,
   "metadata": {},
   "outputs": [],
   "source": [
    "arch = np.load('arr_archive.npz')"
   ]
  },
  {
   "cell_type": "code",
   "execution_count": 99,
   "metadata": {},
   "outputs": [
    {
     "ename": "NameError",
     "evalue": "name 'a' is not defined",
     "output_type": "error",
     "traceback": [
      "\u001b[1;31m---------------------------------------------------------------------------\u001b[0m",
      "\u001b[1;31mNameError\u001b[0m                                 Traceback (most recent call last)",
      "\u001b[1;32m<ipython-input-99-3f786850e387>\u001b[0m in \u001b[0;36m<module>\u001b[1;34m()\u001b[0m\n\u001b[1;32m----> 1\u001b[1;33m \u001b[0ma\u001b[0m\u001b[1;33m\u001b[0m\u001b[0m\n\u001b[0m",
      "\u001b[1;31mNameError\u001b[0m: name 'a' is not defined"
     ]
    }
   ],
   "source": [
    "a"
   ]
  },
  {
   "cell_type": "code",
   "execution_count": 100,
   "metadata": {},
   "outputs": [
    {
     "data": {
      "text/plain": [
       "array([0, 1, 2, 3, 4, 5, 6, 7, 8, 9])"
      ]
     },
     "execution_count": 100,
     "metadata": {},
     "output_type": "execute_result"
    }
   ],
   "source": [
    "arch['a']"
   ]
  },
  {
   "cell_type": "code",
   "execution_count": 101,
   "metadata": {},
   "outputs": [
    {
     "data": {
      "text/plain": [
       "array([ 0,  1,  4,  9, 16, 25, 36, 49, 64, 81])"
      ]
     },
     "execution_count": 101,
     "metadata": {},
     "output_type": "execute_result"
    }
   ],
   "source": [
    "arch['b']"
   ]
  },
  {
   "cell_type": "code",
   "execution_count": 102,
   "metadata": {},
   "outputs": [],
   "source": [
    "np.savez_compressed('arr_compressed.npz', a = arr, b = arr*arr)"
   ]
  },
  {
   "cell_type": "code",
   "execution_count": 103,
   "metadata": {},
   "outputs": [
    {
     "data": {
      "text/plain": [
       "array([[-0.7952115 ,  1.70010002],\n",
       "       [ 0.86586585, -0.30364095],\n",
       "       [-1.9393197 ,  0.32665075]])"
      ]
     },
     "execution_count": 103,
     "metadata": {},
     "output_type": "execute_result"
    }
   ],
   "source": [
    "x = np.random.randn(2, 3)\n",
    "y = np.random.randn(3, 2)\n",
    "x\n",
    "y"
   ]
  },
  {
   "cell_type": "code",
   "execution_count": 104,
   "metadata": {},
   "outputs": [
    {
     "data": {
      "text/plain": [
       "array([[-1.40255481, -1.86457753, -1.05331935],\n",
       "       [ 0.63752126,  0.63026255, -0.06118169]])"
      ]
     },
     "execution_count": 104,
     "metadata": {},
     "output_type": "execute_result"
    }
   ],
   "source": [
    "x"
   ]
  },
  {
   "cell_type": "code",
   "execution_count": 105,
   "metadata": {},
   "outputs": [
    {
     "data": {
      "text/plain": [
       "array([[-0.7952115 ,  1.70010002],\n",
       "       [ 0.86586585, -0.30364095],\n",
       "       [-1.9393197 ,  0.32665075]])"
      ]
     },
     "execution_count": 105,
     "metadata": {},
     "output_type": "execute_result"
    }
   ],
   "source": [
    "y"
   ]
  },
  {
   "cell_type": "code",
   "execution_count": 106,
   "metadata": {},
   "outputs": [
    {
     "data": {
      "text/plain": [
       "array([[ 1.54357667, -2.16238893],\n",
       "       [ 0.15740945,  0.87249133]])"
      ]
     },
     "execution_count": 106,
     "metadata": {},
     "output_type": "execute_result"
    }
   ],
   "source": [
    "x.dot(y)"
   ]
  },
  {
   "cell_type": "code",
   "execution_count": 107,
   "metadata": {},
   "outputs": [
    {
     "data": {
      "text/plain": [
       "array([[ 1.54357667, -2.16238893],\n",
       "       [ 0.15740945,  0.87249133]])"
      ]
     },
     "execution_count": 107,
     "metadata": {},
     "output_type": "execute_result"
    }
   ],
   "source": [
    "np.dot(x,y)"
   ]
  },
  {
   "cell_type": "code",
   "execution_count": 108,
   "metadata": {},
   "outputs": [
    {
     "ename": "ValueError",
     "evalue": "shapes (3,2) and (3,2) not aligned: 2 (dim 1) != 3 (dim 0)",
     "output_type": "error",
     "traceback": [
      "\u001b[1;31m---------------------------------------------------------------------------\u001b[0m",
      "\u001b[1;31mValueError\u001b[0m                                Traceback (most recent call last)",
      "\u001b[1;32m<ipython-input-108-89cfc9ef5ffc>\u001b[0m in \u001b[0;36m<module>\u001b[1;34m()\u001b[0m\n\u001b[1;32m----> 1\u001b[1;33m \u001b[0mnp\u001b[0m\u001b[1;33m.\u001b[0m\u001b[0mdot\u001b[0m\u001b[1;33m(\u001b[0m\u001b[0mx\u001b[0m\u001b[1;33m.\u001b[0m\u001b[0mT\u001b[0m\u001b[1;33m,\u001b[0m\u001b[0my\u001b[0m\u001b[1;33m)\u001b[0m\u001b[1;33m\u001b[0m\u001b[0m\n\u001b[0m",
      "\u001b[1;31mValueError\u001b[0m: shapes (3,2) and (3,2) not aligned: 2 (dim 1) != 3 (dim 0)"
     ]
    }
   ],
   "source": [
    "np.dot(x.T,y)"
   ]
  },
  {
   "cell_type": "code",
   "execution_count": 109,
   "metadata": {},
   "outputs": [
    {
     "data": {
      "text/plain": [
       "array([[ 2.19917762, -1.40800188,  2.92824898],\n",
       "       [ 2.55424288, -1.80584754,  3.82188768],\n",
       "       [ 0.73359667, -0.89345599,  2.02273792]])"
      ]
     },
     "execution_count": 109,
     "metadata": {},
     "output_type": "execute_result"
    }
   ],
   "source": [
    "np.dot(x.T,y.T)"
   ]
  },
  {
   "cell_type": "code",
   "execution_count": 110,
   "metadata": {},
   "outputs": [
    {
     "data": {
      "text/plain": [
       "array([-4.32045169,  1.20660212])"
      ]
     },
     "execution_count": 110,
     "metadata": {},
     "output_type": "execute_result"
    }
   ],
   "source": [
    "np.dot(x, np.ones(3))"
   ]
  },
  {
   "cell_type": "code",
   "execution_count": 111,
   "metadata": {},
   "outputs": [
    {
     "data": {
      "text/plain": [
       "array([-4.32045169,  1.20660212])"
      ]
     },
     "execution_count": 111,
     "metadata": {},
     "output_type": "execute_result"
    }
   ],
   "source": [
    "x@ np.ones(3)"
   ]
  },
  {
   "cell_type": "code",
   "execution_count": 112,
   "metadata": {},
   "outputs": [],
   "source": [
    "from numpy.linalg import inv, qr"
   ]
  },
  {
   "cell_type": "code",
   "execution_count": 113,
   "metadata": {},
   "outputs": [],
   "source": [
    "X = np.random.randn(5,5)"
   ]
  },
  {
   "cell_type": "code",
   "execution_count": 114,
   "metadata": {},
   "outputs": [
    {
     "data": {
      "text/plain": [
       "array([[-1.40255481, -1.86457753, -1.05331935],\n",
       "       [ 0.63752126,  0.63026255, -0.06118169]])"
      ]
     },
     "execution_count": 114,
     "metadata": {},
     "output_type": "execute_result"
    }
   ],
   "source": [
    "x"
   ]
  },
  {
   "cell_type": "code",
   "execution_count": 115,
   "metadata": {},
   "outputs": [
    {
     "data": {
      "text/plain": [
       "array([[ 1.11732459,  0.58600355,  1.16088818, -0.83794156,  1.07013142],\n",
       "       [-0.39885339,  0.66095836, -1.82008799, -1.40416887,  2.00509207],\n",
       "       [-0.30029805,  1.44993739, -0.17734278, -0.49227201, -0.35264671],\n",
       "       [-1.12771176,  0.94156837, -0.0899722 ,  0.10485813, -1.64874439],\n",
       "       [-0.93583563, -0.34995937,  0.67885022, -1.05268233,  0.12314675]])"
      ]
     },
     "execution_count": 115,
     "metadata": {},
     "output_type": "execute_result"
    }
   ],
   "source": [
    "X"
   ]
  },
  {
   "cell_type": "code",
   "execution_count": 116,
   "metadata": {},
   "outputs": [],
   "source": [
    "mat = np.dot(X.T, X)"
   ]
  },
  {
   "cell_type": "code",
   "execution_count": 117,
   "metadata": {},
   "outputs": [
    {
     "data": {
      "text/plain": [
       "array([[ 3.64519931, -0.77859594,  1.54246334,  0.63852101,  2.24590883],\n",
       "       [-0.77859594,  3.8916071 , -1.10213867, -1.66577034, -0.15443438],\n",
       "       [ 1.54246334, -1.10213867,  5.16076471,  0.94620738, -2.11266238],\n",
       "       [ 0.63852101, -1.66577034,  0.94620738,  4.0353033 , -3.841116  ],\n",
       "       [ 2.24590883, -0.15443438, -2.11266238, -3.841116  ,  8.02345836]])"
      ]
     },
     "execution_count": 117,
     "metadata": {},
     "output_type": "execute_result"
    }
   ],
   "source": [
    "mat"
   ]
  },
  {
   "cell_type": "code",
   "execution_count": 118,
   "metadata": {},
   "outputs": [
    {
     "data": {
      "text/plain": [
       "array([[ 23313.53308441, -12595.62572762, -14335.11819823,\n",
       "        -28591.9822916 , -24230.90445418],\n",
       "       [-12595.62572762,   6805.50565116,   7744.96650462,\n",
       "         15447.78214932,  13091.46864727],\n",
       "       [-14335.11819823,   7744.96650462,   8814.68252176,\n",
       "         17580.85285961,  14899.31094101],\n",
       "       [-28591.9822916 ,  15447.78214932,  17580.85285961,\n",
       "         35066.27859297,  29717.44770191],\n",
       "       [-24230.90445418,  13091.46864727,  14899.31094101,\n",
       "         29717.44770191,  25184.72003879]])"
      ]
     },
     "execution_count": 118,
     "metadata": {},
     "output_type": "execute_result"
    }
   ],
   "source": [
    "inv(mat)"
   ]
  },
  {
   "cell_type": "code",
   "execution_count": 119,
   "metadata": {},
   "outputs": [
    {
     "ename": "SyntaxError",
     "evalue": "invalid syntax (<ipython-input-119-7df569d4437d>, line 1)",
     "output_type": "error",
     "traceback": [
      "\u001b[1;36m  File \u001b[1;32m\"<ipython-input-119-7df569d4437d>\"\u001b[1;36m, line \u001b[1;32m1\u001b[0m\n\u001b[1;33m    mat.not(inv(mat))\u001b[0m\n\u001b[1;37m          ^\u001b[0m\n\u001b[1;31mSyntaxError\u001b[0m\u001b[1;31m:\u001b[0m invalid syntax\n"
     ]
    }
   ],
   "source": [
    "mat.not(inv(mat))"
   ]
  },
  {
   "cell_type": "code",
   "execution_count": 120,
   "metadata": {},
   "outputs": [
    {
     "data": {
      "text/plain": [
       "array([[ 1.00000000e+00,  0.00000000e+00, -7.27595761e-12,\n",
       "         1.45519152e-11,  0.00000000e+00],\n",
       "       [-1.77351467e-11,  1.00000000e+00, -4.54747351e-13,\n",
       "         2.72848411e-12, -1.13686838e-11],\n",
       "       [ 2.18278728e-11,  3.63797881e-12,  1.00000000e+00,\n",
       "        -1.45519152e-11,  0.00000000e+00],\n",
       "       [ 0.00000000e+00,  0.00000000e+00,  7.27595761e-12,\n",
       "         1.00000000e+00,  1.45519152e-11],\n",
       "       [ 0.00000000e+00, -1.45519152e-11, -1.45519152e-11,\n",
       "        -2.91038305e-11,  1.00000000e+00]])"
      ]
     },
     "execution_count": 120,
     "metadata": {},
     "output_type": "execute_result"
    }
   ],
   "source": [
    "mat.dot(inv(mat))"
   ]
  },
  {
   "cell_type": "code",
   "execution_count": 121,
   "metadata": {},
   "outputs": [],
   "source": [
    "q, r = qr(mat)"
   ]
  },
  {
   "cell_type": "code",
   "execution_count": 122,
   "metadata": {},
   "outputs": [
    {
     "data": {
      "text/plain": [
       "array([[-0.78206779, -0.18167964, -0.03584309, -0.34500219, -0.48482083],\n",
       "       [ 0.16704568, -0.89096981, -0.21039601, -0.25571483,  0.26193891],\n",
       "       [-0.3309314 ,  0.11596999, -0.81383912,  0.35472688,  0.29811088],\n",
       "       [-0.13699298,  0.34988561,  0.01359765, -0.71069106,  0.5945976 ],\n",
       "       [-0.48185375, -0.1931226 ,  0.54030527,  0.42973302,  0.50390512]])"
      ]
     },
     "execution_count": 122,
     "metadata": {},
     "output_type": "execute_result"
    }
   ],
   "source": [
    "q"
   ]
  },
  {
   "cell_type": "code",
   "execution_count": 123,
   "metadata": {},
   "outputs": [
    {
     "data": {
      "text/plain": [
       "array([[-4.66097612e+00,  1.92633690e+00, -2.20990696e+00,\n",
       "         2.07291734e-01, -4.42303182e+00],\n",
       "       [ 0.00000000e+00, -4.00666870e+00,  2.03929911e+00,\n",
       "         3.63157732e+00, -3.40890731e+00],\n",
       "       [ 0.00000000e+00,  0.00000000e+00, -5.15204972e+00,\n",
       "        -2.46298029e+00,  5.95424602e+00],\n",
       "       [ 0.00000000e+00,  0.00000000e+00,  0.00000000e+00,\n",
       "        -3.97719217e+00,  4.69302139e+00],\n",
       "       [ 0.00000000e+00,  0.00000000e+00,  0.00000000e+00,\n",
       "         0.00000000e+00,  2.00083670e-05]])"
      ]
     },
     "execution_count": 123,
     "metadata": {},
     "output_type": "execute_result"
    }
   ],
   "source": [
    "r"
   ]
  },
  {
   "cell_type": "code",
   "execution_count": 124,
   "metadata": {},
   "outputs": [
    {
     "ename": "NameError",
     "evalue": "name 'svd' is not defined",
     "output_type": "error",
     "traceback": [
      "\u001b[1;31m---------------------------------------------------------------------------\u001b[0m",
      "\u001b[1;31mNameError\u001b[0m                                 Traceback (most recent call last)",
      "\u001b[1;32m<ipython-input-124-13e985b7cf00>\u001b[0m in \u001b[0;36m<module>\u001b[1;34m()\u001b[0m\n\u001b[1;32m----> 1\u001b[1;33m \u001b[0msvd\u001b[0m\u001b[1;33m(\u001b[0m\u001b[0mmat\u001b[0m\u001b[1;33m)\u001b[0m\u001b[1;33m\u001b[0m\u001b[0m\n\u001b[0m",
      "\u001b[1;31mNameError\u001b[0m: name 'svd' is not defined"
     ]
    }
   ],
   "source": [
    "svd(mat)"
   ]
  },
  {
   "cell_type": "code",
   "execution_count": 125,
   "metadata": {},
   "outputs": [],
   "source": [
    "from numpy.linalg import svd"
   ]
  },
  {
   "cell_type": "code",
   "execution_count": 126,
   "metadata": {},
   "outputs": [
    {
     "data": {
      "text/plain": [
       "(array([[-0.11265636, -0.60935952,  0.05162299, -0.61503896, -0.48482126],\n",
       "        [-0.12444817,  0.46096513,  0.59568814, -0.59039567,  0.26193969],\n",
       "        [ 0.33244823, -0.54099234,  0.6489673 ,  0.29457884,  0.29811108],\n",
       "        [ 0.4729836 , -0.1663002 , -0.45927388, -0.42912869,  0.59459804],\n",
       "        [-0.79848975, -0.30961857, -0.10197869,  0.04724305,  0.50390366]]),\n",
       " array([1.14711327e+01, 6.91900993e+00, 3.93416027e+00, 2.43201984e+00,\n",
       "        1.00822893e-05]),\n",
       " array([[-0.11265636, -0.12444817,  0.33244823,  0.4729836 , -0.79848975],\n",
       "        [-0.60935952,  0.46096513, -0.54099234, -0.1663002 , -0.30961857],\n",
       "        [ 0.05162299,  0.59568814,  0.6489673 , -0.45927388, -0.10197869],\n",
       "        [-0.61503896, -0.59039567,  0.29457884, -0.42912869,  0.04724305],\n",
       "        [-0.48482126,  0.26193969,  0.29811108,  0.59459804,  0.50390366]]))"
      ]
     },
     "execution_count": 126,
     "metadata": {},
     "output_type": "execute_result"
    }
   ],
   "source": [
    "svd(mat)"
   ]
  },
  {
   "cell_type": "code",
   "execution_count": 127,
   "metadata": {},
   "outputs": [],
   "source": [
    "smp = np.random.normal(size = (4,4))"
   ]
  },
  {
   "cell_type": "code",
   "execution_count": 128,
   "metadata": {},
   "outputs": [
    {
     "data": {
      "text/plain": [
       "array([[-0.87026176,  1.02499617, -0.47188512, -0.46261515],\n",
       "       [ 0.87373388, -0.81097131,  0.44093905, -0.8742674 ],\n",
       "       [-0.19739625, -1.27965961,  0.54632578,  0.63420444],\n",
       "       [ 1.32612276, -1.4176193 ,  0.5873311 , -0.21726351]])"
      ]
     },
     "execution_count": 128,
     "metadata": {},
     "output_type": "execute_result"
    }
   ],
   "source": [
    "smp"
   ]
  },
  {
   "cell_type": "code",
   "execution_count": 129,
   "metadata": {},
   "outputs": [],
   "source": [
    "N = 100000"
   ]
  },
  {
   "cell_type": "code",
   "execution_count": 130,
   "metadata": {},
   "outputs": [],
   "source": [
    "from random import normalvariate"
   ]
  },
  {
   "cell_type": "code",
   "execution_count": 131,
   "metadata": {},
   "outputs": [
    {
     "name": "stdout",
     "output_type": "stream",
     "text": [
      "127 ms ± 2.22 ms per loop (mean ± std. dev. of 7 runs, 10 loops each)\n"
     ]
    }
   ],
   "source": [
    "% timeit smp = [normalvariate(0,1) for _ in range(N)]"
   ]
  },
  {
   "cell_type": "code",
   "execution_count": 132,
   "metadata": {},
   "outputs": [
    {
     "name": "stdout",
     "output_type": "stream",
     "text": [
      "4.21 ms ± 105 µs per loop (mean ± std. dev. of 7 runs, 100 loops each)\n"
     ]
    }
   ],
   "source": [
    "% timeit np.random.normal(size=N)"
   ]
  },
  {
   "cell_type": "code",
   "execution_count": 133,
   "metadata": {},
   "outputs": [],
   "source": [
    "np.random.seed(1234)"
   ]
  },
  {
   "cell_type": "code",
   "execution_count": 134,
   "metadata": {},
   "outputs": [],
   "source": [
    "rng = np.random.RandomState(1234)"
   ]
  },
  {
   "cell_type": "code",
   "execution_count": 135,
   "metadata": {},
   "outputs": [
    {
     "data": {
      "text/plain": [
       "array([ 0.47143516, -1.19097569,  1.43270697, -0.3126519 , -0.72058873,\n",
       "        0.88716294,  0.85958841, -0.6365235 ,  0.01569637, -2.24268495])"
      ]
     },
     "execution_count": 135,
     "metadata": {},
     "output_type": "execute_result"
    }
   ],
   "source": [
    "rng.randn(10)"
   ]
  },
  {
   "cell_type": "code",
   "execution_count": 136,
   "metadata": {},
   "outputs": [
    {
     "ename": "SyntaxError",
     "evalue": "invalid syntax (<ipython-input-136-b4bd59503150>, line 5)",
     "output_type": "error",
     "traceback": [
      "\u001b[1;36m  File \u001b[1;32m\"<ipython-input-136-b4bd59503150>\"\u001b[1;36m, line \u001b[1;32m5\u001b[0m\n\u001b[1;33m    for i in range(steps)\u001b[0m\n\u001b[1;37m                         ^\u001b[0m\n\u001b[1;31mSyntaxError\u001b[0m\u001b[1;31m:\u001b[0m invalid syntax\n"
     ]
    }
   ],
   "source": [
    "import random\n",
    "ptn = 0\n",
    "walk = [ ptn ]\n",
    "steps = 1000\n",
    "for i in range(steps)\n",
    "    stp = 1 if random.randint(0,1) else -1\n",
    "    ptn += stp"
   ]
  },
  {
   "cell_type": "code",
   "execution_count": 137,
   "metadata": {},
   "outputs": [
    {
     "ename": "SyntaxError",
     "evalue": "invalid syntax (<ipython-input-137-e74629230b46>, line 5)",
     "output_type": "error",
     "traceback": [
      "\u001b[1;36m  File \u001b[1;32m\"<ipython-input-137-e74629230b46>\"\u001b[1;36m, line \u001b[1;32m5\u001b[0m\n\u001b[1;33m    for i in range(steps)\u001b[0m\n\u001b[1;37m                         ^\u001b[0m\n\u001b[1;31mSyntaxError\u001b[0m\u001b[1;31m:\u001b[0m invalid syntax\n"
     ]
    }
   ],
   "source": [
    "import random\n",
    "ptn = 0\n",
    "walk = [ ptn ]\n",
    "steps = 1000\n",
    "for i in range(steps)\n",
    "    stp = 1 if random.randint(0,1) else -1\n",
    "    ptn += stp\n",
    "    walk.append(ptn)\n",
    "    "
   ]
  },
  {
   "cell_type": "code",
   "execution_count": 138,
   "metadata": {},
   "outputs": [],
   "source": [
    "import random\n",
    "ptn = 0\n",
    "walk = [ ptn ]\n",
    "steps = 1000\n",
    "for i in range(steps):\n",
    "    stp = 1 if random.randint(0,1) else -1\n",
    "    ptn += stp\n",
    "    walk.append(ptn)"
   ]
  },
  {
   "cell_type": "code",
   "execution_count": 139,
   "metadata": {},
   "outputs": [
    {
     "data": {
      "text/plain": [
       "[<matplotlib.lines.Line2D at 0xa1e7358>]"
      ]
     },
     "execution_count": 139,
     "metadata": {},
     "output_type": "execute_result"
    },
    {
     "data": {
      "image/png": "[encoded data removed]",
      "text/plain": [
       "<matplotlib.figure.Figure at 0xa196be0>"
      ]
     },
     "metadata": {},
     "output_type": "display_data"
    }
   ],
   "source": [
    "plt.plot(walk[100])"
   ]
  },
  {
   "cell_type": "code",
   "execution_count": 140,
   "metadata": {},
   "outputs": [
    {
     "data": {
      "text/plain": [
       "[<matplotlib.lines.Line2D at 0xc4ab5f8>]"
      ]
     },
     "execution_count": 140,
     "metadata": {},
     "output_type": "execute_result"
    },
    {
     "data": {
      "image/png": "[encoded data removed]",
      "text/plain": [
       "<matplotlib.figure.Figure at 0x9c0a518>"
      ]
     },
     "metadata": {},
     "output_type": "display_data"
    }
   ],
   "source": [
    "import random\n",
    "ptn = 0\n",
    "walk = [ ptn ]\n",
    "steps = 1000\n",
    "for i in range(steps):\n",
    "    stp = 1 if random.randint(0,1) else -1\n",
    "    ptn += stp\n",
    "    walk.append(ptn)\n",
    "plt.plot(walk[100])"
   ]
  },
  {
   "cell_type": "code",
   "execution_count": 141,
   "metadata": {},
   "outputs": [
    {
     "ename": "ImportError",
     "evalue": "cannot import name 'plt'",
     "output_type": "error",
     "traceback": [
      "\u001b[1;31m---------------------------------------------------------------------------\u001b[0m",
      "\u001b[1;31mImportError\u001b[0m                               Traceback (most recent call last)",
      "\u001b[1;32m<ipython-input-141-d67e32d26047>\u001b[0m in \u001b[0;36m<module>\u001b[1;34m()\u001b[0m\n\u001b[1;32m----> 1\u001b[1;33m \u001b[1;32mfrom\u001b[0m \u001b[0mmatplotlib\u001b[0m\u001b[1;33m.\u001b[0m\u001b[0mpyplot\u001b[0m \u001b[1;32mimport\u001b[0m \u001b[0mplt\u001b[0m\u001b[1;33m\u001b[0m\u001b[0m\n\u001b[0m",
      "\u001b[1;31mImportError\u001b[0m: cannot import name 'plt'"
     ]
    }
   ],
   "source": [
    "from matplotlib.pyplot import plt"
   ]
  },
  {
   "cell_type": "code",
   "execution_count": 142,
   "metadata": {},
   "outputs": [
    {
     "data": {
      "text/plain": [
       "[0,\n",
       " 1,\n",
       " 0,\n",
       " 1,\n",
       " 2,\n",
       " 3,\n",
       " 4,\n",
       " 5,\n",
       " 6,\n",
       " 7,\n",
       " 8,\n",
       " 9,\n",
       " 10,\n",
       " 9,\n",
       " 8,\n",
       " 9,\n",
       " 10,\n",
       " 9,\n",
       " 10,\n",
       " 9,\n",
       " 10,\n",
       " 9,\n",
       " 10,\n",
       " 11,\n",
       " 10,\n",
       " 9,\n",
       " 10,\n",
       " 11,\n",
       " 12,\n",
       " 11,\n",
       " 12,\n",
       " 11,\n",
       " 10,\n",
       " 11,\n",
       " 12,\n",
       " 11,\n",
       " 12,\n",
       " 11,\n",
       " 12,\n",
       " 13,\n",
       " 12,\n",
       " 13,\n",
       " 14,\n",
       " 13,\n",
       " 14,\n",
       " 13,\n",
       " 14,\n",
       " 13,\n",
       " 14,\n",
       " 13,\n",
       " 14,\n",
       " 13,\n",
       " 12,\n",
       " 13,\n",
       " 14,\n",
       " 15,\n",
       " 16,\n",
       " 17,\n",
       " 18,\n",
       " 19,\n",
       " 18,\n",
       " 17,\n",
       " 16,\n",
       " 17,\n",
       " 18,\n",
       " 19,\n",
       " 20,\n",
       " 21,\n",
       " 22,\n",
       " 21,\n",
       " 20,\n",
       " 19,\n",
       " 20,\n",
       " 21,\n",
       " 22,\n",
       " 23,\n",
       " 24,\n",
       " 23,\n",
       " 22,\n",
       " 21,\n",
       " 22,\n",
       " 23,\n",
       " 24,\n",
       " 23,\n",
       " 22,\n",
       " 23,\n",
       " 24,\n",
       " 25,\n",
       " 24,\n",
       " 23,\n",
       " 24,\n",
       " 23,\n",
       " 24,\n",
       " 25,\n",
       " 24,\n",
       " 25,\n",
       " 24,\n",
       " 23,\n",
       " 24,\n",
       " 23,\n",
       " 24,\n",
       " 25,\n",
       " 24,\n",
       " 23,\n",
       " 22,\n",
       " 21,\n",
       " 22,\n",
       " 23,\n",
       " 24,\n",
       " 23,\n",
       " 22,\n",
       " 21,\n",
       " 20,\n",
       " 19,\n",
       " 20,\n",
       " 21,\n",
       " 22,\n",
       " 23,\n",
       " 24,\n",
       " 23,\n",
       " 22,\n",
       " 21,\n",
       " 20,\n",
       " 19,\n",
       " 18,\n",
       " 17,\n",
       " 16,\n",
       " 17,\n",
       " 16,\n",
       " 17,\n",
       " 18,\n",
       " 19,\n",
       " 18,\n",
       " 19,\n",
       " 20,\n",
       " 19,\n",
       " 18,\n",
       " 19,\n",
       " 18,\n",
       " 19,\n",
       " 18,\n",
       " 19,\n",
       " 20,\n",
       " 19,\n",
       " 20,\n",
       " 19,\n",
       " 20,\n",
       " 21,\n",
       " 20,\n",
       " 21,\n",
       " 22,\n",
       " 21,\n",
       " 20,\n",
       " 19,\n",
       " 18,\n",
       " 17,\n",
       " 18,\n",
       " 17,\n",
       " 16,\n",
       " 15,\n",
       " 16,\n",
       " 17,\n",
       " 18,\n",
       " 17,\n",
       " 18,\n",
       " 19,\n",
       " 18,\n",
       " 17,\n",
       " 16,\n",
       " 17,\n",
       " 16,\n",
       " 15,\n",
       " 14,\n",
       " 13,\n",
       " 12,\n",
       " 13,\n",
       " 14,\n",
       " 13,\n",
       " 14,\n",
       " 15,\n",
       " 16,\n",
       " 17,\n",
       " 16,\n",
       " 15,\n",
       " 16,\n",
       " 15,\n",
       " 14,\n",
       " 15,\n",
       " 16,\n",
       " 17,\n",
       " 18,\n",
       " 19,\n",
       " 20,\n",
       " 19,\n",
       " 20,\n",
       " 21,\n",
       " 22,\n",
       " 23,\n",
       " 24,\n",
       " 25,\n",
       " 26,\n",
       " 27,\n",
       " 26,\n",
       " 27,\n",
       " 28,\n",
       " 27,\n",
       " 26,\n",
       " 25,\n",
       " 26,\n",
       " 27,\n",
       " 28,\n",
       " 27,\n",
       " 28,\n",
       " 29,\n",
       " 30,\n",
       " 31,\n",
       " 32,\n",
       " 33,\n",
       " 34,\n",
       " 35,\n",
       " 36,\n",
       " 35,\n",
       " 34,\n",
       " 35,\n",
       " 34,\n",
       " 33,\n",
       " 34,\n",
       " 33,\n",
       " 34,\n",
       " 35,\n",
       " 34,\n",
       " 35,\n",
       " 36,\n",
       " 37,\n",
       " 38,\n",
       " 39,\n",
       " 40,\n",
       " 39,\n",
       " 38,\n",
       " 37,\n",
       " 36,\n",
       " 35,\n",
       " 34,\n",
       " 33,\n",
       " 32,\n",
       " 33,\n",
       " 34,\n",
       " 33,\n",
       " 34,\n",
       " 35,\n",
       " 34,\n",
       " 33,\n",
       " 34,\n",
       " 33,\n",
       " 32,\n",
       " 31,\n",
       " 30,\n",
       " 31,\n",
       " 32,\n",
       " 33,\n",
       " 34,\n",
       " 33,\n",
       " 34,\n",
       " 33,\n",
       " 32,\n",
       " 33,\n",
       " 32,\n",
       " 31,\n",
       " 30,\n",
       " 29,\n",
       " 28,\n",
       " 29,\n",
       " 30,\n",
       " 29,\n",
       " 30,\n",
       " 31,\n",
       " 30,\n",
       " 29,\n",
       " 28,\n",
       " 29,\n",
       " 28,\n",
       " 29,\n",
       " 30,\n",
       " 31,\n",
       " 30,\n",
       " 29,\n",
       " 30,\n",
       " 31,\n",
       " 30,\n",
       " 29,\n",
       " 30,\n",
       " 31,\n",
       " 30,\n",
       " 29,\n",
       " 28,\n",
       " 29,\n",
       " 30,\n",
       " 29,\n",
       " 28,\n",
       " 27,\n",
       " 26,\n",
       " 27,\n",
       " 26,\n",
       " 27,\n",
       " 26,\n",
       " 25,\n",
       " 24,\n",
       " 25,\n",
       " 26,\n",
       " 25,\n",
       " 24,\n",
       " 25,\n",
       " 24,\n",
       " 23,\n",
       " 24,\n",
       " 25,\n",
       " 26,\n",
       " 25,\n",
       " 24,\n",
       " 23,\n",
       " 22,\n",
       " 23,\n",
       " 24,\n",
       " 25,\n",
       " 26,\n",
       " 25,\n",
       " 24,\n",
       " 23,\n",
       " 24,\n",
       " 23,\n",
       " 22,\n",
       " 23,\n",
       " 24,\n",
       " 25,\n",
       " 24,\n",
       " 23,\n",
       " 24,\n",
       " 23,\n",
       " 24,\n",
       " 25,\n",
       " 26,\n",
       " 27,\n",
       " 26,\n",
       " 25,\n",
       " 26,\n",
       " 25,\n",
       " 24,\n",
       " 23,\n",
       " 24,\n",
       " 25,\n",
       " 26,\n",
       " 25,\n",
       " 26,\n",
       " 27,\n",
       " 26,\n",
       " 27,\n",
       " 26,\n",
       " 25,\n",
       " 24,\n",
       " 25,\n",
       " 24,\n",
       " 23,\n",
       " 22,\n",
       " 21,\n",
       " 20,\n",
       " 21,\n",
       " 20,\n",
       " 21,\n",
       " 22,\n",
       " 23,\n",
       " 22,\n",
       " 21,\n",
       " 22,\n",
       " 21,\n",
       " 20,\n",
       " 19,\n",
       " 18,\n",
       " 19,\n",
       " 20,\n",
       " 19,\n",
       " 20,\n",
       " 21,\n",
       " 22,\n",
       " 23,\n",
       " 24,\n",
       " 23,\n",
       " 22,\n",
       " 23,\n",
       " 24,\n",
       " 25,\n",
       " 26,\n",
       " 25,\n",
       " 26,\n",
       " 25,\n",
       " 26,\n",
       " 27,\n",
       " 26,\n",
       " 27,\n",
       " 26,\n",
       " 25,\n",
       " 26,\n",
       " 25,\n",
       " 24,\n",
       " 25,\n",
       " 24,\n",
       " 25,\n",
       " 26,\n",
       " 27,\n",
       " 26,\n",
       " 27,\n",
       " 28,\n",
       " 27,\n",
       " 26,\n",
       " 27,\n",
       " 28,\n",
       " 29,\n",
       " 30,\n",
       " 29,\n",
       " 30,\n",
       " 29,\n",
       " 30,\n",
       " 29,\n",
       " 28,\n",
       " 29,\n",
       " 30,\n",
       " 31,\n",
       " 30,\n",
       " 31,\n",
       " 32,\n",
       " 33,\n",
       " 34,\n",
       " 35,\n",
       " 36,\n",
       " 35,\n",
       " 36,\n",
       " 37,\n",
       " 38,\n",
       " 37,\n",
       " 36,\n",
       " 35,\n",
       " 36,\n",
       " 37,\n",
       " 36,\n",
       " 35,\n",
       " 36,\n",
       " 35,\n",
       " 36,\n",
       " 35,\n",
       " 34,\n",
       " 35,\n",
       " 36,\n",
       " 35,\n",
       " 34,\n",
       " 33,\n",
       " 34,\n",
       " 35,\n",
       " 36,\n",
       " 37,\n",
       " 36,\n",
       " 35,\n",
       " 34,\n",
       " 33,\n",
       " 34,\n",
       " 33,\n",
       " 32,\n",
       " 33,\n",
       " 32,\n",
       " 31,\n",
       " 30,\n",
       " 29,\n",
       " 28,\n",
       " 27,\n",
       " 28,\n",
       " 27,\n",
       " 28,\n",
       " 29,\n",
       " 28,\n",
       " 29,\n",
       " 30,\n",
       " 31,\n",
       " 30,\n",
       " 29,\n",
       " 28,\n",
       " 29,\n",
       " 28,\n",
       " 29,\n",
       " 28,\n",
       " 27,\n",
       " 28,\n",
       " 29,\n",
       " 30,\n",
       " 29,\n",
       " 28,\n",
       " 29,\n",
       " 28,\n",
       " 27,\n",
       " 28,\n",
       " 27,\n",
       " 28,\n",
       " 27,\n",
       " 28,\n",
       " 27,\n",
       " 26,\n",
       " 27,\n",
       " 26,\n",
       " 25,\n",
       " 26,\n",
       " 27,\n",
       " 28,\n",
       " 29,\n",
       " 28,\n",
       " 27,\n",
       " 28,\n",
       " 27,\n",
       " 28,\n",
       " 27,\n",
       " 28,\n",
       " 29,\n",
       " 28,\n",
       " 29,\n",
       " 28,\n",
       " 29,\n",
       " 30,\n",
       " 31,\n",
       " 30,\n",
       " 29,\n",
       " 28,\n",
       " 27,\n",
       " 28,\n",
       " 29,\n",
       " 30,\n",
       " 31,\n",
       " 32,\n",
       " 31,\n",
       " 32,\n",
       " 31,\n",
       " 32,\n",
       " 31,\n",
       " 30,\n",
       " 31,\n",
       " 30,\n",
       " 29,\n",
       " 30,\n",
       " 29,\n",
       " 30,\n",
       " 31,\n",
       " 32,\n",
       " 33,\n",
       " 32,\n",
       " 31,\n",
       " 30,\n",
       " 29,\n",
       " 30,\n",
       " 29,\n",
       " 30,\n",
       " 31,\n",
       " 30,\n",
       " 29,\n",
       " 28,\n",
       " 27,\n",
       " 26,\n",
       " 25,\n",
       " 26,\n",
       " 25,\n",
       " 26,\n",
       " 25,\n",
       " 24,\n",
       " 23,\n",
       " 22,\n",
       " 23,\n",
       " 24,\n",
       " 25,\n",
       " 24,\n",
       " 23,\n",
       " 22,\n",
       " 21,\n",
       " 22,\n",
       " 21,\n",
       " 22,\n",
       " 21,\n",
       " 22,\n",
       " 23,\n",
       " 24,\n",
       " 23,\n",
       " 22,\n",
       " 21,\n",
       " 20,\n",
       " 19,\n",
       " 18,\n",
       " 17,\n",
       " 18,\n",
       " 17,\n",
       " 16,\n",
       " 17,\n",
       " 18,\n",
       " 19,\n",
       " 18,\n",
       " 17,\n",
       " 18,\n",
       " 17,\n",
       " 16,\n",
       " 17,\n",
       " 18,\n",
       " 17,\n",
       " 16,\n",
       " 17,\n",
       " 16,\n",
       " 15,\n",
       " 16,\n",
       " 17,\n",
       " 16,\n",
       " 17,\n",
       " 18,\n",
       " 17,\n",
       " 16,\n",
       " 15,\n",
       " 14,\n",
       " 13,\n",
       " 14,\n",
       " 15,\n",
       " 14,\n",
       " 15,\n",
       " 14,\n",
       " 13,\n",
       " 14,\n",
       " 15,\n",
       " 14,\n",
       " 15,\n",
       " 14,\n",
       " 15,\n",
       " 14,\n",
       " 15,\n",
       " 16,\n",
       " 17,\n",
       " 18,\n",
       " 19,\n",
       " 18,\n",
       " 19,\n",
       " 18,\n",
       " 19,\n",
       " 18,\n",
       " 17,\n",
       " 18,\n",
       " 19,\n",
       " 18,\n",
       " 19,\n",
       " 18,\n",
       " 17,\n",
       " 18,\n",
       " 19,\n",
       " 18,\n",
       " 17,\n",
       " 18,\n",
       " 17,\n",
       " 16,\n",
       " 15,\n",
       " 14,\n",
       " 15,\n",
       " 14,\n",
       " 13,\n",
       " 14,\n",
       " 13,\n",
       " 12,\n",
       " 11,\n",
       " 12,\n",
       " 13,\n",
       " 14,\n",
       " 15,\n",
       " 16,\n",
       " 17,\n",
       " 18,\n",
       " 19,\n",
       " 18,\n",
       " 19,\n",
       " 18,\n",
       " 19,\n",
       " 18,\n",
       " 19,\n",
       " 20,\n",
       " 21,\n",
       " 20,\n",
       " 21,\n",
       " 20,\n",
       " 19,\n",
       " 20,\n",
       " 21,\n",
       " 20,\n",
       " 21,\n",
       " 22,\n",
       " 23,\n",
       " 24,\n",
       " 23,\n",
       " 24,\n",
       " 25,\n",
       " 24,\n",
       " 23,\n",
       " 22,\n",
       " 21,\n",
       " 22,\n",
       " 23,\n",
       " 22,\n",
       " 23,\n",
       " 22,\n",
       " 21,\n",
       " 22,\n",
       " 21,\n",
       " 22,\n",
       " 21,\n",
       " 20,\n",
       " 21,\n",
       " 20,\n",
       " 21,\n",
       " 20,\n",
       " 21,\n",
       " 22,\n",
       " 21,\n",
       " 20,\n",
       " 21,\n",
       " 20,\n",
       " 19,\n",
       " 20,\n",
       " 19,\n",
       " 18,\n",
       " 19,\n",
       " 20,\n",
       " 21,\n",
       " 20,\n",
       " 21,\n",
       " 20,\n",
       " 21,\n",
       " 22,\n",
       " 23,\n",
       " 24,\n",
       " 25,\n",
       " 24,\n",
       " 25,\n",
       " 26,\n",
       " 25,\n",
       " 26,\n",
       " 27,\n",
       " 28,\n",
       " 29,\n",
       " 30,\n",
       " 29,\n",
       " 30,\n",
       " 29,\n",
       " 28,\n",
       " 29,\n",
       " 28,\n",
       " 29,\n",
       " 30,\n",
       " 29,\n",
       " 30,\n",
       " 31,\n",
       " 30,\n",
       " 31,\n",
       " 32,\n",
       " 33,\n",
       " 32,\n",
       " 33,\n",
       " 34,\n",
       " 35,\n",
       " 34,\n",
       " 35,\n",
       " 34,\n",
       " 35,\n",
       " 36,\n",
       " 35,\n",
       " 36,\n",
       " 37,\n",
       " 36,\n",
       " 37,\n",
       " 38,\n",
       " 39,\n",
       " 40,\n",
       " 41,\n",
       " 40,\n",
       " 39,\n",
       " 40,\n",
       " 39,\n",
       " 40,\n",
       " 39,\n",
       " 40,\n",
       " 41,\n",
       " 40,\n",
       " 39,\n",
       " 38,\n",
       " 39,\n",
       " 40,\n",
       " 39,\n",
       " 38,\n",
       " 39,\n",
       " 40,\n",
       " 41,\n",
       " 42,\n",
       " 43,\n",
       " 42,\n",
       " 43,\n",
       " 44,\n",
       " 45,\n",
       " 44,\n",
       " 43,\n",
       " 42,\n",
       " 41,\n",
       " 40,\n",
       " 41,\n",
       " 42,\n",
       " 43,\n",
       " 42,\n",
       " 41,\n",
       " 40,\n",
       " 41,\n",
       " 40,\n",
       " 41,\n",
       " 42,\n",
       " 41,\n",
       " 40,\n",
       " 39,\n",
       " 38,\n",
       " 39,\n",
       " 38,\n",
       " 37,\n",
       " 38,\n",
       " 39,\n",
       " 38,\n",
       " 39,\n",
       " 40,\n",
       " 41,\n",
       " 40,\n",
       " 39,\n",
       " 38,\n",
       " 37,\n",
       " 36,\n",
       " 37,\n",
       " 38,\n",
       " 39,\n",
       " 38,\n",
       " 39,\n",
       " 40,\n",
       " 41,\n",
       " 42,\n",
       " 41,\n",
       " 40,\n",
       " 39,\n",
       " 40,\n",
       " 41,\n",
       " 40,\n",
       " 41,\n",
       " 42,\n",
       " 43,\n",
       " 42,\n",
       " 43,\n",
       " 42,\n",
       " 43,\n",
       " 42,\n",
       " 43,\n",
       " 42,\n",
       " 41,\n",
       " 40,\n",
       " 41,\n",
       " 42,\n",
       " 43,\n",
       " 42,\n",
       " 41,\n",
       " 42,\n",
       " 43,\n",
       " 44,\n",
       " 45,\n",
       " 46,\n",
       " 47,\n",
       " 48,\n",
       " 49,\n",
       " 50,\n",
       " 49,\n",
       " 48,\n",
       " 47,\n",
       " 46,\n",
       " 47,\n",
       " 46,\n",
       " 45,\n",
       " 44,\n",
       " 43,\n",
       " 44,\n",
       " 43,\n",
       " 44,\n",
       " 45,\n",
       " 44,\n",
       " 43,\n",
       " 42,\n",
       " 43,\n",
       " 42,\n",
       " 43,\n",
       " 44,\n",
       " 45,\n",
       " 46,\n",
       " 45,\n",
       " 46,\n",
       " 45,\n",
       " 46,\n",
       " 47,\n",
       " 48,\n",
       " 47,\n",
       " 46,\n",
       " 45,\n",
       " 46,\n",
       " 47,\n",
       " 48,\n",
       " 47,\n",
       " 48,\n",
       " 49,\n",
       " 48,\n",
       " 47,\n",
       " 48,\n",
       " 47,\n",
       " 48,\n",
       " 49,\n",
       " 48,\n",
       " 47,\n",
       " 46,\n",
       " 47,\n",
       " 46,\n",
       " 47,\n",
       " 48,\n",
       " 49,\n",
       " 50,\n",
       " 49,\n",
       " 50,\n",
       " 51,\n",
       " 50,\n",
       " 49,\n",
       " 50,\n",
       " 51,\n",
       " 52,\n",
       " 53,\n",
       " 52,\n",
       " 51,\n",
       " 50,\n",
       " 49,\n",
       " 50,\n",
       " 49,\n",
       " 48,\n",
       " 49,\n",
       " 48,\n",
       " 47,\n",
       " 46,\n",
       " 47,\n",
       " 46,\n",
       " 45,\n",
       " 44,\n",
       " 43,\n",
       " 44,\n",
       " 45,\n",
       " 44,\n",
       " 43,\n",
       " 42,\n",
       " 43,\n",
       " 42,\n",
       " 41,\n",
       " 40,\n",
       " 41,\n",
       " 42,\n",
       " 41,\n",
       " 40,\n",
       " 39,\n",
       " 40,\n",
       " 39,\n",
       " 38,\n",
       " 39,\n",
       " 40,\n",
       " 39,\n",
       " 40,\n",
       " 41,\n",
       " 42,\n",
       " 41,\n",
       " 40,\n",
       " 39,\n",
       " 40,\n",
       " 41,\n",
       " 40,\n",
       " 39,\n",
       " 40,\n",
       " 41,\n",
       " 40,\n",
       " 41,\n",
       " 40,\n",
       " 39,\n",
       " 38,\n",
       " 37,\n",
       " 38,\n",
       " 37,\n",
       " 38,\n",
       " 39,\n",
       " 40,\n",
       " 41,\n",
       " 40,\n",
       " 41,\n",
       " 42,\n",
       " 41,\n",
       " 42,\n",
       " 43,\n",
       " ...]"
      ]
     },
     "execution_count": 142,
     "metadata": {},
     "output_type": "execute_result"
    }
   ],
   "source": [
    "walk"
   ]
  },
  {
   "cell_type": "code",
   "execution_count": 143,
   "metadata": {},
   "outputs": [
    {
     "data": {
      "text/plain": [
       "[<matplotlib.lines.Line2D at 0x3ff6d30>]"
      ]
     },
     "execution_count": 143,
     "metadata": {},
     "output_type": "execute_result"
    },
    {
     "data": {
      "image/png": "[encoded data removed]",
      "text/plain": [
       "<matplotlib.figure.Figure at 0x3fb3828>"
      ]
     },
     "metadata": {},
     "output_type": "display_data"
    }
   ],
   "source": [
    "plt.plot(walk[:100])"
   ]
  },
  {
   "cell_type": "code",
   "execution_count": 144,
   "metadata": {},
   "outputs": [
    {
     "data": {
      "text/plain": [
       "[<matplotlib.lines.Line2D at 0xc72c390>]"
      ]
     },
     "execution_count": 144,
     "metadata": {},
     "output_type": "execute_result"
    },
    {
     "data": {
      "image/png": "[encoded data removed]",
      "text/plain": [
       "<matplotlib.figure.Figure at 0xc76b208>"
      ]
     },
     "metadata": {},
     "output_type": "display_data"
    }
   ],
   "source": [
    "plt.plot(walk)"
   ]
  },
  {
   "cell_type": "code",
   "execution_count": 145,
   "metadata": {},
   "outputs": [],
   "source": [
    "nsteps = 1000"
   ]
  },
  {
   "cell_type": "code",
   "execution_count": 146,
   "metadata": {},
   "outputs": [],
   "source": [
    "draws = np.random.randint(0,2, size = nsteps)"
   ]
  },
  {
   "cell_type": "code",
   "execution_count": 147,
   "metadata": {},
   "outputs": [],
   "source": [
    "steps = np.where(draws>0, 1, -1)"
   ]
  },
  {
   "cell_type": "code",
   "execution_count": 148,
   "metadata": {},
   "outputs": [],
   "source": [
    "walk2 = steps.cumsum()"
   ]
  },
  {
   "cell_type": "code",
   "execution_count": 149,
   "metadata": {},
   "outputs": [
    {
     "data": {
      "text/plain": [
       "[<matplotlib.lines.Line2D at 0xc785320>]"
      ]
     },
     "execution_count": 149,
     "metadata": {},
     "output_type": "execute_result"
    },
    {
     "data": {
      "image/png": "[encoded data removed]",
      "text/plain": [
       "<matplotlib.figure.Figure at 0xc680a20>"
      ]
     },
     "metadata": {},
     "output_type": "display_data"
    }
   ],
   "source": [
    "plt.plot(walk2)"
   ]
  },
  {
   "cell_type": "code",
   "execution_count": 150,
   "metadata": {},
   "outputs": [
    {
     "data": {
      "text/plain": [
       "-9"
      ]
     },
     "execution_count": 150,
     "metadata": {},
     "output_type": "execute_result"
    }
   ],
   "source": [
    "walk2.min()"
   ]
  },
  {
   "cell_type": "code",
   "execution_count": 151,
   "metadata": {
    "scrolled": true
   },
   "outputs": [
    {
     "data": {
      "text/plain": [
       "60"
      ]
     },
     "execution_count": 151,
     "metadata": {},
     "output_type": "execute_result"
    }
   ],
   "source": [
    "walk2.max()"
   ]
  },
  {
   "cell_type": "code",
   "execution_count": 152,
   "metadata": {
    "scrolled": true
   },
   "outputs": [
    {
     "data": {
      "text/plain": [
       "array([ 1,  2,  1,  2,  1,  0,  1,  0,  1,  2,  3,  4,  3,  2,  3,  2,  1,\n",
       "        0,  1,  2,  3,  4,  5,  6,  5,  6,  5,  4,  5,  6,  5,  6,  7,  6,\n",
       "        7,  6,  7,  8,  9,  8,  7,  6,  7,  6,  5,  6,  5,  6,  5,  6,  5,\n",
       "        4,  3,  2,  3,  2,  3,  2,  1,  2,  3,  2,  3,  4,  3,  2,  1,  2,\n",
       "        3,  4,  3,  2,  1,  0,  1,  2,  3,  2,  3,  2,  3,  2,  3,  2,  1,\n",
       "        0,  1,  2,  3,  4,  5,  4,  3,  2,  3,  2,  3,  4,  3,  2,  3,  2,\n",
       "        3,  2,  1,  2,  1,  2,  3,  4,  3,  2,  3,  4,  5,  6,  7,  6,  5,\n",
       "        4,  3,  4,  3,  4,  3,  4,  3,  4,  3,  4,  3,  4,  3,  4,  3,  4,\n",
       "        3,  2,  1,  0,  1,  0,  1,  2,  1,  0,  1,  0,  1,  0,  1,  0,  1,\n",
       "        0,  1,  0,  1,  0,  1,  2,  3,  2,  1,  0,  1,  0,  1,  2,  3,  4,\n",
       "        5,  6,  5,  6,  7,  6,  5,  6,  7,  8,  7,  8,  9,  8,  7,  8,  9,\n",
       "        8,  7,  8,  9,  8,  7,  8,  9,  8,  7,  8,  7,  8,  9,  8,  7,  6,\n",
       "        7,  8,  7,  6,  5,  6,  7,  8,  7,  6,  7,  8,  7,  6,  5,  6,  5,\n",
       "        4,  3,  2,  1,  0,  1,  2,  1,  2,  1,  0,  1,  0,  1,  0,  1,  2,\n",
       "        1,  2,  1,  2,  3,  4,  5,  6,  5,  4,  3,  2,  1,  2,  1,  0,  1,\n",
       "        2,  1,  2,  3,  4,  5,  6,  5,  6,  7,  6,  7,  6,  5,  4,  3,  4,\n",
       "        5,  6,  7,  8,  7,  8,  7,  6,  5,  6,  7,  8,  7,  6,  7,  8,  9,\n",
       "        8,  7,  8,  7,  6,  7,  8,  9, 10, 11, 10, 11, 12, 11, 10, 11, 10,\n",
       "        9, 10, 11, 10, 11, 12, 11, 12, 13, 12, 11, 12, 13, 12, 13, 14, 13,\n",
       "       14, 15, 16, 15, 14, 13, 14, 15, 16, 15, 16, 17, 16, 15, 14, 15, 14,\n",
       "       13, 14, 15, 14, 13, 12, 13, 14, 15, 14, 15, 16, 15, 16, 15, 16, 17,\n",
       "       16, 17, 18, 19, 18, 17, 18, 17, 18, 19, 20, 21, 22, 23, 24, 23, 22,\n",
       "       21, 20, 21, 22, 21, 22, 23, 22, 21, 22, 21, 22, 23, 22, 21, 20, 21,\n",
       "       22, 23, 24, 25, 24, 23, 22, 21, 20, 21, 20, 21, 20, 19, 20, 19, 20,\n",
       "       19, 18, 19, 18, 17, 16, 15, 14, 13, 14, 15, 14, 13, 12, 13, 14, 13,\n",
       "       14, 13, 12, 11, 10, 11, 12, 11, 10,  9, 10,  9, 10,  9, 10, 11, 12,\n",
       "       13, 12, 13, 14, 15, 14, 13, 14, 13, 14, 13, 14, 15, 14, 15, 16, 15,\n",
       "       14, 13, 12, 13, 14, 15, 16, 15, 16, 15, 16, 15, 14, 15, 14, 15, 14,\n",
       "       15, 16, 17, 16, 15, 16, 17, 18, 17, 18, 19, 20, 19, 20, 19, 20, 21,\n",
       "       22, 21, 20, 19, 18, 17, 18, 17, 16, 15, 14, 15, 14, 15, 14, 13, 14,\n",
       "       15, 14, 13, 14, 13, 14, 13, 12, 11, 12, 11, 10, 11, 10, 11, 10,  9,\n",
       "       10, 11, 12, 11, 10,  9,  8,  9,  8,  7,  8,  9,  8,  9, 10,  9, 10,\n",
       "       11, 10,  9, 10,  9, 10, 11, 12, 13, 12, 11, 10,  9, 10, 11, 10, 11,\n",
       "       12, 13, 12, 11, 12, 11, 12, 13, 12, 11, 10, 11, 10, 11, 10,  9,  8,\n",
       "        9, 10,  9,  8,  9,  8,  9,  8,  9, 10,  9, 10,  9,  8,  7,  6,  5,\n",
       "        4,  5,  6,  5,  6,  7,  8,  7,  8,  9,  8,  7,  8,  7,  8,  9, 10,\n",
       "        9,  8,  9, 10, 11, 12, 11, 10, 11, 10, 11, 12, 13, 12, 11, 12, 13,\n",
       "       12, 11, 12, 13, 14, 15, 16, 17, 18, 17, 18, 19, 18, 17, 16, 17, 18,\n",
       "       19, 20, 21, 20, 19, 20, 21, 22, 23, 22, 23, 24, 25, 24, 23, 24, 23,\n",
       "       22, 21, 20, 21, 22, 21, 22, 23, 22, 21, 20, 19, 18, 19, 20, 21, 22,\n",
       "       21, 22, 21, 22, 23, 24, 25, 24, 25, 24, 25, 24, 23, 24, 25, 26, 25,\n",
       "       26, 27, 26, 27, 28, 29, 28, 27, 28, 29, 30, 29, 30, 29, 28, 29, 30,\n",
       "       31, 32, 31, 30, 29, 30, 29, 30, 29, 30, 31, 32, 33, 34, 33, 34, 35,\n",
       "       34, 33, 32, 31, 30, 31, 32, 33, 34, 35, 36, 35, 36, 37, 38, 39, 38,\n",
       "       37, 38, 39, 38, 39, 38, 37, 36, 37, 38, 39, 40, 39, 38, 37, 36, 35,\n",
       "       36, 35, 36, 35, 36, 37, 36, 37, 38, 37, 36, 37, 36, 37, 38, 39, 40,\n",
       "       41, 42, 43, 44, 45, 46, 47, 48, 47, 48, 47, 48, 49, 50, 49, 48, 49,\n",
       "       48, 47, 46, 45, 46, 45, 46, 45, 46, 45, 44, 43, 42, 43, 42, 43, 42,\n",
       "       43, 44, 45, 44, 43, 42, 43, 42, 41, 40, 41, 42, 41, 42, 41, 42, 43,\n",
       "       44, 43, 44, 45, 46, 47, 46, 47, 48, 49, 50, 51, 50, 51, 52, 51, 52,\n",
       "       53, 52, 53, 52, 51, 52, 51, 52, 53, 54, 55, 56, 55, 54, 53, 54, 55,\n",
       "       54, 55, 54, 55, 54, 55, 56, 57, 56, 57, 58, 57, 56, 57, 56, 57, 56,\n",
       "       57, 58, 59, 58, 57, 58, 59, 58, 59, 58, 59, 58, 59, 58, 59, 60, 59,\n",
       "       58, 57, 56, 57, 56, 55, 56, 55, 54, 53, 54, 55, 56, 57, 58, 57, 58,\n",
       "       57, 56, 55, 54, 53, 54, 55, 56, 57, 56, 55, 56, 55, 56, 55, 54, 55,\n",
       "       54, 53, 52, 51, 52, 53, 52, 51, 52, 51, 52, 51, 50, 49, 48, 49, 48,\n",
       "       49, 48, 49, 50, 51, 52, 53, 54, 55, 54, 55, 56, 55, 54, 55, 54, 53,\n",
       "       52, 51, 52, 51, 52, 53, 54, 55, 56, 55, 54, 55, 54, 53, 52, 53, 52,\n",
       "       51, 52, 51, 52, 53, 54, 55, 54, 53, 52, 53, 52, 51, 50],\n",
       "      dtype=int32)"
      ]
     },
     "execution_count": 152,
     "metadata": {},
     "output_type": "execute_result"
    }
   ],
   "source": [
    "np.abs(walk2)"
   ]
  },
  {
   "cell_type": "code",
   "execution_count": 153,
   "metadata": {
    "scrolled": true
   },
   "outputs": [
    {
     "data": {
      "text/plain": [
       "297"
      ]
     },
     "execution_count": 153,
     "metadata": {},
     "output_type": "execute_result"
    }
   ],
   "source": [
    "(np.abs(walk2)>=10).argmax()"
   ]
  },
  {
   "cell_type": "code",
   "execution_count": 154,
   "metadata": {},
   "outputs": [],
   "source": [
    "nwalks = 5000\n",
    "nsteps = 1000"
   ]
  },
  {
   "cell_type": "code",
   "execution_count": 155,
   "metadata": {},
   "outputs": [],
   "source": [
    "draws = np.random.randint(0, 2, size=(nwalks, nsteps))"
   ]
  },
  {
   "cell_type": "code",
   "execution_count": 156,
   "metadata": {},
   "outputs": [
    {
     "ename": "NameError",
     "evalue": "name 'size' is not defined",
     "output_type": "error",
     "traceback": [
      "\u001b[1;31m---------------------------------------------------------------------------\u001b[0m",
      "\u001b[1;31mNameError\u001b[0m                                 Traceback (most recent call last)",
      "\u001b[1;32m<ipython-input-156-10499b74ee71>\u001b[0m in \u001b[0;36m<module>\u001b[1;34m()\u001b[0m\n\u001b[1;32m----> 1\u001b[1;33m \u001b[0msize\u001b[0m\u001b[1;33m(\u001b[0m\u001b[0mdraws\u001b[0m\u001b[1;33m)\u001b[0m\u001b[1;33m\u001b[0m\u001b[0m\n\u001b[0m",
      "\u001b[1;31mNameError\u001b[0m: name 'size' is not defined"
     ]
    }
   ],
   "source": [
    "size(draws)"
   ]
  },
  {
   "cell_type": "code",
   "execution_count": 157,
   "metadata": {},
   "outputs": [
    {
     "data": {
      "text/plain": [
       "array([[1, 1, 1, ..., 1, 1, 0],\n",
       "       [1, 0, 1, ..., 0, 1, 1],\n",
       "       [1, 1, 1, ..., 1, 0, 0],\n",
       "       ...,\n",
       "       [1, 0, 1, ..., 0, 1, 1],\n",
       "       [1, 1, 0, ..., 1, 0, 0],\n",
       "       [0, 0, 0, ..., 1, 1, 1]])"
      ]
     },
     "execution_count": 157,
     "metadata": {},
     "output_type": "execute_result"
    }
   ],
   "source": [
    "draws"
   ]
  },
  {
   "cell_type": "code",
   "execution_count": 158,
   "metadata": {},
   "outputs": [],
   "source": [
    "steps = np.where(draws>0, 1, -1)\n",
    "walks = steps.cumsum(1)"
   ]
  },
  {
   "cell_type": "code",
   "execution_count": 159,
   "metadata": {},
   "outputs": [
    {
     "data": {
      "text/plain": [
       "array([[  1,   2,   3, ...,  46,  47,  46],\n",
       "       [  1,   0,   1, ...,  40,  41,  42],\n",
       "       [  1,   2,   3, ..., -26, -27, -28],\n",
       "       ...,\n",
       "       [  1,   0,   1, ...,  64,  65,  66],\n",
       "       [  1,   2,   1, ...,   2,   1,   0],\n",
       "       [ -1,  -2,  -3, ...,  32,  33,  34]], dtype=int32)"
      ]
     },
     "execution_count": 159,
     "metadata": {},
     "output_type": "execute_result"
    }
   ],
   "source": [
    "walks"
   ]
  },
  {
   "cell_type": "code",
   "execution_count": 160,
   "metadata": {},
   "outputs": [
    {
     "data": {
      "text/plain": [
       "122"
      ]
     },
     "execution_count": 160,
     "metadata": {},
     "output_type": "execute_result"
    }
   ],
   "source": [
    "walks.max()"
   ]
  },
  {
   "cell_type": "code",
   "execution_count": 161,
   "metadata": {},
   "outputs": [
    {
     "data": {
      "text/plain": [
       "-128"
      ]
     },
     "execution_count": 161,
     "metadata": {},
     "output_type": "execute_result"
    }
   ],
   "source": [
    "walks.min()"
   ]
  },
  {
   "cell_type": "code",
   "execution_count": 162,
   "metadata": {},
   "outputs": [],
   "source": [
    "hit30 = (np.abs(walks)>=30).any(1)"
   ]
  },
  {
   "cell_type": "code",
   "execution_count": 163,
   "metadata": {},
   "outputs": [
    {
     "data": {
      "text/plain": [
       "array([ True,  True,  True, ...,  True, False,  True])"
      ]
     },
     "execution_count": 163,
     "metadata": {},
     "output_type": "execute_result"
    }
   ],
   "source": [
    "hit30"
   ]
  },
  {
   "cell_type": "code",
   "execution_count": 164,
   "metadata": {},
   "outputs": [
    {
     "data": {
      "text/plain": [
       "3368"
      ]
     },
     "execution_count": 164,
     "metadata": {},
     "output_type": "execute_result"
    }
   ],
   "source": [
    "hit30.sum()"
   ]
  },
  {
   "cell_type": "code",
   "execution_count": 165,
   "metadata": {},
   "outputs": [],
   "source": [
    "cross_times = (np.abs(walks)>=30).argmax(1)"
   ]
  },
  {
   "cell_type": "code",
   "execution_count": 166,
   "metadata": {},
   "outputs": [
    {
     "data": {
      "text/plain": [
       "array([133, 395, 343, ..., 297,   0, 747], dtype=int64)"
      ]
     },
     "execution_count": 166,
     "metadata": {},
     "output_type": "execute_result"
    }
   ],
   "source": [
    "cross_times"
   ]
  },
  {
   "cell_type": "code",
   "execution_count": 167,
   "metadata": {},
   "outputs": [
    {
     "data": {
      "text/plain": [
       "343.5344"
      ]
     },
     "execution_count": 167,
     "metadata": {},
     "output_type": "execute_result"
    }
   ],
   "source": [
    "cross_times.mean()"
   ]
  },
  {
   "cell_type": "code",
   "execution_count": 168,
   "metadata": {},
   "outputs": [],
   "source": [
    "steps = np.random.normal(loc=0, scale=0.25, size=(nwalks,nsteps))"
   ]
  },
  {
   "cell_type": "code",
   "execution_count": 169,
   "metadata": {},
   "outputs": [
    {
     "data": {
      "text/plain": [
       "array([[-0.20472197, -0.03407671, -0.24781626, ...,  0.22195392,\n",
       "         0.21250584,  0.43994277],\n",
       "       [-0.09066595,  0.04741116,  0.09872352, ...,  0.10684413,\n",
       "         0.2540548 , -0.22255203],\n",
       "       [ 0.00942324,  0.03418277, -0.42305453, ..., -0.05711872,\n",
       "        -0.11820873, -0.71117832],\n",
       "       ...,\n",
       "       [ 0.1230118 , -0.18155722,  0.12782267, ...,  0.0730254 ,\n",
       "         0.06546779,  0.47920034],\n",
       "       [-0.20550269,  0.16459572, -0.03138668, ...,  0.06915243,\n",
       "         0.07831634,  0.27554056],\n",
       "       [-0.23056172,  0.28924403,  0.08444807, ..., -0.27018412,\n",
       "        -0.02140732,  0.06343304]])"
      ]
     },
     "execution_count": 169,
     "metadata": {},
     "output_type": "execute_result"
    }
   ],
   "source": [
    "steps"
   ]
  },
  {
   "cell_type": "code",
   "execution_count": null,
   "metadata": {},
   "outputs": [
    {
     "data": {
      "text/plain": [
       "[<matplotlib.lines.Line2D at 0xc669a90>,\n",
       " <matplotlib.lines.Line2D at 0xc669be0>,\n",
       " <matplotlib.lines.Line2D at 0xc669d30>,\n",
       " <matplotlib.lines.Line2D at 0xc669e80>,\n",
       " <matplotlib.lines.Line2D at 0xc669fd0>,\n",
       " <matplotlib.lines.Line2D at 0xc673160>,\n",
       " <matplotlib.lines.Line2D at 0xc6732b0>,\n",
       " <matplotlib.lines.Line2D at 0xc673400>,\n",
       " <matplotlib.lines.Line2D at 0xc673550>,\n",
       " <matplotlib.lines.Line2D at 0xc6736a0>,\n",
       " <matplotlib.lines.Line2D at 0xc649ef0>,\n",
       " <matplotlib.lines.Line2D at 0xc673908>,\n",
       " <matplotlib.lines.Line2D at 0xc673a58>,\n",
       " <matplotlib.lines.Line2D at 0xc673ba8>,\n",
       " <matplotlib.lines.Line2D at 0xc673cf8>,\n",
       " <matplotlib.lines.Line2D at 0xc673e48>,\n",
       " <matplotlib.lines.Line2D at 0xc673f98>,\n",
       " <matplotlib.lines.Line2D at 0xc678128>,\n",
       " <matplotlib.lines.Line2D at 0xc678278>,\n",
       " <matplotlib.lines.Line2D at 0xc6783c8>,\n",
       " <matplotlib.lines.Line2D at 0xc678518>,\n",
       " <matplotlib.lines.Line2D at 0xc678668>,\n",
       " <matplotlib.lines.Line2D at 0xc6787b8>,\n",
       " <matplotlib.lines.Line2D at 0xc678908>,\n",
       " <matplotlib.lines.Line2D at 0xc678a58>,\n",
       " <matplotlib.lines.Line2D at 0xc678ba8>,\n",
       " <matplotlib.lines.Line2D at 0xc678cf8>,\n",
       " <matplotlib.lines.Line2D at 0xc678e48>,\n",
       " <matplotlib.lines.Line2D at 0xc678f98>,\n",
       " <matplotlib.lines.Line2D at 0xc67c128>,\n",
       " <matplotlib.lines.Line2D at 0xc67c278>,\n",
       " <matplotlib.lines.Line2D at 0xc67c3c8>,\n",
       " <matplotlib.lines.Line2D at 0xc67c518>,\n",
       " <matplotlib.lines.Line2D at 0xc67c668>,\n",
       " <matplotlib.lines.Line2D at 0xc67c7b8>,\n",
       " <matplotlib.lines.Line2D at 0xc67c908>,\n",
       " <matplotlib.lines.Line2D at 0xc67ca58>,\n",
       " <matplotlib.lines.Line2D at 0xc67cba8>,\n",
       " <matplotlib.lines.Line2D at 0xc67ccf8>,\n",
       " <matplotlib.lines.Line2D at 0xc67ce48>,\n",
       " <matplotlib.lines.Line2D at 0xc67cf98>,\n",
       " <matplotlib.lines.Line2D at 0xa284128>,\n",
       " <matplotlib.lines.Line2D at 0xa284278>,\n",
       " <matplotlib.lines.Line2D at 0xa2843c8>,\n",
       " <matplotlib.lines.Line2D at 0xa284518>,\n",
       " <matplotlib.lines.Line2D at 0xa284668>,\n",
       " <matplotlib.lines.Line2D at 0xa2847b8>,\n",
       " <matplotlib.lines.Line2D at 0xa284908>,\n",
       " <matplotlib.lines.Line2D at 0xa284a58>,\n",
       " <matplotlib.lines.Line2D at 0xa284ba8>,\n",
       " <matplotlib.lines.Line2D at 0xa284cf8>,\n",
       " <matplotlib.lines.Line2D at 0xa284e48>,\n",
       " <matplotlib.lines.Line2D at 0xa284f98>,\n",
       " <matplotlib.lines.Line2D at 0xa287128>,\n",
       " <matplotlib.lines.Line2D at 0xa287278>,\n",
       " <matplotlib.lines.Line2D at 0xa2873c8>,\n",
       " <matplotlib.lines.Line2D at 0xa287518>,\n",
       " <matplotlib.lines.Line2D at 0xa287668>,\n",
       " <matplotlib.lines.Line2D at 0xa2877b8>,\n",
       " <matplotlib.lines.Line2D at 0xa287908>,\n",
       " <matplotlib.lines.Line2D at 0xa287a58>,\n",
       " <matplotlib.lines.Line2D at 0xa287ba8>,\n",
       " <matplotlib.lines.Line2D at 0xa287cf8>,\n",
       " <matplotlib.lines.Line2D at 0xa287e48>,\n",
       " <matplotlib.lines.Line2D at 0xa287f98>,\n",
       " <matplotlib.lines.Line2D at 0xa28c128>,\n",
       " <matplotlib.lines.Line2D at 0xa28c278>,\n",
       " <matplotlib.lines.Line2D at 0xa28c3c8>,\n",
       " <matplotlib.lines.Line2D at 0xa28c518>,\n",
       " <matplotlib.lines.Line2D at 0xa28c668>,\n",
       " <matplotlib.lines.Line2D at 0xa28c7b8>,\n",
       " <matplotlib.lines.Line2D at 0xa28c908>,\n",
       " <matplotlib.lines.Line2D at 0xa28ca58>,\n",
       " <matplotlib.lines.Line2D at 0xa28cba8>,\n",
       " <matplotlib.lines.Line2D at 0xa28ccf8>,\n",
       " <matplotlib.lines.Line2D at 0xa28ce48>,\n",
       " <matplotlib.lines.Line2D at 0xa28cf98>,\n",
       " <matplotlib.lines.Line2D at 0xa291128>,\n",
       " <matplotlib.lines.Line2D at 0xa291278>,\n",
       " <matplotlib.lines.Line2D at 0xa2913c8>,\n",
       " <matplotlib.lines.Line2D at 0xa291518>,\n",
       " <matplotlib.lines.Line2D at 0xa291668>,\n",
       " <matplotlib.lines.Line2D at 0xa2917b8>,\n",
       " <matplotlib.lines.Line2D at 0xa291908>,\n",
       " <matplotlib.lines.Line2D at 0xa291a58>,\n",
       " <matplotlib.lines.Line2D at 0xa291ba8>,\n",
       " <matplotlib.lines.Line2D at 0xa291cf8>,\n",
       " <matplotlib.lines.Line2D at 0xa291e48>,\n",
       " <matplotlib.lines.Line2D at 0xa291f98>,\n",
       " <matplotlib.lines.Line2D at 0xa297128>,\n",
       " <matplotlib.lines.Line2D at 0xa297278>,\n",
       " <matplotlib.lines.Line2D at 0xa2973c8>,\n",
       " <matplotlib.lines.Line2D at 0xa297518>,\n",
       " <matplotlib.lines.Line2D at 0xa297668>,\n",
       " <matplotlib.lines.Line2D at 0xa2977b8>,\n",
       " <matplotlib.lines.Line2D at 0xa297908>,\n",
       " <matplotlib.lines.Line2D at 0xa297a58>,\n",
       " <matplotlib.lines.Line2D at 0xa297ba8>,\n",
       " <matplotlib.lines.Line2D at 0xa297cf8>,\n",
       " <matplotlib.lines.Line2D at 0xa297e48>,\n",
       " <matplotlib.lines.Line2D at 0xa297f98>,\n",
       " <matplotlib.lines.Line2D at 0xa29c128>,\n",
       " <matplotlib.lines.Line2D at 0xa29c278>,\n",
       " <matplotlib.lines.Line2D at 0xa29c3c8>,\n",
       " <matplotlib.lines.Line2D at 0xa29c518>,\n",
       " <matplotlib.lines.Line2D at 0xa29c668>,\n",
       " <matplotlib.lines.Line2D at 0xa29c7b8>,\n",
       " <matplotlib.lines.Line2D at 0xa29c908>,\n",
       " <matplotlib.lines.Line2D at 0xa29ca58>,\n",
       " <matplotlib.lines.Line2D at 0xa29cba8>,\n",
       " <matplotlib.lines.Line2D at 0xa29ccf8>,\n",
       " <matplotlib.lines.Line2D at 0xa29ce48>,\n",
       " <matplotlib.lines.Line2D at 0xa29cf98>,\n",
       " <matplotlib.lines.Line2D at 0xa2a1128>,\n",
       " <matplotlib.lines.Line2D at 0xa2a1278>,\n",
       " <matplotlib.lines.Line2D at 0xa2a13c8>,\n",
       " <matplotlib.lines.Line2D at 0xa2a1518>,\n",
       " <matplotlib.lines.Line2D at 0xa2a1668>,\n",
       " <matplotlib.lines.Line2D at 0xa2a17b8>,\n",
       " <matplotlib.lines.Line2D at 0xa2a1908>,\n",
       " <matplotlib.lines.Line2D at 0xa2a1a58>,\n",
       " <matplotlib.lines.Line2D at 0xa2a1ba8>,\n",
       " <matplotlib.lines.Line2D at 0xa2a1cf8>,\n",
       " <matplotlib.lines.Line2D at 0xa2a1e48>,\n",
       " <matplotlib.lines.Line2D at 0xa2a1f98>,\n",
       " <matplotlib.lines.Line2D at 0xa2a6128>,\n",
       " <matplotlib.lines.Line2D at 0xa2a6278>,\n",
       " <matplotlib.lines.Line2D at 0xa2a63c8>,\n",
       " <matplotlib.lines.Line2D at 0xa2a6518>,\n",
       " <matplotlib.lines.Line2D at 0xa2a6668>,\n",
       " <matplotlib.lines.Line2D at 0xa2a67b8>,\n",
       " <matplotlib.lines.Line2D at 0xa2a6908>,\n",
       " <matplotlib.lines.Line2D at 0xa2a6a58>,\n",
       " <matplotlib.lines.Line2D at 0xa2a6ba8>,\n",
       " <matplotlib.lines.Line2D at 0xa2a6cf8>,\n",
       " <matplotlib.lines.Line2D at 0xa2a6e48>,\n",
       " <matplotlib.lines.Line2D at 0xa2a6f98>,\n",
       " <matplotlib.lines.Line2D at 0xa2ac128>,\n",
       " <matplotlib.lines.Line2D at 0xa2ac278>,\n",
       " <matplotlib.lines.Line2D at 0xa2ac3c8>,\n",
       " <matplotlib.lines.Line2D at 0xa2ac518>,\n",
       " <matplotlib.lines.Line2D at 0xa2ac668>,\n",
       " <matplotlib.lines.Line2D at 0xa2ac7b8>,\n",
       " <matplotlib.lines.Line2D at 0xa2ac908>,\n",
       " <matplotlib.lines.Line2D at 0xa2aca58>,\n",
       " <matplotlib.lines.Line2D at 0xa2acba8>,\n",
       " <matplotlib.lines.Line2D at 0xa2accf8>,\n",
       " <matplotlib.lines.Line2D at 0xa2ace48>,\n",
       " <matplotlib.lines.Line2D at 0xa2acf98>,\n",
       " <matplotlib.lines.Line2D at 0xa2b0128>,\n",
       " <matplotlib.lines.Line2D at 0xa2b0278>,\n",
       " <matplotlib.lines.Line2D at 0xa2b03c8>,\n",
       " <matplotlib.lines.Line2D at 0xa2b0518>,\n",
       " <matplotlib.lines.Line2D at 0xa2b0668>,\n",
       " <matplotlib.lines.Line2D at 0xa2b07b8>,\n",
       " <matplotlib.lines.Line2D at 0xa2b0908>,\n",
       " <matplotlib.lines.Line2D at 0xa2b0a58>,\n",
       " <matplotlib.lines.Line2D at 0xa2b0ba8>,\n",
       " <matplotlib.lines.Line2D at 0xa2b0cf8>,\n",
       " <matplotlib.lines.Line2D at 0xa2b0e48>,\n",
       " <matplotlib.lines.Line2D at 0xa2b0f98>,\n",
       " <matplotlib.lines.Line2D at 0xa2b6128>,\n",
       " <matplotlib.lines.Line2D at 0xa2b6278>,\n",
       " <matplotlib.lines.Line2D at 0xa2b63c8>,\n",
       " <matplotlib.lines.Line2D at 0xa2b6518>,\n",
       " <matplotlib.lines.Line2D at 0xa2b6668>,\n",
       " <matplotlib.lines.Line2D at 0xa2b67b8>,\n",
       " <matplotlib.lines.Line2D at 0xa2b6908>,\n",
       " <matplotlib.lines.Line2D at 0xa2b6a58>,\n",
       " <matplotlib.lines.Line2D at 0xa2b6ba8>,\n",
       " <matplotlib.lines.Line2D at 0xa2b6cf8>,\n",
       " <matplotlib.lines.Line2D at 0xa2b6e48>,\n",
       " <matplotlib.lines.Line2D at 0xa2b6f98>,\n",
       " <matplotlib.lines.Line2D at 0xa2ba128>,\n",
       " <matplotlib.lines.Line2D at 0xa2ba278>,\n",
       " <matplotlib.lines.Line2D at 0xa2ba3c8>,\n",
       " <matplotlib.lines.Line2D at 0xa2ba518>,\n",
       " <matplotlib.lines.Line2D at 0xa2ba668>,\n",
       " <matplotlib.lines.Line2D at 0xa2ba7b8>,\n",
       " <matplotlib.lines.Line2D at 0xa2ba908>,\n",
       " <matplotlib.lines.Line2D at 0xa2baa58>,\n",
       " <matplotlib.lines.Line2D at 0xa2baba8>,\n",
       " <matplotlib.lines.Line2D at 0xa2bacf8>,\n",
       " <matplotlib.lines.Line2D at 0xa2bae48>,\n",
       " <matplotlib.lines.Line2D at 0xa2baf98>,\n",
       " <matplotlib.lines.Line2D at 0xc4c0128>,\n",
       " <matplotlib.lines.Line2D at 0xc4c0278>,\n",
       " <matplotlib.lines.Line2D at 0xc4c03c8>,\n",
       " <matplotlib.lines.Line2D at 0xc4c0518>,\n",
       " <matplotlib.lines.Line2D at 0xc4c0668>,\n",
       " <matplotlib.lines.Line2D at 0xc4c07b8>,\n",
       " <matplotlib.lines.Line2D at 0xc4c0908>,\n",
       " <matplotlib.lines.Line2D at 0xc4c0a58>,\n",
       " <matplotlib.lines.Line2D at 0xc4c0ba8>,\n",
       " <matplotlib.lines.Line2D at 0xc4c0cf8>,\n",
       " <matplotlib.lines.Line2D at 0xc4c0e48>,\n",
       " <matplotlib.lines.Line2D at 0xc4c0f98>,\n",
       " <matplotlib.lines.Line2D at 0xc4c5128>,\n",
       " <matplotlib.lines.Line2D at 0xc4c5278>,\n",
       " <matplotlib.lines.Line2D at 0xc4c53c8>,\n",
       " <matplotlib.lines.Line2D at 0xc4c5518>,\n",
       " <matplotlib.lines.Line2D at 0xc4c5668>,\n",
       " <matplotlib.lines.Line2D at 0xc4c57b8>,\n",
       " <matplotlib.lines.Line2D at 0xc4c5908>,\n",
       " <matplotlib.lines.Line2D at 0xc4c5a58>,\n",
       " <matplotlib.lines.Line2D at 0xc4c5ba8>,\n",
       " <matplotlib.lines.Line2D at 0xc4c5cf8>,\n",
       " <matplotlib.lines.Line2D at 0xc4c5e48>,\n",
       " <matplotlib.lines.Line2D at 0xc4c5f98>,\n",
       " <matplotlib.lines.Line2D at 0xc4cb128>,\n",
       " <matplotlib.lines.Line2D at 0xc4cb278>,\n",
       " <matplotlib.lines.Line2D at 0xc4cb3c8>,\n",
       " <matplotlib.lines.Line2D at 0xc4cb518>,\n",
       " <matplotlib.lines.Line2D at 0xc4cb668>,\n",
       " <matplotlib.lines.Line2D at 0xc4cb7b8>,\n",
       " <matplotlib.lines.Line2D at 0xc4cb908>,\n",
       " <matplotlib.lines.Line2D at 0xc4cba58>,\n",
       " <matplotlib.lines.Line2D at 0xc4cbba8>,\n",
       " <matplotlib.lines.Line2D at 0xc4cbcf8>,\n",
       " <matplotlib.lines.Line2D at 0xc4cbe48>,\n",
       " <matplotlib.lines.Line2D at 0xc4cbf98>,\n",
       " <matplotlib.lines.Line2D at 0xc4cf128>,\n",
       " <matplotlib.lines.Line2D at 0xc4cf278>,\n",
       " <matplotlib.lines.Line2D at 0xc4cf3c8>,\n",
       " <matplotlib.lines.Line2D at 0xc4cf518>,\n",
       " <matplotlib.lines.Line2D at 0xc4cf668>,\n",
       " <matplotlib.lines.Line2D at 0xc4cf7b8>,\n",
       " <matplotlib.lines.Line2D at 0xc4cf908>,\n",
       " <matplotlib.lines.Line2D at 0xc4cfa58>,\n",
       " <matplotlib.lines.Line2D at 0xc4cfba8>,\n",
       " <matplotlib.lines.Line2D at 0xc4cfcf8>,\n",
       " <matplotlib.lines.Line2D at 0xc4cfe48>,\n",
       " <matplotlib.lines.Line2D at 0xc4cff98>,\n",
       " <matplotlib.lines.Line2D at 0xc4d5128>,\n",
       " <matplotlib.lines.Line2D at 0xc4d5278>,\n",
       " <matplotlib.lines.Line2D at 0xc4d53c8>,\n",
       " <matplotlib.lines.Line2D at 0xc4d5518>,\n",
       " <matplotlib.lines.Line2D at 0xc4d5668>,\n",
       " <matplotlib.lines.Line2D at 0xc4d57b8>,\n",
       " <matplotlib.lines.Line2D at 0xc4d5908>,\n",
       " <matplotlib.lines.Line2D at 0xc4d5a58>,\n",
       " <matplotlib.lines.Line2D at 0xc4d5ba8>,\n",
       " <matplotlib.lines.Line2D at 0xc4d5cf8>,\n",
       " <matplotlib.lines.Line2D at 0xc4d5e48>,\n",
       " <matplotlib.lines.Line2D at 0xc4d5f98>,\n",
       " <matplotlib.lines.Line2D at 0xc4da128>,\n",
       " <matplotlib.lines.Line2D at 0xc4da278>,\n",
       " <matplotlib.lines.Line2D at 0xc4da3c8>,\n",
       " <matplotlib.lines.Line2D at 0xc4da518>,\n",
       " <matplotlib.lines.Line2D at 0xc4da668>,\n",
       " <matplotlib.lines.Line2D at 0xc4da7b8>,\n",
       " <matplotlib.lines.Line2D at 0xc4da908>,\n",
       " <matplotlib.lines.Line2D at 0xc4daa58>,\n",
       " <matplotlib.lines.Line2D at 0xc4daba8>,\n",
       " <matplotlib.lines.Line2D at 0xc4dacf8>,\n",
       " <matplotlib.lines.Line2D at 0xc4dae48>,\n",
       " <matplotlib.lines.Line2D at 0xc4daf98>,\n",
       " <matplotlib.lines.Line2D at 0xc4de128>,\n",
       " <matplotlib.lines.Line2D at 0xc4de278>,\n",
       " <matplotlib.lines.Line2D at 0xc4de3c8>,\n",
       " <matplotlib.lines.Line2D at 0xc4de518>,\n",
       " <matplotlib.lines.Line2D at 0xc4de668>,\n",
       " <matplotlib.lines.Line2D at 0xc4de7b8>,\n",
       " <matplotlib.lines.Line2D at 0xc4de908>,\n",
       " <matplotlib.lines.Line2D at 0xc4dea58>,\n",
       " <matplotlib.lines.Line2D at 0xc4deba8>,\n",
       " <matplotlib.lines.Line2D at 0xc4decf8>,\n",
       " <matplotlib.lines.Line2D at 0xc4dee48>,\n",
       " <matplotlib.lines.Line2D at 0xc4def98>,\n",
       " <matplotlib.lines.Line2D at 0xc4e3128>,\n",
       " <matplotlib.lines.Line2D at 0xc4e3278>,\n",
       " <matplotlib.lines.Line2D at 0xc4e33c8>,\n",
       " <matplotlib.lines.Line2D at 0xc4e3518>,\n",
       " <matplotlib.lines.Line2D at 0xc4e3668>,\n",
       " <matplotlib.lines.Line2D at 0xc4e37b8>,\n",
       " <matplotlib.lines.Line2D at 0xc4e3908>,\n",
       " <matplotlib.lines.Line2D at 0xc4e3a58>,\n",
       " <matplotlib.lines.Line2D at 0xc4e3ba8>,\n",
       " <matplotlib.lines.Line2D at 0xc4e3cf8>,\n",
       " <matplotlib.lines.Line2D at 0xc4e3e48>,\n",
       " <matplotlib.lines.Line2D at 0xc4e3f98>,\n",
       " <matplotlib.lines.Line2D at 0xc4e8128>,\n",
       " <matplotlib.lines.Line2D at 0xc4e8278>,\n",
       " <matplotlib.lines.Line2D at 0xc4e83c8>,\n",
       " <matplotlib.lines.Line2D at 0xc4e8518>,\n",
       " <matplotlib.lines.Line2D at 0xc4e8668>,\n",
       " <matplotlib.lines.Line2D at 0xc4e87b8>,\n",
       " <matplotlib.lines.Line2D at 0xc4e8908>,\n",
       " <matplotlib.lines.Line2D at 0xc4e8a58>,\n",
       " <matplotlib.lines.Line2D at 0xc4e8ba8>,\n",
       " <matplotlib.lines.Line2D at 0xc4e8cf8>,\n",
       " <matplotlib.lines.Line2D at 0xc4e8e48>,\n",
       " <matplotlib.lines.Line2D at 0xc4e8f98>,\n",
       " <matplotlib.lines.Line2D at 0xc4ee128>,\n",
       " <matplotlib.lines.Line2D at 0xc4ee278>,\n",
       " <matplotlib.lines.Line2D at 0xc4ee3c8>,\n",
       " <matplotlib.lines.Line2D at 0xc4ee518>,\n",
       " <matplotlib.lines.Line2D at 0xc4ee668>,\n",
       " <matplotlib.lines.Line2D at 0xc4ee7b8>,\n",
       " <matplotlib.lines.Line2D at 0xc4ee908>,\n",
       " <matplotlib.lines.Line2D at 0xc4eea58>,\n",
       " <matplotlib.lines.Line2D at 0xc4eeba8>,\n",
       " <matplotlib.lines.Line2D at 0xc4eecf8>,\n",
       " <matplotlib.lines.Line2D at 0xc4eee48>,\n",
       " <matplotlib.lines.Line2D at 0xc4eef98>,\n",
       " <matplotlib.lines.Line2D at 0xc4f4128>,\n",
       " <matplotlib.lines.Line2D at 0xc4f4278>,\n",
       " <matplotlib.lines.Line2D at 0xc4f43c8>,\n",
       " <matplotlib.lines.Line2D at 0xc4f4518>,\n",
       " <matplotlib.lines.Line2D at 0xc4f4668>,\n",
       " <matplotlib.lines.Line2D at 0xc4f47b8>,\n",
       " <matplotlib.lines.Line2D at 0xc4f4908>,\n",
       " <matplotlib.lines.Line2D at 0xc4f4a58>,\n",
       " <matplotlib.lines.Line2D at 0xc4f4ba8>,\n",
       " <matplotlib.lines.Line2D at 0xc4f4cf8>,\n",
       " <matplotlib.lines.Line2D at 0xc4f4e48>,\n",
       " <matplotlib.lines.Line2D at 0xc4f4f98>,\n",
       " <matplotlib.lines.Line2D at 0xc4f8128>,\n",
       " <matplotlib.lines.Line2D at 0xc4f8278>,\n",
       " <matplotlib.lines.Line2D at 0xc4f83c8>,\n",
       " <matplotlib.lines.Line2D at 0xc4f8518>,\n",
       " <matplotlib.lines.Line2D at 0xc4f8668>,\n",
       " <matplotlib.lines.Line2D at 0xc4f87b8>,\n",
       " <matplotlib.lines.Line2D at 0xc4f8908>,\n",
       " <matplotlib.lines.Line2D at 0xc4f8a58>,\n",
       " <matplotlib.lines.Line2D at 0xc4f8ba8>,\n",
       " <matplotlib.lines.Line2D at 0xc4f8cf8>,\n",
       " <matplotlib.lines.Line2D at 0xc4f8e48>,\n",
       " <matplotlib.lines.Line2D at 0xc4f8f98>,\n",
       " <matplotlib.lines.Line2D at 0xc4fe128>,\n",
       " <matplotlib.lines.Line2D at 0xc4fe278>,\n",
       " <matplotlib.lines.Line2D at 0xc4fe3c8>,\n",
       " <matplotlib.lines.Line2D at 0xc4fe518>,\n",
       " <matplotlib.lines.Line2D at 0xc4fe668>,\n",
       " <matplotlib.lines.Line2D at 0xc4fe7b8>,\n",
       " <matplotlib.lines.Line2D at 0xc4fe908>,\n",
       " <matplotlib.lines.Line2D at 0xc4fea58>,\n",
       " <matplotlib.lines.Line2D at 0xc4feba8>,\n",
       " <matplotlib.lines.Line2D at 0xc4fecf8>,\n",
       " <matplotlib.lines.Line2D at 0xc4fee48>,\n",
       " <matplotlib.lines.Line2D at 0xc4fef98>,\n",
       " <matplotlib.lines.Line2D at 0xc503128>,\n",
       " <matplotlib.lines.Line2D at 0xc503278>,\n",
       " <matplotlib.lines.Line2D at 0xc5033c8>,\n",
       " <matplotlib.lines.Line2D at 0xc503518>,\n",
       " <matplotlib.lines.Line2D at 0xc503668>,\n",
       " <matplotlib.lines.Line2D at 0xc5037b8>,\n",
       " <matplotlib.lines.Line2D at 0xc503908>,\n",
       " <matplotlib.lines.Line2D at 0xc503a58>,\n",
       " <matplotlib.lines.Line2D at 0xc503ba8>,\n",
       " <matplotlib.lines.Line2D at 0xc503cf8>,\n",
       " <matplotlib.lines.Line2D at 0xc503e48>,\n",
       " <matplotlib.lines.Line2D at 0xc503f98>,\n",
       " <matplotlib.lines.Line2D at 0xc508128>,\n",
       " <matplotlib.lines.Line2D at 0xc508278>,\n",
       " <matplotlib.lines.Line2D at 0xc5083c8>,\n",
       " <matplotlib.lines.Line2D at 0xc508518>,\n",
       " <matplotlib.lines.Line2D at 0xc508668>,\n",
       " <matplotlib.lines.Line2D at 0xc5087b8>,\n",
       " <matplotlib.lines.Line2D at 0xc508908>,\n",
       " <matplotlib.lines.Line2D at 0xc508a58>,\n",
       " <matplotlib.lines.Line2D at 0xc508ba8>,\n",
       " <matplotlib.lines.Line2D at 0xc508cf8>,\n",
       " <matplotlib.lines.Line2D at 0xc508e48>,\n",
       " <matplotlib.lines.Line2D at 0xc508f98>,\n",
       " <matplotlib.lines.Line2D at 0xc50c128>,\n",
       " <matplotlib.lines.Line2D at 0xc50c278>,\n",
       " <matplotlib.lines.Line2D at 0xc50c3c8>,\n",
       " <matplotlib.lines.Line2D at 0xc50c518>,\n",
       " <matplotlib.lines.Line2D at 0xc50c668>,\n",
       " <matplotlib.lines.Line2D at 0xc50c7b8>,\n",
       " <matplotlib.lines.Line2D at 0xc50c908>,\n",
       " <matplotlib.lines.Line2D at 0xc50ca58>,\n",
       " <matplotlib.lines.Line2D at 0xc50cba8>,\n",
       " <matplotlib.lines.Line2D at 0xc50ccf8>,\n",
       " <matplotlib.lines.Line2D at 0xc50ce48>,\n",
       " <matplotlib.lines.Line2D at 0xc50cf98>,\n",
       " <matplotlib.lines.Line2D at 0xc512128>,\n",
       " <matplotlib.lines.Line2D at 0xc512278>,\n",
       " <matplotlib.lines.Line2D at 0xc5123c8>,\n",
       " <matplotlib.lines.Line2D at 0xc512518>,\n",
       " <matplotlib.lines.Line2D at 0xc512668>,\n",
       " <matplotlib.lines.Line2D at 0xc5127b8>,\n",
       " <matplotlib.lines.Line2D at 0xc512908>,\n",
       " <matplotlib.lines.Line2D at 0xc512a58>,\n",
       " <matplotlib.lines.Line2D at 0xc512ba8>,\n",
       " <matplotlib.lines.Line2D at 0xc512cf8>,\n",
       " <matplotlib.lines.Line2D at 0xc512e48>,\n",
       " <matplotlib.lines.Line2D at 0xc512f98>,\n",
       " <matplotlib.lines.Line2D at 0xc517128>,\n",
       " <matplotlib.lines.Line2D at 0xc517278>,\n",
       " <matplotlib.lines.Line2D at 0xc5173c8>,\n",
       " <matplotlib.lines.Line2D at 0xc517518>,\n",
       " <matplotlib.lines.Line2D at 0xc517668>,\n",
       " <matplotlib.lines.Line2D at 0xc5177b8>,\n",
       " <matplotlib.lines.Line2D at 0xc517908>,\n",
       " <matplotlib.lines.Line2D at 0xc517a58>,\n",
       " <matplotlib.lines.Line2D at 0xc517ba8>,\n",
       " <matplotlib.lines.Line2D at 0xc517cf8>,\n",
       " <matplotlib.lines.Line2D at 0xc517e48>,\n",
       " <matplotlib.lines.Line2D at 0xc517f98>,\n",
       " <matplotlib.lines.Line2D at 0xc51d128>,\n",
       " <matplotlib.lines.Line2D at 0xc51d278>,\n",
       " <matplotlib.lines.Line2D at 0xc51d3c8>,\n",
       " <matplotlib.lines.Line2D at 0xc51d518>,\n",
       " <matplotlib.lines.Line2D at 0xc51d668>,\n",
       " <matplotlib.lines.Line2D at 0xc51d7b8>,\n",
       " <matplotlib.lines.Line2D at 0xc51d908>,\n",
       " <matplotlib.lines.Line2D at 0xc51da58>,\n",
       " <matplotlib.lines.Line2D at 0xc51dba8>,\n",
       " <matplotlib.lines.Line2D at 0xc51dcf8>,\n",
       " <matplotlib.lines.Line2D at 0xc51de48>,\n",
       " <matplotlib.lines.Line2D at 0xc51df98>,\n",
       " <matplotlib.lines.Line2D at 0xc522128>,\n",
       " <matplotlib.lines.Line2D at 0xc522278>,\n",
       " <matplotlib.lines.Line2D at 0xc5223c8>,\n",
       " <matplotlib.lines.Line2D at 0xc522518>,\n",
       " <matplotlib.lines.Line2D at 0xc522668>,\n",
       " <matplotlib.lines.Line2D at 0xc5227b8>,\n",
       " <matplotlib.lines.Line2D at 0xc522908>,\n",
       " <matplotlib.lines.Line2D at 0xc522a58>,\n",
       " <matplotlib.lines.Line2D at 0xc522ba8>,\n",
       " <matplotlib.lines.Line2D at 0xc522cf8>,\n",
       " <matplotlib.lines.Line2D at 0xc522e48>,\n",
       " <matplotlib.lines.Line2D at 0xc522f98>,\n",
       " <matplotlib.lines.Line2D at 0xc527128>,\n",
       " <matplotlib.lines.Line2D at 0xc527278>,\n",
       " <matplotlib.lines.Line2D at 0xc5273c8>,\n",
       " <matplotlib.lines.Line2D at 0xc527518>,\n",
       " <matplotlib.lines.Line2D at 0xc527668>,\n",
       " <matplotlib.lines.Line2D at 0xc5277b8>,\n",
       " <matplotlib.lines.Line2D at 0xc527908>,\n",
       " <matplotlib.lines.Line2D at 0xc527a58>,\n",
       " <matplotlib.lines.Line2D at 0xc527ba8>,\n",
       " <matplotlib.lines.Line2D at 0xc527cf8>,\n",
       " <matplotlib.lines.Line2D at 0xc527e48>,\n",
       " <matplotlib.lines.Line2D at 0xc527f98>,\n",
       " <matplotlib.lines.Line2D at 0xc52c128>,\n",
       " <matplotlib.lines.Line2D at 0xc52c278>,\n",
       " <matplotlib.lines.Line2D at 0xc52c3c8>,\n",
       " <matplotlib.lines.Line2D at 0xc52c518>,\n",
       " <matplotlib.lines.Line2D at 0xc52c668>,\n",
       " <matplotlib.lines.Line2D at 0xc52c7b8>,\n",
       " <matplotlib.lines.Line2D at 0xc52c908>,\n",
       " <matplotlib.lines.Line2D at 0xc52ca58>,\n",
       " <matplotlib.lines.Line2D at 0xc52cba8>,\n",
       " <matplotlib.lines.Line2D at 0xc52ccf8>,\n",
       " <matplotlib.lines.Line2D at 0xc52ce48>,\n",
       " <matplotlib.lines.Line2D at 0xc52cf98>,\n",
       " <matplotlib.lines.Line2D at 0xc531128>,\n",
       " <matplotlib.lines.Line2D at 0xc531278>,\n",
       " <matplotlib.lines.Line2D at 0xc5313c8>,\n",
       " <matplotlib.lines.Line2D at 0xc531518>,\n",
       " <matplotlib.lines.Line2D at 0xc531668>,\n",
       " <matplotlib.lines.Line2D at 0xc5317b8>,\n",
       " <matplotlib.lines.Line2D at 0xc531908>,\n",
       " <matplotlib.lines.Line2D at 0xc531a58>,\n",
       " <matplotlib.lines.Line2D at 0xc531ba8>,\n",
       " <matplotlib.lines.Line2D at 0xc531cf8>,\n",
       " <matplotlib.lines.Line2D at 0xc531e48>,\n",
       " <matplotlib.lines.Line2D at 0xc531f98>,\n",
       " <matplotlib.lines.Line2D at 0xc536128>,\n",
       " <matplotlib.lines.Line2D at 0xc536278>,\n",
       " <matplotlib.lines.Line2D at 0xc5363c8>,\n",
       " <matplotlib.lines.Line2D at 0xc536518>,\n",
       " <matplotlib.lines.Line2D at 0xc536668>,\n",
       " <matplotlib.lines.Line2D at 0xc5367b8>,\n",
       " <matplotlib.lines.Line2D at 0xc536908>,\n",
       " <matplotlib.lines.Line2D at 0xc536a58>,\n",
       " <matplotlib.lines.Line2D at 0xc536ba8>,\n",
       " <matplotlib.lines.Line2D at 0xc536cf8>,\n",
       " <matplotlib.lines.Line2D at 0xc536e48>,\n",
       " <matplotlib.lines.Line2D at 0xc536f98>,\n",
       " <matplotlib.lines.Line2D at 0xc53b128>,\n",
       " <matplotlib.lines.Line2D at 0xc53b278>,\n",
       " <matplotlib.lines.Line2D at 0xc53b3c8>,\n",
       " <matplotlib.lines.Line2D at 0xc53b518>,\n",
       " <matplotlib.lines.Line2D at 0xc53b668>,\n",
       " <matplotlib.lines.Line2D at 0xc53b7b8>,\n",
       " <matplotlib.lines.Line2D at 0xc53b908>,\n",
       " <matplotlib.lines.Line2D at 0xc53ba58>,\n",
       " <matplotlib.lines.Line2D at 0xc53bba8>,\n",
       " <matplotlib.lines.Line2D at 0xc53bcf8>,\n",
       " <matplotlib.lines.Line2D at 0xc53be48>,\n",
       " <matplotlib.lines.Line2D at 0xc53bf98>,\n",
       " <matplotlib.lines.Line2D at 0xc540128>,\n",
       " <matplotlib.lines.Line2D at 0xc540278>,\n",
       " <matplotlib.lines.Line2D at 0xc5403c8>,\n",
       " <matplotlib.lines.Line2D at 0xc540518>,\n",
       " <matplotlib.lines.Line2D at 0xc540668>,\n",
       " <matplotlib.lines.Line2D at 0xc5407b8>,\n",
       " <matplotlib.lines.Line2D at 0xc540908>,\n",
       " <matplotlib.lines.Line2D at 0xc540a58>,\n",
       " <matplotlib.lines.Line2D at 0xc540ba8>,\n",
       " <matplotlib.lines.Line2D at 0xc540cf8>,\n",
       " <matplotlib.lines.Line2D at 0xc540e48>,\n",
       " <matplotlib.lines.Line2D at 0xc540f98>,\n",
       " <matplotlib.lines.Line2D at 0xc546128>,\n",
       " <matplotlib.lines.Line2D at 0xc546278>,\n",
       " <matplotlib.lines.Line2D at 0xc5463c8>,\n",
       " <matplotlib.lines.Line2D at 0xc546518>,\n",
       " <matplotlib.lines.Line2D at 0xc546668>,\n",
       " <matplotlib.lines.Line2D at 0xc5467b8>,\n",
       " <matplotlib.lines.Line2D at 0xc546908>,\n",
       " <matplotlib.lines.Line2D at 0xc546a58>,\n",
       " <matplotlib.lines.Line2D at 0xc546ba8>,\n",
       " <matplotlib.lines.Line2D at 0xc546cf8>,\n",
       " <matplotlib.lines.Line2D at 0xc546e48>,\n",
       " <matplotlib.lines.Line2D at 0xc546f98>,\n",
       " <matplotlib.lines.Line2D at 0xc54b128>,\n",
       " <matplotlib.lines.Line2D at 0xc54b278>,\n",
       " <matplotlib.lines.Line2D at 0xc54b3c8>,\n",
       " <matplotlib.lines.Line2D at 0xc54b518>,\n",
       " <matplotlib.lines.Line2D at 0xc54b668>,\n",
       " <matplotlib.lines.Line2D at 0xc54b7b8>,\n",
       " <matplotlib.lines.Line2D at 0xc54b908>,\n",
       " <matplotlib.lines.Line2D at 0xc54ba58>,\n",
       " <matplotlib.lines.Line2D at 0xc54bba8>,\n",
       " <matplotlib.lines.Line2D at 0xc649f60>,\n",
       " <matplotlib.lines.Line2D at 0xc6432e8>,\n",
       " <matplotlib.lines.Line2D at 0xc643278>,\n",
       " <matplotlib.lines.Line2D at 0xc642b38>,\n",
       " <matplotlib.lines.Line2D at 0xc54bcf8>,\n",
       " <matplotlib.lines.Line2D at 0xc54be48>,\n",
       " <matplotlib.lines.Line2D at 0xc54bf98>,\n",
       " <matplotlib.lines.Line2D at 0xc54f128>,\n",
       " <matplotlib.lines.Line2D at 0xc54f278>,\n",
       " <matplotlib.lines.Line2D at 0xc54f3c8>,\n",
       " <matplotlib.lines.Line2D at 0xc54f518>,\n",
       " <matplotlib.lines.Line2D at 0xc54f668>,\n",
       " <matplotlib.lines.Line2D at 0xc54f7b8>,\n",
       " <matplotlib.lines.Line2D at 0xc54f908>,\n",
       " <matplotlib.lines.Line2D at 0xc54fa58>,\n",
       " <matplotlib.lines.Line2D at 0xc54fba8>,\n",
       " <matplotlib.lines.Line2D at 0xc54fcf8>,\n",
       " <matplotlib.lines.Line2D at 0xc54fe48>,\n",
       " <matplotlib.lines.Line2D at 0xc54ff98>,\n",
       " <matplotlib.lines.Line2D at 0xc555128>,\n",
       " <matplotlib.lines.Line2D at 0xc555278>,\n",
       " <matplotlib.lines.Line2D at 0xc5553c8>,\n",
       " <matplotlib.lines.Line2D at 0xc555518>,\n",
       " <matplotlib.lines.Line2D at 0xc555668>,\n",
       " <matplotlib.lines.Line2D at 0xc5557b8>,\n",
       " <matplotlib.lines.Line2D at 0xc555908>,\n",
       " <matplotlib.lines.Line2D at 0xc555a58>,\n",
       " <matplotlib.lines.Line2D at 0xc555ba8>,\n",
       " <matplotlib.lines.Line2D at 0xc555cf8>,\n",
       " <matplotlib.lines.Line2D at 0xc555e48>,\n",
       " <matplotlib.lines.Line2D at 0xc555f98>,\n",
       " <matplotlib.lines.Line2D at 0xc559128>,\n",
       " <matplotlib.lines.Line2D at 0xc559278>,\n",
       " <matplotlib.lines.Line2D at 0xc5593c8>,\n",
       " <matplotlib.lines.Line2D at 0xc559518>,\n",
       " <matplotlib.lines.Line2D at 0xc559668>,\n",
       " <matplotlib.lines.Line2D at 0xc5597b8>,\n",
       " <matplotlib.lines.Line2D at 0xc559908>,\n",
       " <matplotlib.lines.Line2D at 0xc559a58>,\n",
       " <matplotlib.lines.Line2D at 0xc559ba8>,\n",
       " <matplotlib.lines.Line2D at 0xc559cf8>,\n",
       " <matplotlib.lines.Line2D at 0xc559e48>,\n",
       " <matplotlib.lines.Line2D at 0xc559f98>,\n",
       " <matplotlib.lines.Line2D at 0xc55f128>,\n",
       " <matplotlib.lines.Line2D at 0xc55f278>,\n",
       " <matplotlib.lines.Line2D at 0xc55f3c8>,\n",
       " <matplotlib.lines.Line2D at 0xc55f518>,\n",
       " <matplotlib.lines.Line2D at 0xc55f668>,\n",
       " <matplotlib.lines.Line2D at 0xc55f7b8>,\n",
       " <matplotlib.lines.Line2D at 0xc55f908>,\n",
       " <matplotlib.lines.Line2D at 0xc55fa58>,\n",
       " <matplotlib.lines.Line2D at 0xc55fba8>,\n",
       " <matplotlib.lines.Line2D at 0xc55fcf8>,\n",
       " <matplotlib.lines.Line2D at 0xc55fe48>,\n",
       " <matplotlib.lines.Line2D at 0xc55ff98>,\n",
       " <matplotlib.lines.Line2D at 0xc563128>,\n",
       " <matplotlib.lines.Line2D at 0xc563278>,\n",
       " <matplotlib.lines.Line2D at 0xc5633c8>,\n",
       " <matplotlib.lines.Line2D at 0xc563518>,\n",
       " <matplotlib.lines.Line2D at 0xc563668>,\n",
       " <matplotlib.lines.Line2D at 0xc5637b8>,\n",
       " <matplotlib.lines.Line2D at 0xc563908>,\n",
       " <matplotlib.lines.Line2D at 0xc563a58>,\n",
       " <matplotlib.lines.Line2D at 0xc563ba8>,\n",
       " <matplotlib.lines.Line2D at 0xc563cf8>,\n",
       " <matplotlib.lines.Line2D at 0xc563e48>,\n",
       " <matplotlib.lines.Line2D at 0xc563f98>,\n",
       " <matplotlib.lines.Line2D at 0xc568128>,\n",
       " <matplotlib.lines.Line2D at 0xc568278>,\n",
       " <matplotlib.lines.Line2D at 0xc5683c8>,\n",
       " <matplotlib.lines.Line2D at 0xc568518>,\n",
       " <matplotlib.lines.Line2D at 0xc568668>,\n",
       " <matplotlib.lines.Line2D at 0xc5687b8>,\n",
       " <matplotlib.lines.Line2D at 0xc568908>,\n",
       " <matplotlib.lines.Line2D at 0xc568a58>,\n",
       " <matplotlib.lines.Line2D at 0xc568ba8>,\n",
       " <matplotlib.lines.Line2D at 0xc568cf8>,\n",
       " <matplotlib.lines.Line2D at 0xc568e48>,\n",
       " <matplotlib.lines.Line2D at 0xc568f98>,\n",
       " <matplotlib.lines.Line2D at 0xc56e128>,\n",
       " <matplotlib.lines.Line2D at 0xc56e278>,\n",
       " <matplotlib.lines.Line2D at 0xc56e3c8>,\n",
       " <matplotlib.lines.Line2D at 0xc56e518>,\n",
       " <matplotlib.lines.Line2D at 0xc56e668>,\n",
       " <matplotlib.lines.Line2D at 0xc56e7b8>,\n",
       " <matplotlib.lines.Line2D at 0xc56e908>,\n",
       " <matplotlib.lines.Line2D at 0xc56ea58>,\n",
       " <matplotlib.lines.Line2D at 0xc56eba8>,\n",
       " <matplotlib.lines.Line2D at 0xc56ecf8>,\n",
       " <matplotlib.lines.Line2D at 0xc56ee48>,\n",
       " <matplotlib.lines.Line2D at 0xc56ef98>,\n",
       " <matplotlib.lines.Line2D at 0xc573128>,\n",
       " <matplotlib.lines.Line2D at 0xc573278>,\n",
       " <matplotlib.lines.Line2D at 0xc5733c8>,\n",
       " <matplotlib.lines.Line2D at 0xc573518>,\n",
       " <matplotlib.lines.Line2D at 0xc573668>,\n",
       " <matplotlib.lines.Line2D at 0xc5737b8>,\n",
       " <matplotlib.lines.Line2D at 0xc573908>,\n",
       " <matplotlib.lines.Line2D at 0xc573a58>,\n",
       " <matplotlib.lines.Line2D at 0xc573ba8>,\n",
       " <matplotlib.lines.Line2D at 0xc573cf8>,\n",
       " <matplotlib.lines.Line2D at 0xc573e48>,\n",
       " <matplotlib.lines.Line2D at 0xc573f98>,\n",
       " <matplotlib.lines.Line2D at 0xc578128>,\n",
       " <matplotlib.lines.Line2D at 0xc578278>,\n",
       " <matplotlib.lines.Line2D at 0xc5783c8>,\n",
       " <matplotlib.lines.Line2D at 0xc578518>,\n",
       " <matplotlib.lines.Line2D at 0xc578668>,\n",
       " <matplotlib.lines.Line2D at 0xc5787b8>,\n",
       " <matplotlib.lines.Line2D at 0xc578908>,\n",
       " <matplotlib.lines.Line2D at 0xc578a58>,\n",
       " <matplotlib.lines.Line2D at 0xc578ba8>,\n",
       " <matplotlib.lines.Line2D at 0xc578cf8>,\n",
       " <matplotlib.lines.Line2D at 0xc578e48>,\n",
       " <matplotlib.lines.Line2D at 0xc578f98>,\n",
       " <matplotlib.lines.Line2D at 0xc57d128>,\n",
       " <matplotlib.lines.Line2D at 0xc57d278>,\n",
       " <matplotlib.lines.Line2D at 0xc57d3c8>,\n",
       " <matplotlib.lines.Line2D at 0xc57d518>,\n",
       " <matplotlib.lines.Line2D at 0xc57d668>,\n",
       " <matplotlib.lines.Line2D at 0xc57d7b8>,\n",
       " <matplotlib.lines.Line2D at 0xc57d908>,\n",
       " <matplotlib.lines.Line2D at 0xc57da58>,\n",
       " <matplotlib.lines.Line2D at 0xc57dba8>,\n",
       " <matplotlib.lines.Line2D at 0xc57dcf8>,\n",
       " <matplotlib.lines.Line2D at 0xc57de48>,\n",
       " <matplotlib.lines.Line2D at 0xc57df98>,\n",
       " <matplotlib.lines.Line2D at 0xc583128>,\n",
       " <matplotlib.lines.Line2D at 0xc583278>,\n",
       " <matplotlib.lines.Line2D at 0xc5833c8>,\n",
       " <matplotlib.lines.Line2D at 0xc583518>,\n",
       " <matplotlib.lines.Line2D at 0xc583668>,\n",
       " <matplotlib.lines.Line2D at 0xc5837b8>,\n",
       " <matplotlib.lines.Line2D at 0xc583908>,\n",
       " <matplotlib.lines.Line2D at 0xc583a58>,\n",
       " <matplotlib.lines.Line2D at 0xc583ba8>,\n",
       " <matplotlib.lines.Line2D at 0xc583cf8>,\n",
       " <matplotlib.lines.Line2D at 0xc583e48>,\n",
       " <matplotlib.lines.Line2D at 0xc583f98>,\n",
       " <matplotlib.lines.Line2D at 0xc588128>,\n",
       " <matplotlib.lines.Line2D at 0xc588278>,\n",
       " <matplotlib.lines.Line2D at 0xc5883c8>,\n",
       " <matplotlib.lines.Line2D at 0xc588518>,\n",
       " <matplotlib.lines.Line2D at 0xc588668>,\n",
       " <matplotlib.lines.Line2D at 0xc5887b8>,\n",
       " <matplotlib.lines.Line2D at 0xc588908>,\n",
       " <matplotlib.lines.Line2D at 0xc588a58>,\n",
       " <matplotlib.lines.Line2D at 0xc588ba8>,\n",
       " <matplotlib.lines.Line2D at 0xc588cf8>,\n",
       " <matplotlib.lines.Line2D at 0xc588e48>,\n",
       " <matplotlib.lines.Line2D at 0xc588f98>,\n",
       " <matplotlib.lines.Line2D at 0xc58c128>,\n",
       " <matplotlib.lines.Line2D at 0xc58c278>,\n",
       " <matplotlib.lines.Line2D at 0xc58c3c8>,\n",
       " <matplotlib.lines.Line2D at 0xc58c518>,\n",
       " <matplotlib.lines.Line2D at 0xc58c668>,\n",
       " <matplotlib.lines.Line2D at 0xc58c7b8>,\n",
       " <matplotlib.lines.Line2D at 0xc58c908>,\n",
       " <matplotlib.lines.Line2D at 0xc58ca58>,\n",
       " <matplotlib.lines.Line2D at 0xc58cba8>,\n",
       " <matplotlib.lines.Line2D at 0xc58ccf8>,\n",
       " <matplotlib.lines.Line2D at 0xc58ce48>,\n",
       " <matplotlib.lines.Line2D at 0xc58cf98>,\n",
       " <matplotlib.lines.Line2D at 0xc592128>,\n",
       " <matplotlib.lines.Line2D at 0xc592278>,\n",
       " <matplotlib.lines.Line2D at 0xc5923c8>,\n",
       " <matplotlib.lines.Line2D at 0xc592518>,\n",
       " <matplotlib.lines.Line2D at 0xc592668>,\n",
       " <matplotlib.lines.Line2D at 0xc5927b8>,\n",
       " <matplotlib.lines.Line2D at 0xc592908>,\n",
       " <matplotlib.lines.Line2D at 0xc592a58>,\n",
       " <matplotlib.lines.Line2D at 0xc592ba8>,\n",
       " <matplotlib.lines.Line2D at 0xc592cf8>,\n",
       " <matplotlib.lines.Line2D at 0xc592e48>,\n",
       " <matplotlib.lines.Line2D at 0xc592f98>,\n",
       " <matplotlib.lines.Line2D at 0xc597128>,\n",
       " <matplotlib.lines.Line2D at 0xc597278>,\n",
       " <matplotlib.lines.Line2D at 0xc5973c8>,\n",
       " <matplotlib.lines.Line2D at 0xc597518>,\n",
       " <matplotlib.lines.Line2D at 0xc597668>,\n",
       " <matplotlib.lines.Line2D at 0xc5977b8>,\n",
       " <matplotlib.lines.Line2D at 0xc597908>,\n",
       " <matplotlib.lines.Line2D at 0xc597a58>,\n",
       " <matplotlib.lines.Line2D at 0xc597ba8>,\n",
       " <matplotlib.lines.Line2D at 0xc597cf8>,\n",
       " <matplotlib.lines.Line2D at 0xc597e48>,\n",
       " <matplotlib.lines.Line2D at 0xc597f98>,\n",
       " <matplotlib.lines.Line2D at 0xc59c128>,\n",
       " <matplotlib.lines.Line2D at 0xc59c278>,\n",
       " <matplotlib.lines.Line2D at 0xc59c3c8>,\n",
       " <matplotlib.lines.Line2D at 0xc59c518>,\n",
       " <matplotlib.lines.Line2D at 0xc59c668>,\n",
       " <matplotlib.lines.Line2D at 0xc59c7b8>,\n",
       " <matplotlib.lines.Line2D at 0xc59c908>,\n",
       " <matplotlib.lines.Line2D at 0xc59ca58>,\n",
       " <matplotlib.lines.Line2D at 0xc59cba8>,\n",
       " <matplotlib.lines.Line2D at 0xc59ccf8>,\n",
       " <matplotlib.lines.Line2D at 0xc59ce48>,\n",
       " <matplotlib.lines.Line2D at 0xc59cf98>,\n",
       " <matplotlib.lines.Line2D at 0xc5a2128>,\n",
       " <matplotlib.lines.Line2D at 0xc5a2278>,\n",
       " <matplotlib.lines.Line2D at 0xc5a23c8>,\n",
       " <matplotlib.lines.Line2D at 0xc5a2518>,\n",
       " <matplotlib.lines.Line2D at 0xc5a2668>,\n",
       " <matplotlib.lines.Line2D at 0xc5a27b8>,\n",
       " <matplotlib.lines.Line2D at 0xc5a2908>,\n",
       " <matplotlib.lines.Line2D at 0xc5a2a58>,\n",
       " <matplotlib.lines.Line2D at 0xc5a2ba8>,\n",
       " <matplotlib.lines.Line2D at 0xc5a2cf8>,\n",
       " <matplotlib.lines.Line2D at 0xc5a2e48>,\n",
       " <matplotlib.lines.Line2D at 0xc5a2f98>,\n",
       " <matplotlib.lines.Line2D at 0xc5a7128>,\n",
       " <matplotlib.lines.Line2D at 0xc5a7278>,\n",
       " <matplotlib.lines.Line2D at 0xc5a73c8>,\n",
       " <matplotlib.lines.Line2D at 0xc5a7518>,\n",
       " <matplotlib.lines.Line2D at 0xc5a7668>,\n",
       " <matplotlib.lines.Line2D at 0xc5a77b8>,\n",
       " <matplotlib.lines.Line2D at 0xc5a7908>,\n",
       " <matplotlib.lines.Line2D at 0xc5a7a58>,\n",
       " <matplotlib.lines.Line2D at 0xc5a7ba8>,\n",
       " <matplotlib.lines.Line2D at 0xc5a7cf8>,\n",
       " <matplotlib.lines.Line2D at 0xc5a7e48>,\n",
       " <matplotlib.lines.Line2D at 0xc5a7f98>,\n",
       " <matplotlib.lines.Line2D at 0xc5ac128>,\n",
       " <matplotlib.lines.Line2D at 0xc5ac278>,\n",
       " <matplotlib.lines.Line2D at 0xc5ac3c8>,\n",
       " <matplotlib.lines.Line2D at 0xc5ac518>,\n",
       " <matplotlib.lines.Line2D at 0xc5ac668>,\n",
       " <matplotlib.lines.Line2D at 0xc5ac7b8>,\n",
       " <matplotlib.lines.Line2D at 0xc5ac908>,\n",
       " <matplotlib.lines.Line2D at 0xc5aca58>,\n",
       " <matplotlib.lines.Line2D at 0xc5acba8>,\n",
       " <matplotlib.lines.Line2D at 0xc5accf8>,\n",
       " <matplotlib.lines.Line2D at 0xc5ace48>,\n",
       " <matplotlib.lines.Line2D at 0xc5acf98>,\n",
       " <matplotlib.lines.Line2D at 0xc5b1128>,\n",
       " <matplotlib.lines.Line2D at 0xc5b1278>,\n",
       " <matplotlib.lines.Line2D at 0xc5b13c8>,\n",
       " <matplotlib.lines.Line2D at 0xc5b1518>,\n",
       " <matplotlib.lines.Line2D at 0xc5b1668>,\n",
       " <matplotlib.lines.Line2D at 0xc5b17b8>,\n",
       " <matplotlib.lines.Line2D at 0xc5b1908>,\n",
       " <matplotlib.lines.Line2D at 0xc5b1a58>,\n",
       " <matplotlib.lines.Line2D at 0xc5b1ba8>,\n",
       " <matplotlib.lines.Line2D at 0xc5b1cf8>,\n",
       " <matplotlib.lines.Line2D at 0xc5b1e48>,\n",
       " <matplotlib.lines.Line2D at 0xc5b1f98>,\n",
       " <matplotlib.lines.Line2D at 0xc5b7128>,\n",
       " <matplotlib.lines.Line2D at 0xc5b7278>,\n",
       " <matplotlib.lines.Line2D at 0xc5b73c8>,\n",
       " <matplotlib.lines.Line2D at 0xc5b7518>,\n",
       " <matplotlib.lines.Line2D at 0xc5b7668>,\n",
       " <matplotlib.lines.Line2D at 0xc5b77b8>,\n",
       " <matplotlib.lines.Line2D at 0xc5b7908>,\n",
       " <matplotlib.lines.Line2D at 0xc5b7a58>,\n",
       " <matplotlib.lines.Line2D at 0xc5b7ba8>,\n",
       " <matplotlib.lines.Line2D at 0xc5b7cf8>,\n",
       " <matplotlib.lines.Line2D at 0xc5b7e48>,\n",
       " <matplotlib.lines.Line2D at 0xc5b7f98>,\n",
       " <matplotlib.lines.Line2D at 0xc5bb128>,\n",
       " <matplotlib.lines.Line2D at 0xc5bb278>,\n",
       " <matplotlib.lines.Line2D at 0xc5bb3c8>,\n",
       " <matplotlib.lines.Line2D at 0xc5bb518>,\n",
       " <matplotlib.lines.Line2D at 0xc5bb668>,\n",
       " <matplotlib.lines.Line2D at 0xc5bb7b8>,\n",
       " <matplotlib.lines.Line2D at 0xc5bb908>,\n",
       " <matplotlib.lines.Line2D at 0xc5bba58>,\n",
       " <matplotlib.lines.Line2D at 0xc5bbba8>,\n",
       " <matplotlib.lines.Line2D at 0xc5bbcf8>,\n",
       " <matplotlib.lines.Line2D at 0xc5bbe48>,\n",
       " <matplotlib.lines.Line2D at 0xc5bbf98>,\n",
       " <matplotlib.lines.Line2D at 0xc5c0128>,\n",
       " <matplotlib.lines.Line2D at 0xc5c0278>,\n",
       " <matplotlib.lines.Line2D at 0xc5c03c8>,\n",
       " <matplotlib.lines.Line2D at 0xc5c0518>,\n",
       " <matplotlib.lines.Line2D at 0xc5c0668>,\n",
       " <matplotlib.lines.Line2D at 0xc5c07b8>,\n",
       " <matplotlib.lines.Line2D at 0xc5c0908>,\n",
       " <matplotlib.lines.Line2D at 0xc5c0a58>,\n",
       " <matplotlib.lines.Line2D at 0xc5c0ba8>,\n",
       " <matplotlib.lines.Line2D at 0xc5c0cf8>,\n",
       " <matplotlib.lines.Line2D at 0xc5c0e48>,\n",
       " <matplotlib.lines.Line2D at 0xc5c0f98>,\n",
       " <matplotlib.lines.Line2D at 0xc5c5128>,\n",
       " <matplotlib.lines.Line2D at 0xc5c5278>,\n",
       " <matplotlib.lines.Line2D at 0xc5c53c8>,\n",
       " <matplotlib.lines.Line2D at 0xc5c5518>,\n",
       " <matplotlib.lines.Line2D at 0xc5c5668>,\n",
       " <matplotlib.lines.Line2D at 0xc5c57b8>,\n",
       " <matplotlib.lines.Line2D at 0xc5c5908>,\n",
       " <matplotlib.lines.Line2D at 0xc5c5a58>,\n",
       " <matplotlib.lines.Line2D at 0xc5c5ba8>,\n",
       " <matplotlib.lines.Line2D at 0xc5c5cf8>,\n",
       " <matplotlib.lines.Line2D at 0xc5c5e48>,\n",
       " <matplotlib.lines.Line2D at 0xc5c5f98>,\n",
       " <matplotlib.lines.Line2D at 0xc5cb128>,\n",
       " <matplotlib.lines.Line2D at 0xc5cb278>,\n",
       " <matplotlib.lines.Line2D at 0xc5cb3c8>,\n",
       " <matplotlib.lines.Line2D at 0xc5cb518>,\n",
       " <matplotlib.lines.Line2D at 0xc5cb668>,\n",
       " <matplotlib.lines.Line2D at 0xc5cb7b8>,\n",
       " <matplotlib.lines.Line2D at 0xc5cb908>,\n",
       " <matplotlib.lines.Line2D at 0xc5cba58>,\n",
       " <matplotlib.lines.Line2D at 0xc5cbba8>,\n",
       " <matplotlib.lines.Line2D at 0xc5cbcf8>,\n",
       " <matplotlib.lines.Line2D at 0xc5cbe48>,\n",
       " <matplotlib.lines.Line2D at 0xc5cbf98>,\n",
       " <matplotlib.lines.Line2D at 0xc5d0128>,\n",
       " <matplotlib.lines.Line2D at 0xc5d0278>,\n",
       " <matplotlib.lines.Line2D at 0xc5d03c8>,\n",
       " <matplotlib.lines.Line2D at 0xc5d0518>,\n",
       " <matplotlib.lines.Line2D at 0xc5d0668>,\n",
       " <matplotlib.lines.Line2D at 0xc5d07b8>,\n",
       " <matplotlib.lines.Line2D at 0xc5d0908>,\n",
       " <matplotlib.lines.Line2D at 0xc5d0a58>,\n",
       " <matplotlib.lines.Line2D at 0xc5d0ba8>,\n",
       " <matplotlib.lines.Line2D at 0xc5d0cf8>,\n",
       " <matplotlib.lines.Line2D at 0xc5d0e48>,\n",
       " <matplotlib.lines.Line2D at 0xc5d0f98>,\n",
       " <matplotlib.lines.Line2D at 0xc5d5128>,\n",
       " <matplotlib.lines.Line2D at 0xc5d5278>,\n",
       " <matplotlib.lines.Line2D at 0xc5d53c8>,\n",
       " <matplotlib.lines.Line2D at 0xc5d5518>,\n",
       " <matplotlib.lines.Line2D at 0xc5d5668>,\n",
       " <matplotlib.lines.Line2D at 0xc5d57b8>,\n",
       " <matplotlib.lines.Line2D at 0xc5d5908>,\n",
       " <matplotlib.lines.Line2D at 0xc5d5a58>,\n",
       " <matplotlib.lines.Line2D at 0xc5d5ba8>,\n",
       " <matplotlib.lines.Line2D at 0xc5d5cf8>,\n",
       " <matplotlib.lines.Line2D at 0xc5d5e48>,\n",
       " <matplotlib.lines.Line2D at 0xc5d5f98>,\n",
       " <matplotlib.lines.Line2D at 0xc5db128>,\n",
       " <matplotlib.lines.Line2D at 0xc5db278>,\n",
       " <matplotlib.lines.Line2D at 0xc5db3c8>,\n",
       " <matplotlib.lines.Line2D at 0xc5db518>,\n",
       " <matplotlib.lines.Line2D at 0xc5db668>,\n",
       " <matplotlib.lines.Line2D at 0xc5db7b8>,\n",
       " <matplotlib.lines.Line2D at 0xc5db908>,\n",
       " <matplotlib.lines.Line2D at 0xc5dba58>,\n",
       " <matplotlib.lines.Line2D at 0xc5dbba8>,\n",
       " <matplotlib.lines.Line2D at 0xc5dbcf8>,\n",
       " <matplotlib.lines.Line2D at 0xc5dbe48>,\n",
       " <matplotlib.lines.Line2D at 0xc5dbf98>,\n",
       " <matplotlib.lines.Line2D at 0xc5df128>,\n",
       " <matplotlib.lines.Line2D at 0xc5df278>,\n",
       " <matplotlib.lines.Line2D at 0xc5df3c8>,\n",
       " <matplotlib.lines.Line2D at 0xc5df518>,\n",
       " <matplotlib.lines.Line2D at 0xc5df668>,\n",
       " <matplotlib.lines.Line2D at 0xc5df7b8>,\n",
       " <matplotlib.lines.Line2D at 0xc5df908>,\n",
       " <matplotlib.lines.Line2D at 0xc5dfa58>,\n",
       " <matplotlib.lines.Line2D at 0xc5dfba8>,\n",
       " <matplotlib.lines.Line2D at 0xc5dfcf8>,\n",
       " <matplotlib.lines.Line2D at 0xc5dfe48>,\n",
       " <matplotlib.lines.Line2D at 0xc5dff98>,\n",
       " <matplotlib.lines.Line2D at 0xc5e4128>,\n",
       " <matplotlib.lines.Line2D at 0xc5e4278>,\n",
       " <matplotlib.lines.Line2D at 0xc5e43c8>,\n",
       " <matplotlib.lines.Line2D at 0xc5e4518>,\n",
       " <matplotlib.lines.Line2D at 0xc5e4668>,\n",
       " <matplotlib.lines.Line2D at 0xc5e47b8>,\n",
       " <matplotlib.lines.Line2D at 0xc5e4908>,\n",
       " <matplotlib.lines.Line2D at 0xc5e4a58>,\n",
       " <matplotlib.lines.Line2D at 0xc5e4ba8>,\n",
       " <matplotlib.lines.Line2D at 0xc5e4cf8>,\n",
       " <matplotlib.lines.Line2D at 0xc5e4e48>,\n",
       " <matplotlib.lines.Line2D at 0xc5e4f98>,\n",
       " <matplotlib.lines.Line2D at 0xc5e8128>,\n",
       " <matplotlib.lines.Line2D at 0xc5e8278>,\n",
       " <matplotlib.lines.Line2D at 0xc5e83c8>,\n",
       " <matplotlib.lines.Line2D at 0xc5e8518>,\n",
       " <matplotlib.lines.Line2D at 0xc5e8668>,\n",
       " <matplotlib.lines.Line2D at 0xc5e87b8>,\n",
       " <matplotlib.lines.Line2D at 0xc5e8908>,\n",
       " <matplotlib.lines.Line2D at 0xc5e8a58>,\n",
       " <matplotlib.lines.Line2D at 0xc5e8ba8>,\n",
       " <matplotlib.lines.Line2D at 0xc5e8cf8>,\n",
       " <matplotlib.lines.Line2D at 0xc5e8e48>,\n",
       " <matplotlib.lines.Line2D at 0xc5e8f98>,\n",
       " <matplotlib.lines.Line2D at 0xc5ef128>,\n",
       " <matplotlib.lines.Line2D at 0xc5ef278>,\n",
       " <matplotlib.lines.Line2D at 0xc5ef3c8>,\n",
       " <matplotlib.lines.Line2D at 0xc5ef518>,\n",
       " <matplotlib.lines.Line2D at 0xc5ef668>,\n",
       " <matplotlib.lines.Line2D at 0xc5ef7b8>,\n",
       " <matplotlib.lines.Line2D at 0xc5ef908>,\n",
       " <matplotlib.lines.Line2D at 0xc5efa58>,\n",
       " <matplotlib.lines.Line2D at 0xc5efba8>,\n",
       " <matplotlib.lines.Line2D at 0xc5efcf8>,\n",
       " <matplotlib.lines.Line2D at 0xc5efe48>,\n",
       " <matplotlib.lines.Line2D at 0xc5eff98>,\n",
       " <matplotlib.lines.Line2D at 0xc5f3128>,\n",
       " <matplotlib.lines.Line2D at 0xc5f3278>,\n",
       " <matplotlib.lines.Line2D at 0xc5f33c8>,\n",
       " <matplotlib.lines.Line2D at 0xc5f3518>,\n",
       " <matplotlib.lines.Line2D at 0xc5f3668>,\n",
       " <matplotlib.lines.Line2D at 0xc5f37b8>,\n",
       " <matplotlib.lines.Line2D at 0xc5f3908>,\n",
       " <matplotlib.lines.Line2D at 0xc5f3a58>,\n",
       " <matplotlib.lines.Line2D at 0xc5f3ba8>,\n",
       " <matplotlib.lines.Line2D at 0xc5f3cf8>,\n",
       " <matplotlib.lines.Line2D at 0xc5f3e48>,\n",
       " <matplotlib.lines.Line2D at 0xc5f3f98>,\n",
       " <matplotlib.lines.Line2D at 0xc5f9128>,\n",
       " <matplotlib.lines.Line2D at 0xc5f9278>,\n",
       " <matplotlib.lines.Line2D at 0xc5f93c8>,\n",
       " <matplotlib.lines.Line2D at 0xc5f9518>,\n",
       " <matplotlib.lines.Line2D at 0xc5f9668>,\n",
       " <matplotlib.lines.Line2D at 0xc5f97b8>,\n",
       " <matplotlib.lines.Line2D at 0xc5f9908>,\n",
       " <matplotlib.lines.Line2D at 0xc5f9a58>,\n",
       " <matplotlib.lines.Line2D at 0xc5f9ba8>,\n",
       " <matplotlib.lines.Line2D at 0xc5f9cf8>,\n",
       " <matplotlib.lines.Line2D at 0xc5f9e48>,\n",
       " <matplotlib.lines.Line2D at 0xc5f9f98>,\n",
       " <matplotlib.lines.Line2D at 0xc5fe128>,\n",
       " <matplotlib.lines.Line2D at 0xc5fe278>,\n",
       " <matplotlib.lines.Line2D at 0xc5fe3c8>,\n",
       " <matplotlib.lines.Line2D at 0xc5fe518>,\n",
       " <matplotlib.lines.Line2D at 0xc5fe668>,\n",
       " <matplotlib.lines.Line2D at 0xc5fe7b8>,\n",
       " <matplotlib.lines.Line2D at 0xc5fe908>,\n",
       " <matplotlib.lines.Line2D at 0xc5fea58>,\n",
       " <matplotlib.lines.Line2D at 0xc5feba8>,\n",
       " <matplotlib.lines.Line2D at 0xc5fecf8>,\n",
       " <matplotlib.lines.Line2D at 0xc5fee48>,\n",
       " <matplotlib.lines.Line2D at 0xc5fef98>,\n",
       " <matplotlib.lines.Line2D at 0xc604128>,\n",
       " <matplotlib.lines.Line2D at 0xc604278>,\n",
       " <matplotlib.lines.Line2D at 0xc6043c8>,\n",
       " <matplotlib.lines.Line2D at 0xc604518>,\n",
       " <matplotlib.lines.Line2D at 0xc604668>,\n",
       " <matplotlib.lines.Line2D at 0xc6047b8>,\n",
       " <matplotlib.lines.Line2D at 0xc604908>,\n",
       " <matplotlib.lines.Line2D at 0xc604a58>,\n",
       " <matplotlib.lines.Line2D at 0xc604ba8>,\n",
       " <matplotlib.lines.Line2D at 0xc604cf8>,\n",
       " <matplotlib.lines.Line2D at 0xc604e48>,\n",
       " <matplotlib.lines.Line2D at 0xc604f98>,\n",
       " <matplotlib.lines.Line2D at 0xc608128>,\n",
       " <matplotlib.lines.Line2D at 0xc608278>,\n",
       " <matplotlib.lines.Line2D at 0xc6083c8>,\n",
       " <matplotlib.lines.Line2D at 0xc608518>,\n",
       " <matplotlib.lines.Line2D at 0xc608668>,\n",
       " <matplotlib.lines.Line2D at 0xc6087b8>,\n",
       " <matplotlib.lines.Line2D at 0xc608908>,\n",
       " <matplotlib.lines.Line2D at 0xc608a58>,\n",
       " <matplotlib.lines.Line2D at 0xc608ba8>,\n",
       " <matplotlib.lines.Line2D at 0xc608cf8>,\n",
       " <matplotlib.lines.Line2D at 0xc608e48>,\n",
       " <matplotlib.lines.Line2D at 0xc608f98>,\n",
       " <matplotlib.lines.Line2D at 0xc60e128>,\n",
       " <matplotlib.lines.Line2D at 0xc60e278>,\n",
       " <matplotlib.lines.Line2D at 0xc60e3c8>,\n",
       " <matplotlib.lines.Line2D at 0xc60e518>,\n",
       " <matplotlib.lines.Line2D at 0xc60e668>,\n",
       " <matplotlib.lines.Line2D at 0xc60e7b8>,\n",
       " <matplotlib.lines.Line2D at 0xc60e908>,\n",
       " <matplotlib.lines.Line2D at 0xc60ea58>,\n",
       " <matplotlib.lines.Line2D at 0xc60eba8>,\n",
       " <matplotlib.lines.Line2D at 0xc60ecf8>,\n",
       " <matplotlib.lines.Line2D at 0xc60ee48>,\n",
       " <matplotlib.lines.Line2D at 0xc60ef98>,\n",
       " <matplotlib.lines.Line2D at 0xc612128>,\n",
       " <matplotlib.lines.Line2D at 0xc612278>,\n",
       " <matplotlib.lines.Line2D at 0xc6123c8>,\n",
       " <matplotlib.lines.Line2D at 0xc612518>,\n",
       " <matplotlib.lines.Line2D at 0xc612668>,\n",
       " <matplotlib.lines.Line2D at 0xc6127b8>,\n",
       " <matplotlib.lines.Line2D at 0xc612908>,\n",
       " <matplotlib.lines.Line2D at 0xc612a58>,\n",
       " <matplotlib.lines.Line2D at 0xc612ba8>,\n",
       " <matplotlib.lines.Line2D at 0xc612cf8>,\n",
       " <matplotlib.lines.Line2D at 0xc612e48>,\n",
       " <matplotlib.lines.Line2D at 0xc612f98>,\n",
       " <matplotlib.lines.Line2D at 0xc618128>,\n",
       " <matplotlib.lines.Line2D at 0xc618278>,\n",
       " <matplotlib.lines.Line2D at 0xc6183c8>,\n",
       " <matplotlib.lines.Line2D at 0xc618518>,\n",
       " <matplotlib.lines.Line2D at 0xc618668>,\n",
       " <matplotlib.lines.Line2D at 0xc6187b8>,\n",
       " <matplotlib.lines.Line2D at 0xc618908>]"
      ]
     },
     "execution_count": 170,
     "metadata": {},
     "output_type": "execute_result"
    }
   ],
   "source": [
    "plt.plot(steps)"
   ]
  },
  {
   "cell_type": "code",
   "execution_count": null,
   "metadata": {},
   "outputs": [],
   "source": []
  }
 ],
 "metadata": {
  "kernelspec": {
   "display_name": "Python 3",
   "language": "python",
   "name": "python3"
  },
  "language_info": {
   "codemirror_mode": {
    "name": "ipython",
    "version": 3
   },
   "file_extension": ".py",
   "mimetype": "text/x-python",
   "name": "python",
   "nbconvert_exporter": "python",
   "pygments_lexer": "ipython3",
   "version": "3.6.4"
  }
 },
 "nbformat": 4,
 "nbformat_minor": 2
}
